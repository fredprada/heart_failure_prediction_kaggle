{
  "nbformat": 4,
  "nbformat_minor": 0,
  "metadata": {
    "colab": {
      "name": "Heart_Failure_predictive_analysis.ipynb",
      "provenance": [],
      "collapsed_sections": [
        "zIOAGafTYKFj",
        "2we_EiNNwz2M",
        "AG-l32vRe1Pj",
        "ChZnqik2fRRJ",
        "SDL4mJm-uVXQ"
      ],
      "authorship_tag": "ABX9TyN3PAuk3P26Mt6+wmi3NEgv",
      "include_colab_link": true
    },
    "kernelspec": {
      "name": "python3",
      "display_name": "Python 3"
    },
    "language_info": {
      "name": "python"
    }
  },
  "cells": [
    {
      "cell_type": "markdown",
      "metadata": {
        "id": "view-in-github",
        "colab_type": "text"
      },
      "source": [
        "<a href=\"https://colab.research.google.com/github/fredprada/heart_failure_prediction_kaggle/blob/main/Heart_Failure_predictive_analysis.ipynb\" target=\"_parent\"><img src=\"https://colab.research.google.com/assets/colab-badge.svg\" alt=\"Open In Colab\"/></a>"
      ]
    },
    {
      "cell_type": "code",
      "source": [
        "\n",
        "# #Data Exploration libraries\n",
        "\n",
        "# import scipy\n",
        "# #Advanced tools\n",
        "# import itertools\n",
        "\n",
        "# # Pickle will be needed to save the models\n",
        "# import pickle\n",
        "# from sklearn.neighbors import KNeighborsClassifier\n",
        "# from sklearn.model_selection import train_test_split\n",
        "# from sklearn.metrics import accuracy_score\n",
        "# from sklearn.tree import DecisionTreeClassifier\n",
        "# from sklearn.model_selection import train_test_split"
      ],
      "metadata": {
        "id": "_HcZehCP8g8r"
      },
      "execution_count": 46,
      "outputs": []
    },
    {
      "cell_type": "markdown",
      "source": [
        "# Importing and Opening database"
      ],
      "metadata": {
        "id": "zIOAGafTYKFj"
      }
    },
    {
      "cell_type": "markdown",
      "source": [
        "## Importing"
      ],
      "metadata": {
        "id": "93X7hLRQYjSG"
      }
    },
    {
      "cell_type": "code",
      "source": [
        "import pandas as pd\n",
        "import numpy as np\n",
        "import matplotlib.pyplot as plt"
      ],
      "metadata": {
        "id": "Jy8B9hdMX68-"
      },
      "execution_count": 47,
      "outputs": []
    },
    {
      "cell_type": "code",
      "execution_count": 48,
      "metadata": {
        "id": "n6bFEeH15fc9",
        "colab": {
          "base_uri": "https://localhost:8080/",
          "height": 206
        },
        "outputId": "36bd261d-7609-45c4-deb9-0747c8e1c4fc"
      },
      "outputs": [
        {
          "output_type": "execute_result",
          "data": {
            "text/plain": [
              "    age  anaemia  creatinine_phosphokinase  diabetes  ejection_fraction  \\\n",
              "0  75.0        0                       582         0                 20   \n",
              "1  55.0        0                      7861         0                 38   \n",
              "2  65.0        0                       146         0                 20   \n",
              "3  50.0        1                       111         0                 20   \n",
              "4  65.0        1                       160         1                 20   \n",
              "\n",
              "   high_blood_pressure  platelets  serum_creatinine  serum_sodium  sex  \\\n",
              "0                    1  265000.00               1.9           130    1   \n",
              "1                    0  263358.03               1.1           136    1   \n",
              "2                    0  162000.00               1.3           129    1   \n",
              "3                    0  210000.00               1.9           137    1   \n",
              "4                    0  327000.00               2.7           116    0   \n",
              "\n",
              "   smoking  time  DEATH_EVENT  \n",
              "0        0     4            1  \n",
              "1        0     6            1  \n",
              "2        1     7            1  \n",
              "3        0     7            1  \n",
              "4        0     8            1  "
            ],
            "text/html": [
              "\n",
              "  <div id=\"df-9222003d-82e7-45f2-bdab-6f696d184736\">\n",
              "    <div class=\"colab-df-container\">\n",
              "      <div>\n",
              "<style scoped>\n",
              "    .dataframe tbody tr th:only-of-type {\n",
              "        vertical-align: middle;\n",
              "    }\n",
              "\n",
              "    .dataframe tbody tr th {\n",
              "        vertical-align: top;\n",
              "    }\n",
              "\n",
              "    .dataframe thead th {\n",
              "        text-align: right;\n",
              "    }\n",
              "</style>\n",
              "<table border=\"1\" class=\"dataframe\">\n",
              "  <thead>\n",
              "    <tr style=\"text-align: right;\">\n",
              "      <th></th>\n",
              "      <th>age</th>\n",
              "      <th>anaemia</th>\n",
              "      <th>creatinine_phosphokinase</th>\n",
              "      <th>diabetes</th>\n",
              "      <th>ejection_fraction</th>\n",
              "      <th>high_blood_pressure</th>\n",
              "      <th>platelets</th>\n",
              "      <th>serum_creatinine</th>\n",
              "      <th>serum_sodium</th>\n",
              "      <th>sex</th>\n",
              "      <th>smoking</th>\n",
              "      <th>time</th>\n",
              "      <th>DEATH_EVENT</th>\n",
              "    </tr>\n",
              "  </thead>\n",
              "  <tbody>\n",
              "    <tr>\n",
              "      <th>0</th>\n",
              "      <td>75.0</td>\n",
              "      <td>0</td>\n",
              "      <td>582</td>\n",
              "      <td>0</td>\n",
              "      <td>20</td>\n",
              "      <td>1</td>\n",
              "      <td>265000.00</td>\n",
              "      <td>1.9</td>\n",
              "      <td>130</td>\n",
              "      <td>1</td>\n",
              "      <td>0</td>\n",
              "      <td>4</td>\n",
              "      <td>1</td>\n",
              "    </tr>\n",
              "    <tr>\n",
              "      <th>1</th>\n",
              "      <td>55.0</td>\n",
              "      <td>0</td>\n",
              "      <td>7861</td>\n",
              "      <td>0</td>\n",
              "      <td>38</td>\n",
              "      <td>0</td>\n",
              "      <td>263358.03</td>\n",
              "      <td>1.1</td>\n",
              "      <td>136</td>\n",
              "      <td>1</td>\n",
              "      <td>0</td>\n",
              "      <td>6</td>\n",
              "      <td>1</td>\n",
              "    </tr>\n",
              "    <tr>\n",
              "      <th>2</th>\n",
              "      <td>65.0</td>\n",
              "      <td>0</td>\n",
              "      <td>146</td>\n",
              "      <td>0</td>\n",
              "      <td>20</td>\n",
              "      <td>0</td>\n",
              "      <td>162000.00</td>\n",
              "      <td>1.3</td>\n",
              "      <td>129</td>\n",
              "      <td>1</td>\n",
              "      <td>1</td>\n",
              "      <td>7</td>\n",
              "      <td>1</td>\n",
              "    </tr>\n",
              "    <tr>\n",
              "      <th>3</th>\n",
              "      <td>50.0</td>\n",
              "      <td>1</td>\n",
              "      <td>111</td>\n",
              "      <td>0</td>\n",
              "      <td>20</td>\n",
              "      <td>0</td>\n",
              "      <td>210000.00</td>\n",
              "      <td>1.9</td>\n",
              "      <td>137</td>\n",
              "      <td>1</td>\n",
              "      <td>0</td>\n",
              "      <td>7</td>\n",
              "      <td>1</td>\n",
              "    </tr>\n",
              "    <tr>\n",
              "      <th>4</th>\n",
              "      <td>65.0</td>\n",
              "      <td>1</td>\n",
              "      <td>160</td>\n",
              "      <td>1</td>\n",
              "      <td>20</td>\n",
              "      <td>0</td>\n",
              "      <td>327000.00</td>\n",
              "      <td>2.7</td>\n",
              "      <td>116</td>\n",
              "      <td>0</td>\n",
              "      <td>0</td>\n",
              "      <td>8</td>\n",
              "      <td>1</td>\n",
              "    </tr>\n",
              "  </tbody>\n",
              "</table>\n",
              "</div>\n",
              "      <button class=\"colab-df-convert\" onclick=\"convertToInteractive('df-9222003d-82e7-45f2-bdab-6f696d184736')\"\n",
              "              title=\"Convert this dataframe to an interactive table.\"\n",
              "              style=\"display:none;\">\n",
              "        \n",
              "  <svg xmlns=\"http://www.w3.org/2000/svg\" height=\"24px\"viewBox=\"0 0 24 24\"\n",
              "       width=\"24px\">\n",
              "    <path d=\"M0 0h24v24H0V0z\" fill=\"none\"/>\n",
              "    <path d=\"M18.56 5.44l.94 2.06.94-2.06 2.06-.94-2.06-.94-.94-2.06-.94 2.06-2.06.94zm-11 1L8.5 8.5l.94-2.06 2.06-.94-2.06-.94L8.5 2.5l-.94 2.06-2.06.94zm10 10l.94 2.06.94-2.06 2.06-.94-2.06-.94-.94-2.06-.94 2.06-2.06.94z\"/><path d=\"M17.41 7.96l-1.37-1.37c-.4-.4-.92-.59-1.43-.59-.52 0-1.04.2-1.43.59L10.3 9.45l-7.72 7.72c-.78.78-.78 2.05 0 2.83L4 21.41c.39.39.9.59 1.41.59.51 0 1.02-.2 1.41-.59l7.78-7.78 2.81-2.81c.8-.78.8-2.07 0-2.86zM5.41 20L4 18.59l7.72-7.72 1.47 1.35L5.41 20z\"/>\n",
              "  </svg>\n",
              "      </button>\n",
              "      \n",
              "  <style>\n",
              "    .colab-df-container {\n",
              "      display:flex;\n",
              "      flex-wrap:wrap;\n",
              "      gap: 12px;\n",
              "    }\n",
              "\n",
              "    .colab-df-convert {\n",
              "      background-color: #E8F0FE;\n",
              "      border: none;\n",
              "      border-radius: 50%;\n",
              "      cursor: pointer;\n",
              "      display: none;\n",
              "      fill: #1967D2;\n",
              "      height: 32px;\n",
              "      padding: 0 0 0 0;\n",
              "      width: 32px;\n",
              "    }\n",
              "\n",
              "    .colab-df-convert:hover {\n",
              "      background-color: #E2EBFA;\n",
              "      box-shadow: 0px 1px 2px rgba(60, 64, 67, 0.3), 0px 1px 3px 1px rgba(60, 64, 67, 0.15);\n",
              "      fill: #174EA6;\n",
              "    }\n",
              "\n",
              "    [theme=dark] .colab-df-convert {\n",
              "      background-color: #3B4455;\n",
              "      fill: #D2E3FC;\n",
              "    }\n",
              "\n",
              "    [theme=dark] .colab-df-convert:hover {\n",
              "      background-color: #434B5C;\n",
              "      box-shadow: 0px 1px 3px 1px rgba(0, 0, 0, 0.15);\n",
              "      filter: drop-shadow(0px 1px 2px rgba(0, 0, 0, 0.3));\n",
              "      fill: #FFFFFF;\n",
              "    }\n",
              "  </style>\n",
              "\n",
              "      <script>\n",
              "        const buttonEl =\n",
              "          document.querySelector('#df-9222003d-82e7-45f2-bdab-6f696d184736 button.colab-df-convert');\n",
              "        buttonEl.style.display =\n",
              "          google.colab.kernel.accessAllowed ? 'block' : 'none';\n",
              "\n",
              "        async function convertToInteractive(key) {\n",
              "          const element = document.querySelector('#df-9222003d-82e7-45f2-bdab-6f696d184736');\n",
              "          const dataTable =\n",
              "            await google.colab.kernel.invokeFunction('convertToInteractive',\n",
              "                                                     [key], {});\n",
              "          if (!dataTable) return;\n",
              "\n",
              "          const docLinkHtml = 'Like what you see? Visit the ' +\n",
              "            '<a target=\"_blank\" href=https://colab.research.google.com/notebooks/data_table.ipynb>data table notebook</a>'\n",
              "            + ' to learn more about interactive tables.';\n",
              "          element.innerHTML = '';\n",
              "          dataTable['output_type'] = 'display_data';\n",
              "          await google.colab.output.renderOutput(dataTable, element);\n",
              "          const docLink = document.createElement('div');\n",
              "          docLink.innerHTML = docLinkHtml;\n",
              "          element.appendChild(docLink);\n",
              "        }\n",
              "      </script>\n",
              "    </div>\n",
              "  </div>\n",
              "  "
            ]
          },
          "metadata": {},
          "execution_count": 48
        }
      ],
      "source": [
        "path = 'https://raw.githubusercontent.com/fredprada/heart_failure_prediction_kaggle/main/heart_failure_clinical_records_dataset.csv'\n",
        "df = pd.read_csv(path)\n",
        "df.head()"
      ]
    },
    {
      "cell_type": "markdown",
      "source": [
        "## Understanding the data"
      ],
      "metadata": {
        "id": "4N7AzLBqYmoO"
      }
    },
    {
      "cell_type": "markdown",
      "source": [
        "The following data is presented together with the dataset on kaggle:\n",
        "\n",
        "* Age\n",
        " * Age of the patient\n",
        " * years\n",
        "* Anaemia\n",
        " * Decrease of red blood cells or hemoglobin\n",
        " * 1 - Yes\n",
        " * 0 - No\n",
        "* High blood pressure\n",
        " * if a patient has hypertension\n",
        " * 1 - Yes\n",
        " * 0 - No\n",
        "* Creatinine phosphokinase\n",
        " * Level of the CPK enzyme in the blood\n",
        " * mcg/L\n",
        "* Diabetes\n",
        " * if the patient has diabetes\n",
        " * 1 - Yes\n",
        " * 0 - No\n",
        "* Ejection fraction\n",
        " * percentage of the blood leaving\n",
        " * %\n",
        "* Sex\n",
        " * 1 - Male\n",
        " * 0 - Female\n",
        "* Platelets\n",
        " * platelets in the blood\n",
        " * kiloplatelets/mL\n",
        "* Serum creatinine\n",
        " * level of creatinine in the blood\n",
        " * mg/dL\n",
        "* Serum sodium\n",
        " * level of sodium in the blood\n",
        " * mE1/L\n",
        "* Smoking\n",
        " * if the patient smokes\n",
        " * 1 - Yes\n",
        " * 0 - No\n",
        "* Time\n",
        " * follow-up period\n",
        " * days\n",
        "* death event (target)\n",
        " * if the patient died during the follow-up period"
      ],
      "metadata": {
        "id": "9SB1szEqY82I"
      }
    },
    {
      "cell_type": "markdown",
      "source": [
        "# Lets explore the data"
      ],
      "metadata": {
        "id": "HF3ClFywYRzr"
      }
    },
    {
      "cell_type": "markdown",
      "source": [
        "## Data types and columns corrections"
      ],
      "metadata": {
        "id": "2we_EiNNwz2M"
      }
    },
    {
      "cell_type": "code",
      "source": [
        "df.info()"
      ],
      "metadata": {
        "colab": {
          "base_uri": "https://localhost:8080/"
        },
        "id": "obxteg348vc0",
        "outputId": "143710af-4d37-4301-d534-3ec5c3110877"
      },
      "execution_count": 49,
      "outputs": [
        {
          "output_type": "stream",
          "name": "stdout",
          "text": [
            "<class 'pandas.core.frame.DataFrame'>\n",
            "RangeIndex: 299 entries, 0 to 298\n",
            "Data columns (total 13 columns):\n",
            " #   Column                    Non-Null Count  Dtype  \n",
            "---  ------                    --------------  -----  \n",
            " 0   age                       299 non-null    float64\n",
            " 1   anaemia                   299 non-null    int64  \n",
            " 2   creatinine_phosphokinase  299 non-null    int64  \n",
            " 3   diabetes                  299 non-null    int64  \n",
            " 4   ejection_fraction         299 non-null    int64  \n",
            " 5   high_blood_pressure       299 non-null    int64  \n",
            " 6   platelets                 299 non-null    float64\n",
            " 7   serum_creatinine          299 non-null    float64\n",
            " 8   serum_sodium              299 non-null    int64  \n",
            " 9   sex                       299 non-null    int64  \n",
            " 10  smoking                   299 non-null    int64  \n",
            " 11  time                      299 non-null    int64  \n",
            " 12  DEATH_EVENT               299 non-null    int64  \n",
            "dtypes: float64(3), int64(10)\n",
            "memory usage: 30.5 KB\n"
          ]
        }
      ]
    },
    {
      "cell_type": "markdown",
      "source": [
        "The following columns are categorized incorrectly, and should be boolean:\n",
        "<br>\n",
        "* Smoking\n",
        "* Anaemia\n",
        "* Diabetes\n",
        "* High blood pressure\n",
        "* Death Event\n",
        "\n",
        "\n",
        "These next columns on the other hand should be integers:\n",
        "* Age\n",
        "* Platelets\n",
        "\n",
        "\n",
        "Lets convert them:"
      ],
      "metadata": {
        "id": "cIH4sevtrDSI"
      }
    },
    {
      "cell_type": "code",
      "source": [
        "df = df.astype({'smoking':'bool', 'anaemia':'bool', 'diabetes':'bool','high_blood_pressure':'bool','DEATH_EVENT':'bool', 'age':int, 'platelets':int})"
      ],
      "metadata": {
        "id": "_4tTLOEFc50-"
      },
      "execution_count": 50,
      "outputs": []
    },
    {
      "cell_type": "code",
      "source": [
        "df.info()"
      ],
      "metadata": {
        "colab": {
          "base_uri": "https://localhost:8080/"
        },
        "id": "2sUP2I2DqhCI",
        "outputId": "b541746d-23e7-4563-d214-e338806d3950"
      },
      "execution_count": 51,
      "outputs": [
        {
          "output_type": "stream",
          "name": "stdout",
          "text": [
            "<class 'pandas.core.frame.DataFrame'>\n",
            "RangeIndex: 299 entries, 0 to 298\n",
            "Data columns (total 13 columns):\n",
            " #   Column                    Non-Null Count  Dtype  \n",
            "---  ------                    --------------  -----  \n",
            " 0   age                       299 non-null    int64  \n",
            " 1   anaemia                   299 non-null    bool   \n",
            " 2   creatinine_phosphokinase  299 non-null    int64  \n",
            " 3   diabetes                  299 non-null    bool   \n",
            " 4   ejection_fraction         299 non-null    int64  \n",
            " 5   high_blood_pressure       299 non-null    bool   \n",
            " 6   platelets                 299 non-null    int64  \n",
            " 7   serum_creatinine          299 non-null    float64\n",
            " 8   serum_sodium              299 non-null    int64  \n",
            " 9   sex                       299 non-null    int64  \n",
            " 10  smoking                   299 non-null    bool   \n",
            " 11  time                      299 non-null    int64  \n",
            " 12  DEATH_EVENT               299 non-null    bool   \n",
            "dtypes: bool(5), float64(1), int64(7)\n",
            "memory usage: 20.3 KB\n"
          ]
        }
      ]
    },
    {
      "cell_type": "markdown",
      "source": [
        "Since the column \"sex\" is defined as object and its values are 0 (female) and 1 (male), lets correct it before we move on"
      ],
      "metadata": {
        "id": "VJDqNz1ZrmqY"
      }
    },
    {
      "cell_type": "code",
      "source": [
        "df.loc[df['sex'] == 1, 'sex'] = 'male'\n",
        "df.loc[df['sex'] == 0, 'sex'] = 'female'"
      ],
      "metadata": {
        "id": "fzQVPPhVixT4"
      },
      "execution_count": 43,
      "outputs": []
    },
    {
      "cell_type": "markdown",
      "source": [
        "Now lets take a look on all our data.\n",
        "<br>\n",
        "What interest statistics can we gather from it?\n",
        "<br>\n",
        "What could help us define some "
      ],
      "metadata": {
        "id": "83IOMhbbtreA"
      }
    },
    {
      "cell_type": "code",
      "source": [
        "df.describe(include='all').T"
      ],
      "metadata": {
        "colab": {
          "base_uri": "https://localhost:8080/",
          "height": 457
        },
        "id": "MhLhidvsXhzp",
        "outputId": "e4d685ab-6bcc-473b-e46c-edf0f1de7b9a"
      },
      "execution_count": 44,
      "outputs": [
        {
          "output_type": "execute_result",
          "data": {
            "text/plain": [
              "                          count unique    top freq           mean  \\\n",
              "age                       299.0    NaN    NaN  NaN      60.829431   \n",
              "anaemia                     299      2  False  170            NaN   \n",
              "creatinine_phosphokinase  299.0    NaN    NaN  NaN     581.839465   \n",
              "diabetes                    299      2  False  174            NaN   \n",
              "ejection_fraction         299.0    NaN    NaN  NaN      38.083612   \n",
              "high_blood_pressure         299      2  False  194            NaN   \n",
              "platelets                 299.0    NaN    NaN  NaN  263358.026756   \n",
              "serum_creatinine          299.0    NaN    NaN  NaN        1.39388   \n",
              "serum_sodium              299.0    NaN    NaN  NaN     136.625418   \n",
              "sex                         299      2   male  194            NaN   \n",
              "smoking                     299      2  False  203            NaN   \n",
              "time                      299.0    NaN    NaN  NaN      130.26087   \n",
              "DEATH_EVENT                 299      2  False  203            NaN   \n",
              "\n",
              "                                   std      min       25%       50%       75%  \\\n",
              "age                          11.894997     40.0      51.0      60.0      70.0   \n",
              "anaemia                            NaN      NaN       NaN       NaN       NaN   \n",
              "creatinine_phosphokinase    970.287881     23.0     116.5     250.0     582.0   \n",
              "diabetes                           NaN      NaN       NaN       NaN       NaN   \n",
              "ejection_fraction            11.834841     14.0      30.0      38.0      45.0   \n",
              "high_blood_pressure                NaN      NaN       NaN       NaN       NaN   \n",
              "platelets                 97804.236869  25100.0  212500.0  262000.0  303500.0   \n",
              "serum_creatinine               1.03451      0.5       0.9       1.1       1.4   \n",
              "serum_sodium                  4.412477    113.0     134.0     137.0     140.0   \n",
              "sex                                NaN      NaN       NaN       NaN       NaN   \n",
              "smoking                            NaN      NaN       NaN       NaN       NaN   \n",
              "time                         77.614208      4.0      73.0     115.0     203.0   \n",
              "DEATH_EVENT                        NaN      NaN       NaN       NaN       NaN   \n",
              "\n",
              "                               max  \n",
              "age                           95.0  \n",
              "anaemia                        NaN  \n",
              "creatinine_phosphokinase    7861.0  \n",
              "diabetes                       NaN  \n",
              "ejection_fraction             80.0  \n",
              "high_blood_pressure            NaN  \n",
              "platelets                 850000.0  \n",
              "serum_creatinine               9.4  \n",
              "serum_sodium                 148.0  \n",
              "sex                            NaN  \n",
              "smoking                        NaN  \n",
              "time                         285.0  \n",
              "DEATH_EVENT                    NaN  "
            ],
            "text/html": [
              "\n",
              "  <div id=\"df-f4336284-7dc1-40db-923b-32143dfcc565\">\n",
              "    <div class=\"colab-df-container\">\n",
              "      <div>\n",
              "<style scoped>\n",
              "    .dataframe tbody tr th:only-of-type {\n",
              "        vertical-align: middle;\n",
              "    }\n",
              "\n",
              "    .dataframe tbody tr th {\n",
              "        vertical-align: top;\n",
              "    }\n",
              "\n",
              "    .dataframe thead th {\n",
              "        text-align: right;\n",
              "    }\n",
              "</style>\n",
              "<table border=\"1\" class=\"dataframe\">\n",
              "  <thead>\n",
              "    <tr style=\"text-align: right;\">\n",
              "      <th></th>\n",
              "      <th>count</th>\n",
              "      <th>unique</th>\n",
              "      <th>top</th>\n",
              "      <th>freq</th>\n",
              "      <th>mean</th>\n",
              "      <th>std</th>\n",
              "      <th>min</th>\n",
              "      <th>25%</th>\n",
              "      <th>50%</th>\n",
              "      <th>75%</th>\n",
              "      <th>max</th>\n",
              "    </tr>\n",
              "  </thead>\n",
              "  <tbody>\n",
              "    <tr>\n",
              "      <th>age</th>\n",
              "      <td>299.0</td>\n",
              "      <td>NaN</td>\n",
              "      <td>NaN</td>\n",
              "      <td>NaN</td>\n",
              "      <td>60.829431</td>\n",
              "      <td>11.894997</td>\n",
              "      <td>40.0</td>\n",
              "      <td>51.0</td>\n",
              "      <td>60.0</td>\n",
              "      <td>70.0</td>\n",
              "      <td>95.0</td>\n",
              "    </tr>\n",
              "    <tr>\n",
              "      <th>anaemia</th>\n",
              "      <td>299</td>\n",
              "      <td>2</td>\n",
              "      <td>False</td>\n",
              "      <td>170</td>\n",
              "      <td>NaN</td>\n",
              "      <td>NaN</td>\n",
              "      <td>NaN</td>\n",
              "      <td>NaN</td>\n",
              "      <td>NaN</td>\n",
              "      <td>NaN</td>\n",
              "      <td>NaN</td>\n",
              "    </tr>\n",
              "    <tr>\n",
              "      <th>creatinine_phosphokinase</th>\n",
              "      <td>299.0</td>\n",
              "      <td>NaN</td>\n",
              "      <td>NaN</td>\n",
              "      <td>NaN</td>\n",
              "      <td>581.839465</td>\n",
              "      <td>970.287881</td>\n",
              "      <td>23.0</td>\n",
              "      <td>116.5</td>\n",
              "      <td>250.0</td>\n",
              "      <td>582.0</td>\n",
              "      <td>7861.0</td>\n",
              "    </tr>\n",
              "    <tr>\n",
              "      <th>diabetes</th>\n",
              "      <td>299</td>\n",
              "      <td>2</td>\n",
              "      <td>False</td>\n",
              "      <td>174</td>\n",
              "      <td>NaN</td>\n",
              "      <td>NaN</td>\n",
              "      <td>NaN</td>\n",
              "      <td>NaN</td>\n",
              "      <td>NaN</td>\n",
              "      <td>NaN</td>\n",
              "      <td>NaN</td>\n",
              "    </tr>\n",
              "    <tr>\n",
              "      <th>ejection_fraction</th>\n",
              "      <td>299.0</td>\n",
              "      <td>NaN</td>\n",
              "      <td>NaN</td>\n",
              "      <td>NaN</td>\n",
              "      <td>38.083612</td>\n",
              "      <td>11.834841</td>\n",
              "      <td>14.0</td>\n",
              "      <td>30.0</td>\n",
              "      <td>38.0</td>\n",
              "      <td>45.0</td>\n",
              "      <td>80.0</td>\n",
              "    </tr>\n",
              "    <tr>\n",
              "      <th>high_blood_pressure</th>\n",
              "      <td>299</td>\n",
              "      <td>2</td>\n",
              "      <td>False</td>\n",
              "      <td>194</td>\n",
              "      <td>NaN</td>\n",
              "      <td>NaN</td>\n",
              "      <td>NaN</td>\n",
              "      <td>NaN</td>\n",
              "      <td>NaN</td>\n",
              "      <td>NaN</td>\n",
              "      <td>NaN</td>\n",
              "    </tr>\n",
              "    <tr>\n",
              "      <th>platelets</th>\n",
              "      <td>299.0</td>\n",
              "      <td>NaN</td>\n",
              "      <td>NaN</td>\n",
              "      <td>NaN</td>\n",
              "      <td>263358.026756</td>\n",
              "      <td>97804.236869</td>\n",
              "      <td>25100.0</td>\n",
              "      <td>212500.0</td>\n",
              "      <td>262000.0</td>\n",
              "      <td>303500.0</td>\n",
              "      <td>850000.0</td>\n",
              "    </tr>\n",
              "    <tr>\n",
              "      <th>serum_creatinine</th>\n",
              "      <td>299.0</td>\n",
              "      <td>NaN</td>\n",
              "      <td>NaN</td>\n",
              "      <td>NaN</td>\n",
              "      <td>1.39388</td>\n",
              "      <td>1.03451</td>\n",
              "      <td>0.5</td>\n",
              "      <td>0.9</td>\n",
              "      <td>1.1</td>\n",
              "      <td>1.4</td>\n",
              "      <td>9.4</td>\n",
              "    </tr>\n",
              "    <tr>\n",
              "      <th>serum_sodium</th>\n",
              "      <td>299.0</td>\n",
              "      <td>NaN</td>\n",
              "      <td>NaN</td>\n",
              "      <td>NaN</td>\n",
              "      <td>136.625418</td>\n",
              "      <td>4.412477</td>\n",
              "      <td>113.0</td>\n",
              "      <td>134.0</td>\n",
              "      <td>137.0</td>\n",
              "      <td>140.0</td>\n",
              "      <td>148.0</td>\n",
              "    </tr>\n",
              "    <tr>\n",
              "      <th>sex</th>\n",
              "      <td>299</td>\n",
              "      <td>2</td>\n",
              "      <td>male</td>\n",
              "      <td>194</td>\n",
              "      <td>NaN</td>\n",
              "      <td>NaN</td>\n",
              "      <td>NaN</td>\n",
              "      <td>NaN</td>\n",
              "      <td>NaN</td>\n",
              "      <td>NaN</td>\n",
              "      <td>NaN</td>\n",
              "    </tr>\n",
              "    <tr>\n",
              "      <th>smoking</th>\n",
              "      <td>299</td>\n",
              "      <td>2</td>\n",
              "      <td>False</td>\n",
              "      <td>203</td>\n",
              "      <td>NaN</td>\n",
              "      <td>NaN</td>\n",
              "      <td>NaN</td>\n",
              "      <td>NaN</td>\n",
              "      <td>NaN</td>\n",
              "      <td>NaN</td>\n",
              "      <td>NaN</td>\n",
              "    </tr>\n",
              "    <tr>\n",
              "      <th>time</th>\n",
              "      <td>299.0</td>\n",
              "      <td>NaN</td>\n",
              "      <td>NaN</td>\n",
              "      <td>NaN</td>\n",
              "      <td>130.26087</td>\n",
              "      <td>77.614208</td>\n",
              "      <td>4.0</td>\n",
              "      <td>73.0</td>\n",
              "      <td>115.0</td>\n",
              "      <td>203.0</td>\n",
              "      <td>285.0</td>\n",
              "    </tr>\n",
              "    <tr>\n",
              "      <th>DEATH_EVENT</th>\n",
              "      <td>299</td>\n",
              "      <td>2</td>\n",
              "      <td>False</td>\n",
              "      <td>203</td>\n",
              "      <td>NaN</td>\n",
              "      <td>NaN</td>\n",
              "      <td>NaN</td>\n",
              "      <td>NaN</td>\n",
              "      <td>NaN</td>\n",
              "      <td>NaN</td>\n",
              "      <td>NaN</td>\n",
              "    </tr>\n",
              "  </tbody>\n",
              "</table>\n",
              "</div>\n",
              "      <button class=\"colab-df-convert\" onclick=\"convertToInteractive('df-f4336284-7dc1-40db-923b-32143dfcc565')\"\n",
              "              title=\"Convert this dataframe to an interactive table.\"\n",
              "              style=\"display:none;\">\n",
              "        \n",
              "  <svg xmlns=\"http://www.w3.org/2000/svg\" height=\"24px\"viewBox=\"0 0 24 24\"\n",
              "       width=\"24px\">\n",
              "    <path d=\"M0 0h24v24H0V0z\" fill=\"none\"/>\n",
              "    <path d=\"M18.56 5.44l.94 2.06.94-2.06 2.06-.94-2.06-.94-.94-2.06-.94 2.06-2.06.94zm-11 1L8.5 8.5l.94-2.06 2.06-.94-2.06-.94L8.5 2.5l-.94 2.06-2.06.94zm10 10l.94 2.06.94-2.06 2.06-.94-2.06-.94-.94-2.06-.94 2.06-2.06.94z\"/><path d=\"M17.41 7.96l-1.37-1.37c-.4-.4-.92-.59-1.43-.59-.52 0-1.04.2-1.43.59L10.3 9.45l-7.72 7.72c-.78.78-.78 2.05 0 2.83L4 21.41c.39.39.9.59 1.41.59.51 0 1.02-.2 1.41-.59l7.78-7.78 2.81-2.81c.8-.78.8-2.07 0-2.86zM5.41 20L4 18.59l7.72-7.72 1.47 1.35L5.41 20z\"/>\n",
              "  </svg>\n",
              "      </button>\n",
              "      \n",
              "  <style>\n",
              "    .colab-df-container {\n",
              "      display:flex;\n",
              "      flex-wrap:wrap;\n",
              "      gap: 12px;\n",
              "    }\n",
              "\n",
              "    .colab-df-convert {\n",
              "      background-color: #E8F0FE;\n",
              "      border: none;\n",
              "      border-radius: 50%;\n",
              "      cursor: pointer;\n",
              "      display: none;\n",
              "      fill: #1967D2;\n",
              "      height: 32px;\n",
              "      padding: 0 0 0 0;\n",
              "      width: 32px;\n",
              "    }\n",
              "\n",
              "    .colab-df-convert:hover {\n",
              "      background-color: #E2EBFA;\n",
              "      box-shadow: 0px 1px 2px rgba(60, 64, 67, 0.3), 0px 1px 3px 1px rgba(60, 64, 67, 0.15);\n",
              "      fill: #174EA6;\n",
              "    }\n",
              "\n",
              "    [theme=dark] .colab-df-convert {\n",
              "      background-color: #3B4455;\n",
              "      fill: #D2E3FC;\n",
              "    }\n",
              "\n",
              "    [theme=dark] .colab-df-convert:hover {\n",
              "      background-color: #434B5C;\n",
              "      box-shadow: 0px 1px 3px 1px rgba(0, 0, 0, 0.15);\n",
              "      filter: drop-shadow(0px 1px 2px rgba(0, 0, 0, 0.3));\n",
              "      fill: #FFFFFF;\n",
              "    }\n",
              "  </style>\n",
              "\n",
              "      <script>\n",
              "        const buttonEl =\n",
              "          document.querySelector('#df-f4336284-7dc1-40db-923b-32143dfcc565 button.colab-df-convert');\n",
              "        buttonEl.style.display =\n",
              "          google.colab.kernel.accessAllowed ? 'block' : 'none';\n",
              "\n",
              "        async function convertToInteractive(key) {\n",
              "          const element = document.querySelector('#df-f4336284-7dc1-40db-923b-32143dfcc565');\n",
              "          const dataTable =\n",
              "            await google.colab.kernel.invokeFunction('convertToInteractive',\n",
              "                                                     [key], {});\n",
              "          if (!dataTable) return;\n",
              "\n",
              "          const docLinkHtml = 'Like what you see? Visit the ' +\n",
              "            '<a target=\"_blank\" href=https://colab.research.google.com/notebooks/data_table.ipynb>data table notebook</a>'\n",
              "            + ' to learn more about interactive tables.';\n",
              "          element.innerHTML = '';\n",
              "          dataTable['output_type'] = 'display_data';\n",
              "          await google.colab.output.renderOutput(dataTable, element);\n",
              "          const docLink = document.createElement('div');\n",
              "          docLink.innerHTML = docLinkHtml;\n",
              "          element.appendChild(docLink);\n",
              "        }\n",
              "      </script>\n",
              "    </div>\n",
              "  </div>\n",
              "  "
            ]
          },
          "metadata": {},
          "execution_count": 44
        }
      ]
    },
    {
      "cell_type": "markdown",
      "source": [
        "## Missing Values Check"
      ],
      "metadata": {
        "id": "AG-l32vRe1Pj"
      }
    },
    {
      "cell_type": "code",
      "source": [
        "df.isnull().sum()"
      ],
      "metadata": {
        "colab": {
          "base_uri": "https://localhost:8080/"
        },
        "id": "2ls7e3pwfAB_",
        "outputId": "f142fdd7-fea0-4e0b-c57f-9eaf8bc153b1"
      },
      "execution_count": 55,
      "outputs": [
        {
          "output_type": "execute_result",
          "data": {
            "text/plain": [
              "age                         0\n",
              "anaemia                     0\n",
              "creatinine_phosphokinase    0\n",
              "diabetes                    0\n",
              "ejection_fraction           0\n",
              "high_blood_pressure         0\n",
              "platelets                   0\n",
              "serum_creatinine            0\n",
              "serum_sodium                0\n",
              "sex                         0\n",
              "smoking                     0\n",
              "time                        0\n",
              "DEATH_EVENT                 0\n",
              "dtype: int64"
            ]
          },
          "metadata": {},
          "execution_count": 55
        }
      ]
    },
    {
      "cell_type": "markdown",
      "source": [
        "No null data was found on the dataset, so there are no missing values."
      ],
      "metadata": {
        "id": "lhXbX-Qu5Vm9"
      }
    },
    {
      "cell_type": "markdown",
      "source": [
        "## Outliers Check"
      ],
      "metadata": {
        "id": "ChZnqik2fRRJ"
      }
    },
    {
      "cell_type": "markdown",
      "source": [
        "There are many ways to check for outliers on a dataset. <br>\n",
        "We can specify a few: <br>\n",
        "* Sorting values and finding the outliers manually on the dataset;\n",
        "* Using graphic tools, such as a Histogram or a Boxplot chart;\n",
        "* Using Z-Score, when the data follows a normal distribution\n",
        "\n",
        "\n",
        "For this study, we will use the graphical solution for each given column, analyzing the respective boxplot charts."
      ],
      "metadata": {
        "id": "VZl-GrJ9fT_O"
      }
    },
    {
      "cell_type": "markdown",
      "source": [
        "In order to study the outcomes of these charts, we need to have a good understanding on how to read boxplot charts, so here is a quick support:\n",
        "![image.png](data:image/png;base64,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)\n",
        "<br>\n",
        "font: https://towardsdatascience.com/understanding-boxplots-5e2df7bcbd51#:~:text=A%20boxplot%20is%20a%20standardized,and%20what%20their%20values%20are."
      ],
      "metadata": {
        "id": "AsK3ujtFtsBh"
      }
    },
    {
      "cell_type": "code",
      "source": [
        "import plotly.express as px\n",
        "from plotly.subplots import make_subplots\n",
        "import plotly.graph_objects as go"
      ],
      "metadata": {
        "id": "szFMpTJdYzG3"
      },
      "execution_count": 14,
      "outputs": []
    },
    {
      "cell_type": "markdown",
      "source": [
        "In order to work with boxplots, we will only need the numerical values from our dataframe, so every other column will not be used right now.\n",
        "<BR>\n",
        "Lets organize this new df to work with:"
      ],
      "metadata": {
        "id": "AhRw7HWkyqnc"
      }
    },
    {
      "cell_type": "code",
      "source": [
        "df_numeric = df[['age','creatinine_phosphokinase','ejection_fraction','platelets','serum_creatinine','serum_sodium','time']]"
      ],
      "metadata": {
        "id": "XSbNZyLSZqAI"
      },
      "execution_count": 15,
      "outputs": []
    },
    {
      "cell_type": "code",
      "source": [
        "for coluna in df_numeric.columns:\n",
        "  fig = px.box(df_numeric, x=coluna, height = 200, width= 1100)\n",
        "  fig.show()"
      ],
      "metadata": {
        "colab": {
          "base_uri": "https://localhost:8080/",
          "height": 1000
        },
        "id": "OajtR5XuZh1b",
        "outputId": "b5d072cd-496a-426c-e307-584cdc657e0a"
      },
      "execution_count": 56,
      "outputs": [
        {
          "output_type": "display_data",
          "data": {
            "text/html": [
              "<html>\n",
              "<head><meta charset=\"utf-8\" /></head>\n",
              "<body>\n",
              "    <div>            <script src=\"https://cdnjs.cloudflare.com/ajax/libs/mathjax/2.7.5/MathJax.js?config=TeX-AMS-MML_SVG\"></script><script type=\"text/javascript\">if (window.MathJax) {MathJax.Hub.Config({SVG: {font: \"STIX-Web\"}});}</script>                <script type=\"text/javascript\">window.PlotlyConfig = {MathJaxConfig: 'local'};</script>\n",
              "        <script src=\"https://cdn.plot.ly/plotly-2.8.3.min.js\"></script>                <div id=\"ec8d0ebb-5dd0-4071-b40d-b21debf67edf\" class=\"plotly-graph-div\" style=\"height:200px; width:1100px;\"></div>            <script type=\"text/javascript\">                                    window.PLOTLYENV=window.PLOTLYENV || {};                                    if (document.getElementById(\"ec8d0ebb-5dd0-4071-b40d-b21debf67edf\")) {                    Plotly.newPlot(                        \"ec8d0ebb-5dd0-4071-b40d-b21debf67edf\",                        [{\"alignmentgroup\":\"True\",\"hovertemplate\":\"age=%{x}<extra></extra>\",\"legendgroup\":\"\",\"marker\":{\"color\":\"#636efa\"},\"name\":\"\",\"notched\":false,\"offsetgroup\":\"\",\"orientation\":\"h\",\"showlegend\":false,\"x\":[75.0,55.0,65.0,50.0,65.0,90.0,75.0,60.0,65.0,80.0,75.0,62.0,45.0,50.0,49.0,82.0,87.0,45.0,70.0,48.0,65.0,65.0,68.0,53.0,75.0,80.0,95.0,70.0,58.0,82.0,94.0,85.0,50.0,50.0,65.0,69.0,90.0,82.0,60.0,60.0,70.0,50.0,70.0,72.0,60.0,50.0,51.0,60.0,80.0,57.0,68.0,53.0,60.0,70.0,60.0,95.0,70.0,60.0,49.0,72.0,45.0,50.0,55.0,45.0,45.0,60.0,42.0,72.0,70.0,65.0,41.0,58.0,85.0,65.0,69.0,60.0,70.0,42.0,75.0,55.0,70.0,67.0,60.0,79.0,59.0,51.0,55.0,65.0,44.0,57.0,70.0,60.0,42.0,60.0,58.0,58.0,63.0,70.0,60.0,63.0,65.0,75.0,80.0,42.0,60.0,72.0,55.0,45.0,63.0,45.0,85.0,55.0,50.0,70.0,60.0,58.0,60.0,85.0,65.0,86.0,60.0,66.0,60.0,60.0,60.0,43.0,46.0,58.0,61.0,53.0,53.0,60.0,46.0,63.0,81.0,75.0,65.0,68.0,62.0,50.0,80.0,46.0,50.0,61.0,72.0,50.0,52.0,64.0,75.0,60.0,72.0,62.0,50.0,50.0,65.0,60.0,52.0,50.0,85.0,59.0,66.0,45.0,63.0,50.0,45.0,80.0,53.0,59.0,65.0,70.0,51.0,52.0,70.0,50.0,65.0,60.0,69.0,49.0,63.0,55.0,40.0,59.0,65.0,75.0,58.0,60.667,50.0,60.0,60.667,40.0,80.0,64.0,50.0,73.0,45.0,77.0,45.0,65.0,50.0,60.0,63.0,45.0,70.0,60.0,78.0,50.0,40.0,85.0,60.0,49.0,70.0,50.0,78.0,48.0,65.0,73.0,70.0,54.0,68.0,55.0,73.0,65.0,42.0,47.0,58.0,75.0,58.0,55.0,65.0,72.0,60.0,70.0,40.0,53.0,53.0,77.0,75.0,70.0,65.0,55.0,70.0,65.0,40.0,73.0,54.0,61.0,55.0,64.0,40.0,53.0,50.0,55.0,50.0,70.0,53.0,52.0,65.0,58.0,45.0,53.0,55.0,62.0,65.0,68.0,61.0,50.0,55.0,56.0,45.0,40.0,44.0,51.0,67.0,42.0,60.0,45.0,70.0,70.0,50.0,55.0,70.0,70.0,42.0,65.0,50.0,55.0,60.0,45.0,65.0,90.0,45.0,60.0,52.0,63.0,62.0,55.0,45.0,45.0,50.0],\"x0\":\" \",\"xaxis\":\"x\",\"y0\":\" \",\"yaxis\":\"y\",\"type\":\"box\"}],                        {\"template\":{\"data\":{\"bar\":[{\"error_x\":{\"color\":\"#2a3f5f\"},\"error_y\":{\"color\":\"#2a3f5f\"},\"marker\":{\"line\":{\"color\":\"#E5ECF6\",\"width\":0.5},\"pattern\":{\"fillmode\":\"overlay\",\"size\":10,\"solidity\":0.2}},\"type\":\"bar\"}],\"barpolar\":[{\"marker\":{\"line\":{\"color\":\"#E5ECF6\",\"width\":0.5},\"pattern\":{\"fillmode\":\"overlay\",\"size\":10,\"solidity\":0.2}},\"type\":\"barpolar\"}],\"carpet\":[{\"aaxis\":{\"endlinecolor\":\"#2a3f5f\",\"gridcolor\":\"white\",\"linecolor\":\"white\",\"minorgridcolor\":\"white\",\"startlinecolor\":\"#2a3f5f\"},\"baxis\":{\"endlinecolor\":\"#2a3f5f\",\"gridcolor\":\"white\",\"linecolor\":\"white\",\"minorgridcolor\":\"white\",\"startlinecolor\":\"#2a3f5f\"},\"type\":\"carpet\"}],\"choropleth\":[{\"colorbar\":{\"outlinewidth\":0,\"ticks\":\"\"},\"type\":\"choropleth\"}],\"contour\":[{\"colorbar\":{\"outlinewidth\":0,\"ticks\":\"\"},\"colorscale\":[[0.0,\"#0d0887\"],[0.1111111111111111,\"#46039f\"],[0.2222222222222222,\"#7201a8\"],[0.3333333333333333,\"#9c179e\"],[0.4444444444444444,\"#bd3786\"],[0.5555555555555556,\"#d8576b\"],[0.6666666666666666,\"#ed7953\"],[0.7777777777777778,\"#fb9f3a\"],[0.8888888888888888,\"#fdca26\"],[1.0,\"#f0f921\"]],\"type\":\"contour\"}],\"contourcarpet\":[{\"colorbar\":{\"outlinewidth\":0,\"ticks\":\"\"},\"type\":\"contourcarpet\"}],\"heatmap\":[{\"colorbar\":{\"outlinewidth\":0,\"ticks\":\"\"},\"colorscale\":[[0.0,\"#0d0887\"],[0.1111111111111111,\"#46039f\"],[0.2222222222222222,\"#7201a8\"],[0.3333333333333333,\"#9c179e\"],[0.4444444444444444,\"#bd3786\"],[0.5555555555555556,\"#d8576b\"],[0.6666666666666666,\"#ed7953\"],[0.7777777777777778,\"#fb9f3a\"],[0.8888888888888888,\"#fdca26\"],[1.0,\"#f0f921\"]],\"type\":\"heatmap\"}],\"heatmapgl\":[{\"colorbar\":{\"outlinewidth\":0,\"ticks\":\"\"},\"colorscale\":[[0.0,\"#0d0887\"],[0.1111111111111111,\"#46039f\"],[0.2222222222222222,\"#7201a8\"],[0.3333333333333333,\"#9c179e\"],[0.4444444444444444,\"#bd3786\"],[0.5555555555555556,\"#d8576b\"],[0.6666666666666666,\"#ed7953\"],[0.7777777777777778,\"#fb9f3a\"],[0.8888888888888888,\"#fdca26\"],[1.0,\"#f0f921\"]],\"type\":\"heatmapgl\"}],\"histogram\":[{\"marker\":{\"pattern\":{\"fillmode\":\"overlay\",\"size\":10,\"solidity\":0.2}},\"type\":\"histogram\"}],\"histogram2d\":[{\"colorbar\":{\"outlinewidth\":0,\"ticks\":\"\"},\"colorscale\":[[0.0,\"#0d0887\"],[0.1111111111111111,\"#46039f\"],[0.2222222222222222,\"#7201a8\"],[0.3333333333333333,\"#9c179e\"],[0.4444444444444444,\"#bd3786\"],[0.5555555555555556,\"#d8576b\"],[0.6666666666666666,\"#ed7953\"],[0.7777777777777778,\"#fb9f3a\"],[0.8888888888888888,\"#fdca26\"],[1.0,\"#f0f921\"]],\"type\":\"histogram2d\"}],\"histogram2dcontour\":[{\"colorbar\":{\"outlinewidth\":0,\"ticks\":\"\"},\"colorscale\":[[0.0,\"#0d0887\"],[0.1111111111111111,\"#46039f\"],[0.2222222222222222,\"#7201a8\"],[0.3333333333333333,\"#9c179e\"],[0.4444444444444444,\"#bd3786\"],[0.5555555555555556,\"#d8576b\"],[0.6666666666666666,\"#ed7953\"],[0.7777777777777778,\"#fb9f3a\"],[0.8888888888888888,\"#fdca26\"],[1.0,\"#f0f921\"]],\"type\":\"histogram2dcontour\"}],\"mesh3d\":[{\"colorbar\":{\"outlinewidth\":0,\"ticks\":\"\"},\"type\":\"mesh3d\"}],\"parcoords\":[{\"line\":{\"colorbar\":{\"outlinewidth\":0,\"ticks\":\"\"}},\"type\":\"parcoords\"}],\"pie\":[{\"automargin\":true,\"type\":\"pie\"}],\"scatter\":[{\"marker\":{\"colorbar\":{\"outlinewidth\":0,\"ticks\":\"\"}},\"type\":\"scatter\"}],\"scatter3d\":[{\"line\":{\"colorbar\":{\"outlinewidth\":0,\"ticks\":\"\"}},\"marker\":{\"colorbar\":{\"outlinewidth\":0,\"ticks\":\"\"}},\"type\":\"scatter3d\"}],\"scattercarpet\":[{\"marker\":{\"colorbar\":{\"outlinewidth\":0,\"ticks\":\"\"}},\"type\":\"scattercarpet\"}],\"scattergeo\":[{\"marker\":{\"colorbar\":{\"outlinewidth\":0,\"ticks\":\"\"}},\"type\":\"scattergeo\"}],\"scattergl\":[{\"marker\":{\"colorbar\":{\"outlinewidth\":0,\"ticks\":\"\"}},\"type\":\"scattergl\"}],\"scattermapbox\":[{\"marker\":{\"colorbar\":{\"outlinewidth\":0,\"ticks\":\"\"}},\"type\":\"scattermapbox\"}],\"scatterpolar\":[{\"marker\":{\"colorbar\":{\"outlinewidth\":0,\"ticks\":\"\"}},\"type\":\"scatterpolar\"}],\"scatterpolargl\":[{\"marker\":{\"colorbar\":{\"outlinewidth\":0,\"ticks\":\"\"}},\"type\":\"scatterpolargl\"}],\"scatterternary\":[{\"marker\":{\"colorbar\":{\"outlinewidth\":0,\"ticks\":\"\"}},\"type\":\"scatterternary\"}],\"surface\":[{\"colorbar\":{\"outlinewidth\":0,\"ticks\":\"\"},\"colorscale\":[[0.0,\"#0d0887\"],[0.1111111111111111,\"#46039f\"],[0.2222222222222222,\"#7201a8\"],[0.3333333333333333,\"#9c179e\"],[0.4444444444444444,\"#bd3786\"],[0.5555555555555556,\"#d8576b\"],[0.6666666666666666,\"#ed7953\"],[0.7777777777777778,\"#fb9f3a\"],[0.8888888888888888,\"#fdca26\"],[1.0,\"#f0f921\"]],\"type\":\"surface\"}],\"table\":[{\"cells\":{\"fill\":{\"color\":\"#EBF0F8\"},\"line\":{\"color\":\"white\"}},\"header\":{\"fill\":{\"color\":\"#C8D4E3\"},\"line\":{\"color\":\"white\"}},\"type\":\"table\"}]},\"layout\":{\"annotationdefaults\":{\"arrowcolor\":\"#2a3f5f\",\"arrowhead\":0,\"arrowwidth\":1},\"autotypenumbers\":\"strict\",\"coloraxis\":{\"colorbar\":{\"outlinewidth\":0,\"ticks\":\"\"}},\"colorscale\":{\"diverging\":[[0,\"#8e0152\"],[0.1,\"#c51b7d\"],[0.2,\"#de77ae\"],[0.3,\"#f1b6da\"],[0.4,\"#fde0ef\"],[0.5,\"#f7f7f7\"],[0.6,\"#e6f5d0\"],[0.7,\"#b8e186\"],[0.8,\"#7fbc41\"],[0.9,\"#4d9221\"],[1,\"#276419\"]],\"sequential\":[[0.0,\"#0d0887\"],[0.1111111111111111,\"#46039f\"],[0.2222222222222222,\"#7201a8\"],[0.3333333333333333,\"#9c179e\"],[0.4444444444444444,\"#bd3786\"],[0.5555555555555556,\"#d8576b\"],[0.6666666666666666,\"#ed7953\"],[0.7777777777777778,\"#fb9f3a\"],[0.8888888888888888,\"#fdca26\"],[1.0,\"#f0f921\"]],\"sequentialminus\":[[0.0,\"#0d0887\"],[0.1111111111111111,\"#46039f\"],[0.2222222222222222,\"#7201a8\"],[0.3333333333333333,\"#9c179e\"],[0.4444444444444444,\"#bd3786\"],[0.5555555555555556,\"#d8576b\"],[0.6666666666666666,\"#ed7953\"],[0.7777777777777778,\"#fb9f3a\"],[0.8888888888888888,\"#fdca26\"],[1.0,\"#f0f921\"]]},\"colorway\":[\"#636efa\",\"#EF553B\",\"#00cc96\",\"#ab63fa\",\"#FFA15A\",\"#19d3f3\",\"#FF6692\",\"#B6E880\",\"#FF97FF\",\"#FECB52\"],\"font\":{\"color\":\"#2a3f5f\"},\"geo\":{\"bgcolor\":\"white\",\"lakecolor\":\"white\",\"landcolor\":\"#E5ECF6\",\"showlakes\":true,\"showland\":true,\"subunitcolor\":\"white\"},\"hoverlabel\":{\"align\":\"left\"},\"hovermode\":\"closest\",\"mapbox\":{\"style\":\"light\"},\"paper_bgcolor\":\"white\",\"plot_bgcolor\":\"#E5ECF6\",\"polar\":{\"angularaxis\":{\"gridcolor\":\"white\",\"linecolor\":\"white\",\"ticks\":\"\"},\"bgcolor\":\"#E5ECF6\",\"radialaxis\":{\"gridcolor\":\"white\",\"linecolor\":\"white\",\"ticks\":\"\"}},\"scene\":{\"xaxis\":{\"backgroundcolor\":\"#E5ECF6\",\"gridcolor\":\"white\",\"gridwidth\":2,\"linecolor\":\"white\",\"showbackground\":true,\"ticks\":\"\",\"zerolinecolor\":\"white\"},\"yaxis\":{\"backgroundcolor\":\"#E5ECF6\",\"gridcolor\":\"white\",\"gridwidth\":2,\"linecolor\":\"white\",\"showbackground\":true,\"ticks\":\"\",\"zerolinecolor\":\"white\"},\"zaxis\":{\"backgroundcolor\":\"#E5ECF6\",\"gridcolor\":\"white\",\"gridwidth\":2,\"linecolor\":\"white\",\"showbackground\":true,\"ticks\":\"\",\"zerolinecolor\":\"white\"}},\"shapedefaults\":{\"line\":{\"color\":\"#2a3f5f\"}},\"ternary\":{\"aaxis\":{\"gridcolor\":\"white\",\"linecolor\":\"white\",\"ticks\":\"\"},\"baxis\":{\"gridcolor\":\"white\",\"linecolor\":\"white\",\"ticks\":\"\"},\"bgcolor\":\"#E5ECF6\",\"caxis\":{\"gridcolor\":\"white\",\"linecolor\":\"white\",\"ticks\":\"\"}},\"title\":{\"x\":0.05},\"xaxis\":{\"automargin\":true,\"gridcolor\":\"white\",\"linecolor\":\"white\",\"ticks\":\"\",\"title\":{\"standoff\":15},\"zerolinecolor\":\"white\",\"zerolinewidth\":2},\"yaxis\":{\"automargin\":true,\"gridcolor\":\"white\",\"linecolor\":\"white\",\"ticks\":\"\",\"title\":{\"standoff\":15},\"zerolinecolor\":\"white\",\"zerolinewidth\":2}}},\"xaxis\":{\"anchor\":\"y\",\"domain\":[0.0,1.0],\"title\":{\"text\":\"age\"}},\"yaxis\":{\"anchor\":\"x\",\"domain\":[0.0,1.0]},\"legend\":{\"tracegroupgap\":0},\"margin\":{\"t\":60},\"boxmode\":\"group\",\"height\":200,\"width\":1100},                        {\"responsive\": true}                    ).then(function(){\n",
              "                            \n",
              "var gd = document.getElementById('ec8d0ebb-5dd0-4071-b40d-b21debf67edf');\n",
              "var x = new MutationObserver(function (mutations, observer) {{\n",
              "        var display = window.getComputedStyle(gd).display;\n",
              "        if (!display || display === 'none') {{\n",
              "            console.log([gd, 'removed!']);\n",
              "            Plotly.purge(gd);\n",
              "            observer.disconnect();\n",
              "        }}\n",
              "}});\n",
              "\n",
              "// Listen for the removal of the full notebook cells\n",
              "var notebookContainer = gd.closest('#notebook-container');\n",
              "if (notebookContainer) {{\n",
              "    x.observe(notebookContainer, {childList: true});\n",
              "}}\n",
              "\n",
              "// Listen for the clearing of the current output cell\n",
              "var outputEl = gd.closest('.output');\n",
              "if (outputEl) {{\n",
              "    x.observe(outputEl, {childList: true});\n",
              "}}\n",
              "\n",
              "                        })                };                            </script>        </div>\n",
              "</body>\n",
              "</html>"
            ]
          },
          "metadata": {}
        },
        {
          "output_type": "display_data",
          "data": {
            "text/html": [
              "<html>\n",
              "<head><meta charset=\"utf-8\" /></head>\n",
              "<body>\n",
              "    <div>            <script src=\"https://cdnjs.cloudflare.com/ajax/libs/mathjax/2.7.5/MathJax.js?config=TeX-AMS-MML_SVG\"></script><script type=\"text/javascript\">if (window.MathJax) {MathJax.Hub.Config({SVG: {font: \"STIX-Web\"}});}</script>                <script type=\"text/javascript\">window.PlotlyConfig = {MathJaxConfig: 'local'};</script>\n",
              "        <script src=\"https://cdn.plot.ly/plotly-2.8.3.min.js\"></script>                <div id=\"7b78b779-9f8b-4e4b-8f16-a8b38b3bd578\" class=\"plotly-graph-div\" style=\"height:200px; width:1100px;\"></div>            <script type=\"text/javascript\">                                    window.PLOTLYENV=window.PLOTLYENV || {};                                    if (document.getElementById(\"7b78b779-9f8b-4e4b-8f16-a8b38b3bd578\")) {                    Plotly.newPlot(                        \"7b78b779-9f8b-4e4b-8f16-a8b38b3bd578\",                        [{\"alignmentgroup\":\"True\",\"hovertemplate\":\"creatinine_phosphokinase=%{x}<extra></extra>\",\"legendgroup\":\"\",\"marker\":{\"color\":\"#636efa\"},\"name\":\"\",\"notched\":false,\"offsetgroup\":\"\",\"orientation\":\"h\",\"showlegend\":false,\"x\":[582,7861,146,111,160,47,246,315,157,123,81,231,981,168,80,379,149,582,125,582,52,128,220,63,582,148,112,122,60,70,582,23,249,159,94,582,60,855,2656,235,582,124,571,127,588,582,1380,582,553,129,577,91,3964,69,260,371,75,607,789,364,7702,318,109,582,582,68,250,110,161,113,148,582,5882,224,582,47,92,102,203,336,69,582,76,55,280,78,47,68,84,115,66,897,582,154,144,133,514,59,156,61,305,582,898,5209,53,328,748,1876,936,292,129,60,369,143,754,400,96,102,113,582,737,68,96,582,582,358,168,200,248,270,1808,1082,719,193,4540,582,59,646,281,1548,805,291,482,84,943,185,132,1610,582,2261,233,30,115,1846,335,231,58,250,910,129,72,130,582,2334,2442,776,196,66,582,835,582,3966,171,115,198,95,1419,69,122,835,478,176,395,99,145,104,582,1896,151,244,582,62,121,231,582,418,582,167,582,1211,1767,308,97,59,64,167,101,212,2281,972,212,582,224,131,135,582,1202,427,1021,582,582,118,86,582,582,675,57,2794,56,211,166,93,129,707,582,109,119,232,720,180,81,582,90,1185,582,80,2017,143,624,207,2522,572,245,88,446,191,326,132,66,56,66,655,258,157,582,298,1199,135,582,582,582,582,213,64,257,582,618,582,1051,84,2695,582,64,1688,54,170,253,582,892,337,615,320,190,103,61,1820,2060,2413,196],\"x0\":\" \",\"xaxis\":\"x\",\"y0\":\" \",\"yaxis\":\"y\",\"type\":\"box\"}],                        {\"template\":{\"data\":{\"bar\":[{\"error_x\":{\"color\":\"#2a3f5f\"},\"error_y\":{\"color\":\"#2a3f5f\"},\"marker\":{\"line\":{\"color\":\"#E5ECF6\",\"width\":0.5},\"pattern\":{\"fillmode\":\"overlay\",\"size\":10,\"solidity\":0.2}},\"type\":\"bar\"}],\"barpolar\":[{\"marker\":{\"line\":{\"color\":\"#E5ECF6\",\"width\":0.5},\"pattern\":{\"fillmode\":\"overlay\",\"size\":10,\"solidity\":0.2}},\"type\":\"barpolar\"}],\"carpet\":[{\"aaxis\":{\"endlinecolor\":\"#2a3f5f\",\"gridcolor\":\"white\",\"linecolor\":\"white\",\"minorgridcolor\":\"white\",\"startlinecolor\":\"#2a3f5f\"},\"baxis\":{\"endlinecolor\":\"#2a3f5f\",\"gridcolor\":\"white\",\"linecolor\":\"white\",\"minorgridcolor\":\"white\",\"startlinecolor\":\"#2a3f5f\"},\"type\":\"carpet\"}],\"choropleth\":[{\"colorbar\":{\"outlinewidth\":0,\"ticks\":\"\"},\"type\":\"choropleth\"}],\"contour\":[{\"colorbar\":{\"outlinewidth\":0,\"ticks\":\"\"},\"colorscale\":[[0.0,\"#0d0887\"],[0.1111111111111111,\"#46039f\"],[0.2222222222222222,\"#7201a8\"],[0.3333333333333333,\"#9c179e\"],[0.4444444444444444,\"#bd3786\"],[0.5555555555555556,\"#d8576b\"],[0.6666666666666666,\"#ed7953\"],[0.7777777777777778,\"#fb9f3a\"],[0.8888888888888888,\"#fdca26\"],[1.0,\"#f0f921\"]],\"type\":\"contour\"}],\"contourcarpet\":[{\"colorbar\":{\"outlinewidth\":0,\"ticks\":\"\"},\"type\":\"contourcarpet\"}],\"heatmap\":[{\"colorbar\":{\"outlinewidth\":0,\"ticks\":\"\"},\"colorscale\":[[0.0,\"#0d0887\"],[0.1111111111111111,\"#46039f\"],[0.2222222222222222,\"#7201a8\"],[0.3333333333333333,\"#9c179e\"],[0.4444444444444444,\"#bd3786\"],[0.5555555555555556,\"#d8576b\"],[0.6666666666666666,\"#ed7953\"],[0.7777777777777778,\"#fb9f3a\"],[0.8888888888888888,\"#fdca26\"],[1.0,\"#f0f921\"]],\"type\":\"heatmap\"}],\"heatmapgl\":[{\"colorbar\":{\"outlinewidth\":0,\"ticks\":\"\"},\"colorscale\":[[0.0,\"#0d0887\"],[0.1111111111111111,\"#46039f\"],[0.2222222222222222,\"#7201a8\"],[0.3333333333333333,\"#9c179e\"],[0.4444444444444444,\"#bd3786\"],[0.5555555555555556,\"#d8576b\"],[0.6666666666666666,\"#ed7953\"],[0.7777777777777778,\"#fb9f3a\"],[0.8888888888888888,\"#fdca26\"],[1.0,\"#f0f921\"]],\"type\":\"heatmapgl\"}],\"histogram\":[{\"marker\":{\"pattern\":{\"fillmode\":\"overlay\",\"size\":10,\"solidity\":0.2}},\"type\":\"histogram\"}],\"histogram2d\":[{\"colorbar\":{\"outlinewidth\":0,\"ticks\":\"\"},\"colorscale\":[[0.0,\"#0d0887\"],[0.1111111111111111,\"#46039f\"],[0.2222222222222222,\"#7201a8\"],[0.3333333333333333,\"#9c179e\"],[0.4444444444444444,\"#bd3786\"],[0.5555555555555556,\"#d8576b\"],[0.6666666666666666,\"#ed7953\"],[0.7777777777777778,\"#fb9f3a\"],[0.8888888888888888,\"#fdca26\"],[1.0,\"#f0f921\"]],\"type\":\"histogram2d\"}],\"histogram2dcontour\":[{\"colorbar\":{\"outlinewidth\":0,\"ticks\":\"\"},\"colorscale\":[[0.0,\"#0d0887\"],[0.1111111111111111,\"#46039f\"],[0.2222222222222222,\"#7201a8\"],[0.3333333333333333,\"#9c179e\"],[0.4444444444444444,\"#bd3786\"],[0.5555555555555556,\"#d8576b\"],[0.6666666666666666,\"#ed7953\"],[0.7777777777777778,\"#fb9f3a\"],[0.8888888888888888,\"#fdca26\"],[1.0,\"#f0f921\"]],\"type\":\"histogram2dcontour\"}],\"mesh3d\":[{\"colorbar\":{\"outlinewidth\":0,\"ticks\":\"\"},\"type\":\"mesh3d\"}],\"parcoords\":[{\"line\":{\"colorbar\":{\"outlinewidth\":0,\"ticks\":\"\"}},\"type\":\"parcoords\"}],\"pie\":[{\"automargin\":true,\"type\":\"pie\"}],\"scatter\":[{\"marker\":{\"colorbar\":{\"outlinewidth\":0,\"ticks\":\"\"}},\"type\":\"scatter\"}],\"scatter3d\":[{\"line\":{\"colorbar\":{\"outlinewidth\":0,\"ticks\":\"\"}},\"marker\":{\"colorbar\":{\"outlinewidth\":0,\"ticks\":\"\"}},\"type\":\"scatter3d\"}],\"scattercarpet\":[{\"marker\":{\"colorbar\":{\"outlinewidth\":0,\"ticks\":\"\"}},\"type\":\"scattercarpet\"}],\"scattergeo\":[{\"marker\":{\"colorbar\":{\"outlinewidth\":0,\"ticks\":\"\"}},\"type\":\"scattergeo\"}],\"scattergl\":[{\"marker\":{\"colorbar\":{\"outlinewidth\":0,\"ticks\":\"\"}},\"type\":\"scattergl\"}],\"scattermapbox\":[{\"marker\":{\"colorbar\":{\"outlinewidth\":0,\"ticks\":\"\"}},\"type\":\"scattermapbox\"}],\"scatterpolar\":[{\"marker\":{\"colorbar\":{\"outlinewidth\":0,\"ticks\":\"\"}},\"type\":\"scatterpolar\"}],\"scatterpolargl\":[{\"marker\":{\"colorbar\":{\"outlinewidth\":0,\"ticks\":\"\"}},\"type\":\"scatterpolargl\"}],\"scatterternary\":[{\"marker\":{\"colorbar\":{\"outlinewidth\":0,\"ticks\":\"\"}},\"type\":\"scatterternary\"}],\"surface\":[{\"colorbar\":{\"outlinewidth\":0,\"ticks\":\"\"},\"colorscale\":[[0.0,\"#0d0887\"],[0.1111111111111111,\"#46039f\"],[0.2222222222222222,\"#7201a8\"],[0.3333333333333333,\"#9c179e\"],[0.4444444444444444,\"#bd3786\"],[0.5555555555555556,\"#d8576b\"],[0.6666666666666666,\"#ed7953\"],[0.7777777777777778,\"#fb9f3a\"],[0.8888888888888888,\"#fdca26\"],[1.0,\"#f0f921\"]],\"type\":\"surface\"}],\"table\":[{\"cells\":{\"fill\":{\"color\":\"#EBF0F8\"},\"line\":{\"color\":\"white\"}},\"header\":{\"fill\":{\"color\":\"#C8D4E3\"},\"line\":{\"color\":\"white\"}},\"type\":\"table\"}]},\"layout\":{\"annotationdefaults\":{\"arrowcolor\":\"#2a3f5f\",\"arrowhead\":0,\"arrowwidth\":1},\"autotypenumbers\":\"strict\",\"coloraxis\":{\"colorbar\":{\"outlinewidth\":0,\"ticks\":\"\"}},\"colorscale\":{\"diverging\":[[0,\"#8e0152\"],[0.1,\"#c51b7d\"],[0.2,\"#de77ae\"],[0.3,\"#f1b6da\"],[0.4,\"#fde0ef\"],[0.5,\"#f7f7f7\"],[0.6,\"#e6f5d0\"],[0.7,\"#b8e186\"],[0.8,\"#7fbc41\"],[0.9,\"#4d9221\"],[1,\"#276419\"]],\"sequential\":[[0.0,\"#0d0887\"],[0.1111111111111111,\"#46039f\"],[0.2222222222222222,\"#7201a8\"],[0.3333333333333333,\"#9c179e\"],[0.4444444444444444,\"#bd3786\"],[0.5555555555555556,\"#d8576b\"],[0.6666666666666666,\"#ed7953\"],[0.7777777777777778,\"#fb9f3a\"],[0.8888888888888888,\"#fdca26\"],[1.0,\"#f0f921\"]],\"sequentialminus\":[[0.0,\"#0d0887\"],[0.1111111111111111,\"#46039f\"],[0.2222222222222222,\"#7201a8\"],[0.3333333333333333,\"#9c179e\"],[0.4444444444444444,\"#bd3786\"],[0.5555555555555556,\"#d8576b\"],[0.6666666666666666,\"#ed7953\"],[0.7777777777777778,\"#fb9f3a\"],[0.8888888888888888,\"#fdca26\"],[1.0,\"#f0f921\"]]},\"colorway\":[\"#636efa\",\"#EF553B\",\"#00cc96\",\"#ab63fa\",\"#FFA15A\",\"#19d3f3\",\"#FF6692\",\"#B6E880\",\"#FF97FF\",\"#FECB52\"],\"font\":{\"color\":\"#2a3f5f\"},\"geo\":{\"bgcolor\":\"white\",\"lakecolor\":\"white\",\"landcolor\":\"#E5ECF6\",\"showlakes\":true,\"showland\":true,\"subunitcolor\":\"white\"},\"hoverlabel\":{\"align\":\"left\"},\"hovermode\":\"closest\",\"mapbox\":{\"style\":\"light\"},\"paper_bgcolor\":\"white\",\"plot_bgcolor\":\"#E5ECF6\",\"polar\":{\"angularaxis\":{\"gridcolor\":\"white\",\"linecolor\":\"white\",\"ticks\":\"\"},\"bgcolor\":\"#E5ECF6\",\"radialaxis\":{\"gridcolor\":\"white\",\"linecolor\":\"white\",\"ticks\":\"\"}},\"scene\":{\"xaxis\":{\"backgroundcolor\":\"#E5ECF6\",\"gridcolor\":\"white\",\"gridwidth\":2,\"linecolor\":\"white\",\"showbackground\":true,\"ticks\":\"\",\"zerolinecolor\":\"white\"},\"yaxis\":{\"backgroundcolor\":\"#E5ECF6\",\"gridcolor\":\"white\",\"gridwidth\":2,\"linecolor\":\"white\",\"showbackground\":true,\"ticks\":\"\",\"zerolinecolor\":\"white\"},\"zaxis\":{\"backgroundcolor\":\"#E5ECF6\",\"gridcolor\":\"white\",\"gridwidth\":2,\"linecolor\":\"white\",\"showbackground\":true,\"ticks\":\"\",\"zerolinecolor\":\"white\"}},\"shapedefaults\":{\"line\":{\"color\":\"#2a3f5f\"}},\"ternary\":{\"aaxis\":{\"gridcolor\":\"white\",\"linecolor\":\"white\",\"ticks\":\"\"},\"baxis\":{\"gridcolor\":\"white\",\"linecolor\":\"white\",\"ticks\":\"\"},\"bgcolor\":\"#E5ECF6\",\"caxis\":{\"gridcolor\":\"white\",\"linecolor\":\"white\",\"ticks\":\"\"}},\"title\":{\"x\":0.05},\"xaxis\":{\"automargin\":true,\"gridcolor\":\"white\",\"linecolor\":\"white\",\"ticks\":\"\",\"title\":{\"standoff\":15},\"zerolinecolor\":\"white\",\"zerolinewidth\":2},\"yaxis\":{\"automargin\":true,\"gridcolor\":\"white\",\"linecolor\":\"white\",\"ticks\":\"\",\"title\":{\"standoff\":15},\"zerolinecolor\":\"white\",\"zerolinewidth\":2}}},\"xaxis\":{\"anchor\":\"y\",\"domain\":[0.0,1.0],\"title\":{\"text\":\"creatinine_phosphokinase\"}},\"yaxis\":{\"anchor\":\"x\",\"domain\":[0.0,1.0]},\"legend\":{\"tracegroupgap\":0},\"margin\":{\"t\":60},\"boxmode\":\"group\",\"height\":200,\"width\":1100},                        {\"responsive\": true}                    ).then(function(){\n",
              "                            \n",
              "var gd = document.getElementById('7b78b779-9f8b-4e4b-8f16-a8b38b3bd578');\n",
              "var x = new MutationObserver(function (mutations, observer) {{\n",
              "        var display = window.getComputedStyle(gd).display;\n",
              "        if (!display || display === 'none') {{\n",
              "            console.log([gd, 'removed!']);\n",
              "            Plotly.purge(gd);\n",
              "            observer.disconnect();\n",
              "        }}\n",
              "}});\n",
              "\n",
              "// Listen for the removal of the full notebook cells\n",
              "var notebookContainer = gd.closest('#notebook-container');\n",
              "if (notebookContainer) {{\n",
              "    x.observe(notebookContainer, {childList: true});\n",
              "}}\n",
              "\n",
              "// Listen for the clearing of the current output cell\n",
              "var outputEl = gd.closest('.output');\n",
              "if (outputEl) {{\n",
              "    x.observe(outputEl, {childList: true});\n",
              "}}\n",
              "\n",
              "                        })                };                            </script>        </div>\n",
              "</body>\n",
              "</html>"
            ]
          },
          "metadata": {}
        },
        {
          "output_type": "display_data",
          "data": {
            "text/html": [
              "<html>\n",
              "<head><meta charset=\"utf-8\" /></head>\n",
              "<body>\n",
              "    <div>            <script src=\"https://cdnjs.cloudflare.com/ajax/libs/mathjax/2.7.5/MathJax.js?config=TeX-AMS-MML_SVG\"></script><script type=\"text/javascript\">if (window.MathJax) {MathJax.Hub.Config({SVG: {font: \"STIX-Web\"}});}</script>                <script type=\"text/javascript\">window.PlotlyConfig = {MathJaxConfig: 'local'};</script>\n",
              "        <script src=\"https://cdn.plot.ly/plotly-2.8.3.min.js\"></script>                <div id=\"15de1058-1772-4dd8-80df-341ceea351b7\" class=\"plotly-graph-div\" style=\"height:200px; width:1100px;\"></div>            <script type=\"text/javascript\">                                    window.PLOTLYENV=window.PLOTLYENV || {};                                    if (document.getElementById(\"15de1058-1772-4dd8-80df-341ceea351b7\")) {                    Plotly.newPlot(                        \"15de1058-1772-4dd8-80df-341ceea351b7\",                        [{\"alignmentgroup\":\"True\",\"hovertemplate\":\"ejection_fraction=%{x}<extra></extra>\",\"legendgroup\":\"\",\"marker\":{\"color\":\"#636efa\"},\"name\":\"\",\"notched\":false,\"offsetgroup\":\"\",\"orientation\":\"h\",\"showlegend\":false,\"x\":[20,38,20,20,20,40,15,60,65,35,38,25,30,38,30,50,38,14,25,55,25,30,35,60,30,38,40,45,38,30,38,45,35,30,50,35,50,50,30,38,20,30,45,50,60,38,25,38,20,30,25,20,62,50,38,30,35,40,20,20,25,40,35,35,80,20,15,25,25,25,40,35,35,50,20,20,60,40,38,45,40,50,25,50,25,50,35,60,40,25,45,45,60,25,38,60,25,60,25,40,25,45,25,30,50,30,45,35,38,35,60,35,25,60,40,40,60,60,60,38,60,38,38,30,40,50,17,60,30,35,60,45,40,60,35,40,60,25,35,30,38,35,30,40,25,30,30,60,30,35,45,60,45,35,35,25,35,25,50,45,40,35,40,35,30,38,60,20,40,35,35,40,60,20,35,60,40,50,60,40,30,25,25,38,25,30,50,25,40,45,35,60,40,30,20,45,38,30,20,35,45,60,60,25,40,45,40,38,40,35,17,62,50,30,35,35,50,70,35,35,20,50,35,25,25,60,25,35,25,25,30,35,35,38,45,50,50,30,40,45,35,30,35,40,38,38,25,25,35,40,30,35,45,35,60,30,38,38,25,50,40,40,25,60,38,35,20,38,38,35,30,40,38,40,30,38,35,38,30,38,40,40,30,38,40,40,35,55,35,38,55,35,38,35,38,38,60,38,45],\"x0\":\" \",\"xaxis\":\"x\",\"y0\":\" \",\"yaxis\":\"y\",\"type\":\"box\"}],                        {\"template\":{\"data\":{\"bar\":[{\"error_x\":{\"color\":\"#2a3f5f\"},\"error_y\":{\"color\":\"#2a3f5f\"},\"marker\":{\"line\":{\"color\":\"#E5ECF6\",\"width\":0.5},\"pattern\":{\"fillmode\":\"overlay\",\"size\":10,\"solidity\":0.2}},\"type\":\"bar\"}],\"barpolar\":[{\"marker\":{\"line\":{\"color\":\"#E5ECF6\",\"width\":0.5},\"pattern\":{\"fillmode\":\"overlay\",\"size\":10,\"solidity\":0.2}},\"type\":\"barpolar\"}],\"carpet\":[{\"aaxis\":{\"endlinecolor\":\"#2a3f5f\",\"gridcolor\":\"white\",\"linecolor\":\"white\",\"minorgridcolor\":\"white\",\"startlinecolor\":\"#2a3f5f\"},\"baxis\":{\"endlinecolor\":\"#2a3f5f\",\"gridcolor\":\"white\",\"linecolor\":\"white\",\"minorgridcolor\":\"white\",\"startlinecolor\":\"#2a3f5f\"},\"type\":\"carpet\"}],\"choropleth\":[{\"colorbar\":{\"outlinewidth\":0,\"ticks\":\"\"},\"type\":\"choropleth\"}],\"contour\":[{\"colorbar\":{\"outlinewidth\":0,\"ticks\":\"\"},\"colorscale\":[[0.0,\"#0d0887\"],[0.1111111111111111,\"#46039f\"],[0.2222222222222222,\"#7201a8\"],[0.3333333333333333,\"#9c179e\"],[0.4444444444444444,\"#bd3786\"],[0.5555555555555556,\"#d8576b\"],[0.6666666666666666,\"#ed7953\"],[0.7777777777777778,\"#fb9f3a\"],[0.8888888888888888,\"#fdca26\"],[1.0,\"#f0f921\"]],\"type\":\"contour\"}],\"contourcarpet\":[{\"colorbar\":{\"outlinewidth\":0,\"ticks\":\"\"},\"type\":\"contourcarpet\"}],\"heatmap\":[{\"colorbar\":{\"outlinewidth\":0,\"ticks\":\"\"},\"colorscale\":[[0.0,\"#0d0887\"],[0.1111111111111111,\"#46039f\"],[0.2222222222222222,\"#7201a8\"],[0.3333333333333333,\"#9c179e\"],[0.4444444444444444,\"#bd3786\"],[0.5555555555555556,\"#d8576b\"],[0.6666666666666666,\"#ed7953\"],[0.7777777777777778,\"#fb9f3a\"],[0.8888888888888888,\"#fdca26\"],[1.0,\"#f0f921\"]],\"type\":\"heatmap\"}],\"heatmapgl\":[{\"colorbar\":{\"outlinewidth\":0,\"ticks\":\"\"},\"colorscale\":[[0.0,\"#0d0887\"],[0.1111111111111111,\"#46039f\"],[0.2222222222222222,\"#7201a8\"],[0.3333333333333333,\"#9c179e\"],[0.4444444444444444,\"#bd3786\"],[0.5555555555555556,\"#d8576b\"],[0.6666666666666666,\"#ed7953\"],[0.7777777777777778,\"#fb9f3a\"],[0.8888888888888888,\"#fdca26\"],[1.0,\"#f0f921\"]],\"type\":\"heatmapgl\"}],\"histogram\":[{\"marker\":{\"pattern\":{\"fillmode\":\"overlay\",\"size\":10,\"solidity\":0.2}},\"type\":\"histogram\"}],\"histogram2d\":[{\"colorbar\":{\"outlinewidth\":0,\"ticks\":\"\"},\"colorscale\":[[0.0,\"#0d0887\"],[0.1111111111111111,\"#46039f\"],[0.2222222222222222,\"#7201a8\"],[0.3333333333333333,\"#9c179e\"],[0.4444444444444444,\"#bd3786\"],[0.5555555555555556,\"#d8576b\"],[0.6666666666666666,\"#ed7953\"],[0.7777777777777778,\"#fb9f3a\"],[0.8888888888888888,\"#fdca26\"],[1.0,\"#f0f921\"]],\"type\":\"histogram2d\"}],\"histogram2dcontour\":[{\"colorbar\":{\"outlinewidth\":0,\"ticks\":\"\"},\"colorscale\":[[0.0,\"#0d0887\"],[0.1111111111111111,\"#46039f\"],[0.2222222222222222,\"#7201a8\"],[0.3333333333333333,\"#9c179e\"],[0.4444444444444444,\"#bd3786\"],[0.5555555555555556,\"#d8576b\"],[0.6666666666666666,\"#ed7953\"],[0.7777777777777778,\"#fb9f3a\"],[0.8888888888888888,\"#fdca26\"],[1.0,\"#f0f921\"]],\"type\":\"histogram2dcontour\"}],\"mesh3d\":[{\"colorbar\":{\"outlinewidth\":0,\"ticks\":\"\"},\"type\":\"mesh3d\"}],\"parcoords\":[{\"line\":{\"colorbar\":{\"outlinewidth\":0,\"ticks\":\"\"}},\"type\":\"parcoords\"}],\"pie\":[{\"automargin\":true,\"type\":\"pie\"}],\"scatter\":[{\"marker\":{\"colorbar\":{\"outlinewidth\":0,\"ticks\":\"\"}},\"type\":\"scatter\"}],\"scatter3d\":[{\"line\":{\"colorbar\":{\"outlinewidth\":0,\"ticks\":\"\"}},\"marker\":{\"colorbar\":{\"outlinewidth\":0,\"ticks\":\"\"}},\"type\":\"scatter3d\"}],\"scattercarpet\":[{\"marker\":{\"colorbar\":{\"outlinewidth\":0,\"ticks\":\"\"}},\"type\":\"scattercarpet\"}],\"scattergeo\":[{\"marker\":{\"colorbar\":{\"outlinewidth\":0,\"ticks\":\"\"}},\"type\":\"scattergeo\"}],\"scattergl\":[{\"marker\":{\"colorbar\":{\"outlinewidth\":0,\"ticks\":\"\"}},\"type\":\"scattergl\"}],\"scattermapbox\":[{\"marker\":{\"colorbar\":{\"outlinewidth\":0,\"ticks\":\"\"}},\"type\":\"scattermapbox\"}],\"scatterpolar\":[{\"marker\":{\"colorbar\":{\"outlinewidth\":0,\"ticks\":\"\"}},\"type\":\"scatterpolar\"}],\"scatterpolargl\":[{\"marker\":{\"colorbar\":{\"outlinewidth\":0,\"ticks\":\"\"}},\"type\":\"scatterpolargl\"}],\"scatterternary\":[{\"marker\":{\"colorbar\":{\"outlinewidth\":0,\"ticks\":\"\"}},\"type\":\"scatterternary\"}],\"surface\":[{\"colorbar\":{\"outlinewidth\":0,\"ticks\":\"\"},\"colorscale\":[[0.0,\"#0d0887\"],[0.1111111111111111,\"#46039f\"],[0.2222222222222222,\"#7201a8\"],[0.3333333333333333,\"#9c179e\"],[0.4444444444444444,\"#bd3786\"],[0.5555555555555556,\"#d8576b\"],[0.6666666666666666,\"#ed7953\"],[0.7777777777777778,\"#fb9f3a\"],[0.8888888888888888,\"#fdca26\"],[1.0,\"#f0f921\"]],\"type\":\"surface\"}],\"table\":[{\"cells\":{\"fill\":{\"color\":\"#EBF0F8\"},\"line\":{\"color\":\"white\"}},\"header\":{\"fill\":{\"color\":\"#C8D4E3\"},\"line\":{\"color\":\"white\"}},\"type\":\"table\"}]},\"layout\":{\"annotationdefaults\":{\"arrowcolor\":\"#2a3f5f\",\"arrowhead\":0,\"arrowwidth\":1},\"autotypenumbers\":\"strict\",\"coloraxis\":{\"colorbar\":{\"outlinewidth\":0,\"ticks\":\"\"}},\"colorscale\":{\"diverging\":[[0,\"#8e0152\"],[0.1,\"#c51b7d\"],[0.2,\"#de77ae\"],[0.3,\"#f1b6da\"],[0.4,\"#fde0ef\"],[0.5,\"#f7f7f7\"],[0.6,\"#e6f5d0\"],[0.7,\"#b8e186\"],[0.8,\"#7fbc41\"],[0.9,\"#4d9221\"],[1,\"#276419\"]],\"sequential\":[[0.0,\"#0d0887\"],[0.1111111111111111,\"#46039f\"],[0.2222222222222222,\"#7201a8\"],[0.3333333333333333,\"#9c179e\"],[0.4444444444444444,\"#bd3786\"],[0.5555555555555556,\"#d8576b\"],[0.6666666666666666,\"#ed7953\"],[0.7777777777777778,\"#fb9f3a\"],[0.8888888888888888,\"#fdca26\"],[1.0,\"#f0f921\"]],\"sequentialminus\":[[0.0,\"#0d0887\"],[0.1111111111111111,\"#46039f\"],[0.2222222222222222,\"#7201a8\"],[0.3333333333333333,\"#9c179e\"],[0.4444444444444444,\"#bd3786\"],[0.5555555555555556,\"#d8576b\"],[0.6666666666666666,\"#ed7953\"],[0.7777777777777778,\"#fb9f3a\"],[0.8888888888888888,\"#fdca26\"],[1.0,\"#f0f921\"]]},\"colorway\":[\"#636efa\",\"#EF553B\",\"#00cc96\",\"#ab63fa\",\"#FFA15A\",\"#19d3f3\",\"#FF6692\",\"#B6E880\",\"#FF97FF\",\"#FECB52\"],\"font\":{\"color\":\"#2a3f5f\"},\"geo\":{\"bgcolor\":\"white\",\"lakecolor\":\"white\",\"landcolor\":\"#E5ECF6\",\"showlakes\":true,\"showland\":true,\"subunitcolor\":\"white\"},\"hoverlabel\":{\"align\":\"left\"},\"hovermode\":\"closest\",\"mapbox\":{\"style\":\"light\"},\"paper_bgcolor\":\"white\",\"plot_bgcolor\":\"#E5ECF6\",\"polar\":{\"angularaxis\":{\"gridcolor\":\"white\",\"linecolor\":\"white\",\"ticks\":\"\"},\"bgcolor\":\"#E5ECF6\",\"radialaxis\":{\"gridcolor\":\"white\",\"linecolor\":\"white\",\"ticks\":\"\"}},\"scene\":{\"xaxis\":{\"backgroundcolor\":\"#E5ECF6\",\"gridcolor\":\"white\",\"gridwidth\":2,\"linecolor\":\"white\",\"showbackground\":true,\"ticks\":\"\",\"zerolinecolor\":\"white\"},\"yaxis\":{\"backgroundcolor\":\"#E5ECF6\",\"gridcolor\":\"white\",\"gridwidth\":2,\"linecolor\":\"white\",\"showbackground\":true,\"ticks\":\"\",\"zerolinecolor\":\"white\"},\"zaxis\":{\"backgroundcolor\":\"#E5ECF6\",\"gridcolor\":\"white\",\"gridwidth\":2,\"linecolor\":\"white\",\"showbackground\":true,\"ticks\":\"\",\"zerolinecolor\":\"white\"}},\"shapedefaults\":{\"line\":{\"color\":\"#2a3f5f\"}},\"ternary\":{\"aaxis\":{\"gridcolor\":\"white\",\"linecolor\":\"white\",\"ticks\":\"\"},\"baxis\":{\"gridcolor\":\"white\",\"linecolor\":\"white\",\"ticks\":\"\"},\"bgcolor\":\"#E5ECF6\",\"caxis\":{\"gridcolor\":\"white\",\"linecolor\":\"white\",\"ticks\":\"\"}},\"title\":{\"x\":0.05},\"xaxis\":{\"automargin\":true,\"gridcolor\":\"white\",\"linecolor\":\"white\",\"ticks\":\"\",\"title\":{\"standoff\":15},\"zerolinecolor\":\"white\",\"zerolinewidth\":2},\"yaxis\":{\"automargin\":true,\"gridcolor\":\"white\",\"linecolor\":\"white\",\"ticks\":\"\",\"title\":{\"standoff\":15},\"zerolinecolor\":\"white\",\"zerolinewidth\":2}}},\"xaxis\":{\"anchor\":\"y\",\"domain\":[0.0,1.0],\"title\":{\"text\":\"ejection_fraction\"}},\"yaxis\":{\"anchor\":\"x\",\"domain\":[0.0,1.0]},\"legend\":{\"tracegroupgap\":0},\"margin\":{\"t\":60},\"boxmode\":\"group\",\"height\":200,\"width\":1100},                        {\"responsive\": true}                    ).then(function(){\n",
              "                            \n",
              "var gd = document.getElementById('15de1058-1772-4dd8-80df-341ceea351b7');\n",
              "var x = new MutationObserver(function (mutations, observer) {{\n",
              "        var display = window.getComputedStyle(gd).display;\n",
              "        if (!display || display === 'none') {{\n",
              "            console.log([gd, 'removed!']);\n",
              "            Plotly.purge(gd);\n",
              "            observer.disconnect();\n",
              "        }}\n",
              "}});\n",
              "\n",
              "// Listen for the removal of the full notebook cells\n",
              "var notebookContainer = gd.closest('#notebook-container');\n",
              "if (notebookContainer) {{\n",
              "    x.observe(notebookContainer, {childList: true});\n",
              "}}\n",
              "\n",
              "// Listen for the clearing of the current output cell\n",
              "var outputEl = gd.closest('.output');\n",
              "if (outputEl) {{\n",
              "    x.observe(outputEl, {childList: true});\n",
              "}}\n",
              "\n",
              "                        })                };                            </script>        </div>\n",
              "</body>\n",
              "</html>"
            ]
          },
          "metadata": {}
        },
        {
          "output_type": "display_data",
          "data": {
            "text/html": [
              "<html>\n",
              "<head><meta charset=\"utf-8\" /></head>\n",
              "<body>\n",
              "    <div>            <script src=\"https://cdnjs.cloudflare.com/ajax/libs/mathjax/2.7.5/MathJax.js?config=TeX-AMS-MML_SVG\"></script><script type=\"text/javascript\">if (window.MathJax) {MathJax.Hub.Config({SVG: {font: \"STIX-Web\"}});}</script>                <script type=\"text/javascript\">window.PlotlyConfig = {MathJaxConfig: 'local'};</script>\n",
              "        <script src=\"https://cdn.plot.ly/plotly-2.8.3.min.js\"></script>                <div id=\"e774f002-2b17-490c-b7f0-cf33d4d328e9\" class=\"plotly-graph-div\" style=\"height:200px; width:1100px;\"></div>            <script type=\"text/javascript\">                                    window.PLOTLYENV=window.PLOTLYENV || {};                                    if (document.getElementById(\"e774f002-2b17-490c-b7f0-cf33d4d328e9\")) {                    Plotly.newPlot(                        \"e774f002-2b17-490c-b7f0-cf33d4d328e9\",                        [{\"alignmentgroup\":\"True\",\"hovertemplate\":\"platelets=%{x}<extra></extra>\",\"legendgroup\":\"\",\"marker\":{\"color\":\"#636efa\"},\"name\":\"\",\"notched\":false,\"offsetgroup\":\"\",\"orientation\":\"h\",\"showlegend\":false,\"x\":[265000.0,263358.03,162000.0,210000.0,327000.0,204000.0,127000.0,454000.0,263358.03,388000.0,368000.0,253000.0,136000.0,276000.0,427000.0,47000.0,262000.0,166000.0,237000.0,87000.0,276000.0,297000.0,289000.0,368000.0,263358.03,149000.0,196000.0,284000.0,153000.0,200000.0,263358.03,360000.0,319000.0,302000.0,188000.0,228000.0,226000.0,321000.0,305000.0,329000.0,263358.03,153000.0,185000.0,218000.0,194000.0,310000.0,271000.0,451000.0,140000.0,395000.0,166000.0,418000.0,263358.03,351000.0,255000.0,461000.0,223000.0,216000.0,319000.0,254000.0,390000.0,216000.0,254000.0,385000.0,263358.03,119000.0,213000.0,274000.0,244000.0,497000.0,374000.0,122000.0,243000.0,149000.0,266000.0,204000.0,317000.0,237000.0,283000.0,324000.0,293000.0,263358.03,196000.0,172000.0,302000.0,406000.0,173000.0,304000.0,235000.0,181000.0,249000.0,297000.0,263358.03,210000.0,327000.0,219000.0,254000.0,255000.0,318000.0,221000.0,298000.0,263358.03,149000.0,226000.0,286000.0,621000.0,263000.0,226000.0,304000.0,850000.0,306000.0,228000.0,252000.0,351000.0,328000.0,164000.0,271000.0,507000.0,203000.0,263358.03,210000.0,162000.0,228000.0,127000.0,217000.0,237000.0,271000.0,300000.0,267000.0,227000.0,249000.0,250000.0,263358.03,295000.0,231000.0,263358.03,172000.0,305000.0,221000.0,211000.0,263358.03,348000.0,329000.0,229000.0,338000.0,266000.0,218000.0,242000.0,225000.0,228000.0,235000.0,244000.0,184000.0,263358.03,235000.0,194000.0,277000.0,262000.0,235000.0,362000.0,242000.0,174000.0,448000.0,75000.0,334000.0,192000.0,220000.0,70000.0,270000.0,305000.0,263358.03,325000.0,176000.0,189000.0,281000.0,337000.0,105000.0,132000.0,267000.0,279000.0,303000.0,221000.0,265000.0,224000.0,219000.0,389000.0,153000.0,365000.0,201000.0,275000.0,350000.0,309000.0,260000.0,160000.0,126000.0,223000.0,263358.03,259000.0,279000.0,263358.03,73000.0,377000.0,220000.0,212000.0,277000.0,362000.0,226000.0,186000.0,283000.0,268000.0,389000.0,147000.0,481000.0,244000.0,290000.0,203000.0,358000.0,151000.0,271000.0,371000.0,263358.03,194000.0,365000.0,130000.0,504000.0,265000.0,189000.0,141000.0,237000.0,274000.0,62000.0,185000.0,255000.0,330000.0,305000.0,406000.0,248000.0,173000.0,257000.0,263358.03,533000.0,249000.0,255000.0,220000.0,264000.0,282000.0,314000.0,246000.0,301000.0,223000.0,404000.0,231000.0,274000.0,236000.0,263358.03,334000.0,294000.0,253000.0,233000.0,308000.0,203000.0,283000.0,198000.0,208000.0,147000.0,362000.0,263358.03,133000.0,302000.0,222000.0,263358.03,221000.0,215000.0,189000.0,150000.0,422000.0,327000.0,25100.0,232000.0,451000.0,241000.0,51000.0,215000.0,263358.03,279000.0,336000.0,279000.0,543000.0,263358.03,390000.0,222000.0,133000.0,382000.0,179000.0,155000.0,270000.0,742000.0,140000.0,395000.0],\"x0\":\" \",\"xaxis\":\"x\",\"y0\":\" \",\"yaxis\":\"y\",\"type\":\"box\"}],                        {\"template\":{\"data\":{\"bar\":[{\"error_x\":{\"color\":\"#2a3f5f\"},\"error_y\":{\"color\":\"#2a3f5f\"},\"marker\":{\"line\":{\"color\":\"#E5ECF6\",\"width\":0.5},\"pattern\":{\"fillmode\":\"overlay\",\"size\":10,\"solidity\":0.2}},\"type\":\"bar\"}],\"barpolar\":[{\"marker\":{\"line\":{\"color\":\"#E5ECF6\",\"width\":0.5},\"pattern\":{\"fillmode\":\"overlay\",\"size\":10,\"solidity\":0.2}},\"type\":\"barpolar\"}],\"carpet\":[{\"aaxis\":{\"endlinecolor\":\"#2a3f5f\",\"gridcolor\":\"white\",\"linecolor\":\"white\",\"minorgridcolor\":\"white\",\"startlinecolor\":\"#2a3f5f\"},\"baxis\":{\"endlinecolor\":\"#2a3f5f\",\"gridcolor\":\"white\",\"linecolor\":\"white\",\"minorgridcolor\":\"white\",\"startlinecolor\":\"#2a3f5f\"},\"type\":\"carpet\"}],\"choropleth\":[{\"colorbar\":{\"outlinewidth\":0,\"ticks\":\"\"},\"type\":\"choropleth\"}],\"contour\":[{\"colorbar\":{\"outlinewidth\":0,\"ticks\":\"\"},\"colorscale\":[[0.0,\"#0d0887\"],[0.1111111111111111,\"#46039f\"],[0.2222222222222222,\"#7201a8\"],[0.3333333333333333,\"#9c179e\"],[0.4444444444444444,\"#bd3786\"],[0.5555555555555556,\"#d8576b\"],[0.6666666666666666,\"#ed7953\"],[0.7777777777777778,\"#fb9f3a\"],[0.8888888888888888,\"#fdca26\"],[1.0,\"#f0f921\"]],\"type\":\"contour\"}],\"contourcarpet\":[{\"colorbar\":{\"outlinewidth\":0,\"ticks\":\"\"},\"type\":\"contourcarpet\"}],\"heatmap\":[{\"colorbar\":{\"outlinewidth\":0,\"ticks\":\"\"},\"colorscale\":[[0.0,\"#0d0887\"],[0.1111111111111111,\"#46039f\"],[0.2222222222222222,\"#7201a8\"],[0.3333333333333333,\"#9c179e\"],[0.4444444444444444,\"#bd3786\"],[0.5555555555555556,\"#d8576b\"],[0.6666666666666666,\"#ed7953\"],[0.7777777777777778,\"#fb9f3a\"],[0.8888888888888888,\"#fdca26\"],[1.0,\"#f0f921\"]],\"type\":\"heatmap\"}],\"heatmapgl\":[{\"colorbar\":{\"outlinewidth\":0,\"ticks\":\"\"},\"colorscale\":[[0.0,\"#0d0887\"],[0.1111111111111111,\"#46039f\"],[0.2222222222222222,\"#7201a8\"],[0.3333333333333333,\"#9c179e\"],[0.4444444444444444,\"#bd3786\"],[0.5555555555555556,\"#d8576b\"],[0.6666666666666666,\"#ed7953\"],[0.7777777777777778,\"#fb9f3a\"],[0.8888888888888888,\"#fdca26\"],[1.0,\"#f0f921\"]],\"type\":\"heatmapgl\"}],\"histogram\":[{\"marker\":{\"pattern\":{\"fillmode\":\"overlay\",\"size\":10,\"solidity\":0.2}},\"type\":\"histogram\"}],\"histogram2d\":[{\"colorbar\":{\"outlinewidth\":0,\"ticks\":\"\"},\"colorscale\":[[0.0,\"#0d0887\"],[0.1111111111111111,\"#46039f\"],[0.2222222222222222,\"#7201a8\"],[0.3333333333333333,\"#9c179e\"],[0.4444444444444444,\"#bd3786\"],[0.5555555555555556,\"#d8576b\"],[0.6666666666666666,\"#ed7953\"],[0.7777777777777778,\"#fb9f3a\"],[0.8888888888888888,\"#fdca26\"],[1.0,\"#f0f921\"]],\"type\":\"histogram2d\"}],\"histogram2dcontour\":[{\"colorbar\":{\"outlinewidth\":0,\"ticks\":\"\"},\"colorscale\":[[0.0,\"#0d0887\"],[0.1111111111111111,\"#46039f\"],[0.2222222222222222,\"#7201a8\"],[0.3333333333333333,\"#9c179e\"],[0.4444444444444444,\"#bd3786\"],[0.5555555555555556,\"#d8576b\"],[0.6666666666666666,\"#ed7953\"],[0.7777777777777778,\"#fb9f3a\"],[0.8888888888888888,\"#fdca26\"],[1.0,\"#f0f921\"]],\"type\":\"histogram2dcontour\"}],\"mesh3d\":[{\"colorbar\":{\"outlinewidth\":0,\"ticks\":\"\"},\"type\":\"mesh3d\"}],\"parcoords\":[{\"line\":{\"colorbar\":{\"outlinewidth\":0,\"ticks\":\"\"}},\"type\":\"parcoords\"}],\"pie\":[{\"automargin\":true,\"type\":\"pie\"}],\"scatter\":[{\"marker\":{\"colorbar\":{\"outlinewidth\":0,\"ticks\":\"\"}},\"type\":\"scatter\"}],\"scatter3d\":[{\"line\":{\"colorbar\":{\"outlinewidth\":0,\"ticks\":\"\"}},\"marker\":{\"colorbar\":{\"outlinewidth\":0,\"ticks\":\"\"}},\"type\":\"scatter3d\"}],\"scattercarpet\":[{\"marker\":{\"colorbar\":{\"outlinewidth\":0,\"ticks\":\"\"}},\"type\":\"scattercarpet\"}],\"scattergeo\":[{\"marker\":{\"colorbar\":{\"outlinewidth\":0,\"ticks\":\"\"}},\"type\":\"scattergeo\"}],\"scattergl\":[{\"marker\":{\"colorbar\":{\"outlinewidth\":0,\"ticks\":\"\"}},\"type\":\"scattergl\"}],\"scattermapbox\":[{\"marker\":{\"colorbar\":{\"outlinewidth\":0,\"ticks\":\"\"}},\"type\":\"scattermapbox\"}],\"scatterpolar\":[{\"marker\":{\"colorbar\":{\"outlinewidth\":0,\"ticks\":\"\"}},\"type\":\"scatterpolar\"}],\"scatterpolargl\":[{\"marker\":{\"colorbar\":{\"outlinewidth\":0,\"ticks\":\"\"}},\"type\":\"scatterpolargl\"}],\"scatterternary\":[{\"marker\":{\"colorbar\":{\"outlinewidth\":0,\"ticks\":\"\"}},\"type\":\"scatterternary\"}],\"surface\":[{\"colorbar\":{\"outlinewidth\":0,\"ticks\":\"\"},\"colorscale\":[[0.0,\"#0d0887\"],[0.1111111111111111,\"#46039f\"],[0.2222222222222222,\"#7201a8\"],[0.3333333333333333,\"#9c179e\"],[0.4444444444444444,\"#bd3786\"],[0.5555555555555556,\"#d8576b\"],[0.6666666666666666,\"#ed7953\"],[0.7777777777777778,\"#fb9f3a\"],[0.8888888888888888,\"#fdca26\"],[1.0,\"#f0f921\"]],\"type\":\"surface\"}],\"table\":[{\"cells\":{\"fill\":{\"color\":\"#EBF0F8\"},\"line\":{\"color\":\"white\"}},\"header\":{\"fill\":{\"color\":\"#C8D4E3\"},\"line\":{\"color\":\"white\"}},\"type\":\"table\"}]},\"layout\":{\"annotationdefaults\":{\"arrowcolor\":\"#2a3f5f\",\"arrowhead\":0,\"arrowwidth\":1},\"autotypenumbers\":\"strict\",\"coloraxis\":{\"colorbar\":{\"outlinewidth\":0,\"ticks\":\"\"}},\"colorscale\":{\"diverging\":[[0,\"#8e0152\"],[0.1,\"#c51b7d\"],[0.2,\"#de77ae\"],[0.3,\"#f1b6da\"],[0.4,\"#fde0ef\"],[0.5,\"#f7f7f7\"],[0.6,\"#e6f5d0\"],[0.7,\"#b8e186\"],[0.8,\"#7fbc41\"],[0.9,\"#4d9221\"],[1,\"#276419\"]],\"sequential\":[[0.0,\"#0d0887\"],[0.1111111111111111,\"#46039f\"],[0.2222222222222222,\"#7201a8\"],[0.3333333333333333,\"#9c179e\"],[0.4444444444444444,\"#bd3786\"],[0.5555555555555556,\"#d8576b\"],[0.6666666666666666,\"#ed7953\"],[0.7777777777777778,\"#fb9f3a\"],[0.8888888888888888,\"#fdca26\"],[1.0,\"#f0f921\"]],\"sequentialminus\":[[0.0,\"#0d0887\"],[0.1111111111111111,\"#46039f\"],[0.2222222222222222,\"#7201a8\"],[0.3333333333333333,\"#9c179e\"],[0.4444444444444444,\"#bd3786\"],[0.5555555555555556,\"#d8576b\"],[0.6666666666666666,\"#ed7953\"],[0.7777777777777778,\"#fb9f3a\"],[0.8888888888888888,\"#fdca26\"],[1.0,\"#f0f921\"]]},\"colorway\":[\"#636efa\",\"#EF553B\",\"#00cc96\",\"#ab63fa\",\"#FFA15A\",\"#19d3f3\",\"#FF6692\",\"#B6E880\",\"#FF97FF\",\"#FECB52\"],\"font\":{\"color\":\"#2a3f5f\"},\"geo\":{\"bgcolor\":\"white\",\"lakecolor\":\"white\",\"landcolor\":\"#E5ECF6\",\"showlakes\":true,\"showland\":true,\"subunitcolor\":\"white\"},\"hoverlabel\":{\"align\":\"left\"},\"hovermode\":\"closest\",\"mapbox\":{\"style\":\"light\"},\"paper_bgcolor\":\"white\",\"plot_bgcolor\":\"#E5ECF6\",\"polar\":{\"angularaxis\":{\"gridcolor\":\"white\",\"linecolor\":\"white\",\"ticks\":\"\"},\"bgcolor\":\"#E5ECF6\",\"radialaxis\":{\"gridcolor\":\"white\",\"linecolor\":\"white\",\"ticks\":\"\"}},\"scene\":{\"xaxis\":{\"backgroundcolor\":\"#E5ECF6\",\"gridcolor\":\"white\",\"gridwidth\":2,\"linecolor\":\"white\",\"showbackground\":true,\"ticks\":\"\",\"zerolinecolor\":\"white\"},\"yaxis\":{\"backgroundcolor\":\"#E5ECF6\",\"gridcolor\":\"white\",\"gridwidth\":2,\"linecolor\":\"white\",\"showbackground\":true,\"ticks\":\"\",\"zerolinecolor\":\"white\"},\"zaxis\":{\"backgroundcolor\":\"#E5ECF6\",\"gridcolor\":\"white\",\"gridwidth\":2,\"linecolor\":\"white\",\"showbackground\":true,\"ticks\":\"\",\"zerolinecolor\":\"white\"}},\"shapedefaults\":{\"line\":{\"color\":\"#2a3f5f\"}},\"ternary\":{\"aaxis\":{\"gridcolor\":\"white\",\"linecolor\":\"white\",\"ticks\":\"\"},\"baxis\":{\"gridcolor\":\"white\",\"linecolor\":\"white\",\"ticks\":\"\"},\"bgcolor\":\"#E5ECF6\",\"caxis\":{\"gridcolor\":\"white\",\"linecolor\":\"white\",\"ticks\":\"\"}},\"title\":{\"x\":0.05},\"xaxis\":{\"automargin\":true,\"gridcolor\":\"white\",\"linecolor\":\"white\",\"ticks\":\"\",\"title\":{\"standoff\":15},\"zerolinecolor\":\"white\",\"zerolinewidth\":2},\"yaxis\":{\"automargin\":true,\"gridcolor\":\"white\",\"linecolor\":\"white\",\"ticks\":\"\",\"title\":{\"standoff\":15},\"zerolinecolor\":\"white\",\"zerolinewidth\":2}}},\"xaxis\":{\"anchor\":\"y\",\"domain\":[0.0,1.0],\"title\":{\"text\":\"platelets\"}},\"yaxis\":{\"anchor\":\"x\",\"domain\":[0.0,1.0]},\"legend\":{\"tracegroupgap\":0},\"margin\":{\"t\":60},\"boxmode\":\"group\",\"height\":200,\"width\":1100},                        {\"responsive\": true}                    ).then(function(){\n",
              "                            \n",
              "var gd = document.getElementById('e774f002-2b17-490c-b7f0-cf33d4d328e9');\n",
              "var x = new MutationObserver(function (mutations, observer) {{\n",
              "        var display = window.getComputedStyle(gd).display;\n",
              "        if (!display || display === 'none') {{\n",
              "            console.log([gd, 'removed!']);\n",
              "            Plotly.purge(gd);\n",
              "            observer.disconnect();\n",
              "        }}\n",
              "}});\n",
              "\n",
              "// Listen for the removal of the full notebook cells\n",
              "var notebookContainer = gd.closest('#notebook-container');\n",
              "if (notebookContainer) {{\n",
              "    x.observe(notebookContainer, {childList: true});\n",
              "}}\n",
              "\n",
              "// Listen for the clearing of the current output cell\n",
              "var outputEl = gd.closest('.output');\n",
              "if (outputEl) {{\n",
              "    x.observe(outputEl, {childList: true});\n",
              "}}\n",
              "\n",
              "                        })                };                            </script>        </div>\n",
              "</body>\n",
              "</html>"
            ]
          },
          "metadata": {}
        },
        {
          "output_type": "display_data",
          "data": {
            "text/html": [
              "<html>\n",
              "<head><meta charset=\"utf-8\" /></head>\n",
              "<body>\n",
              "    <div>            <script src=\"https://cdnjs.cloudflare.com/ajax/libs/mathjax/2.7.5/MathJax.js?config=TeX-AMS-MML_SVG\"></script><script type=\"text/javascript\">if (window.MathJax) {MathJax.Hub.Config({SVG: {font: \"STIX-Web\"}});}</script>                <script type=\"text/javascript\">window.PlotlyConfig = {MathJaxConfig: 'local'};</script>\n",
              "        <script src=\"https://cdn.plot.ly/plotly-2.8.3.min.js\"></script>                <div id=\"b242812c-21f1-4c47-870a-75b7919a3fbe\" class=\"plotly-graph-div\" style=\"height:200px; width:1100px;\"></div>            <script type=\"text/javascript\">                                    window.PLOTLYENV=window.PLOTLYENV || {};                                    if (document.getElementById(\"b242812c-21f1-4c47-870a-75b7919a3fbe\")) {                    Plotly.newPlot(                        \"b242812c-21f1-4c47-870a-75b7919a3fbe\",                        [{\"alignmentgroup\":\"True\",\"hovertemplate\":\"serum_creatinine=%{x}<extra></extra>\",\"legendgroup\":\"\",\"marker\":{\"color\":\"#636efa\"},\"name\":\"\",\"notched\":false,\"offsetgroup\":\"\",\"orientation\":\"h\",\"showlegend\":false,\"x\":[1.9,1.1,1.3,1.9,2.7,2.1,1.2,1.1,1.5,9.4,4.0,0.9,1.1,1.1,1.0,1.3,0.9,0.8,1.0,1.9,1.3,1.6,0.9,0.8,1.83,1.9,1.0,1.3,5.8,1.2,1.83,3.0,1.0,1.2,1.0,3.5,1.0,1.0,2.3,3.0,1.83,1.2,1.2,1.0,1.1,1.9,0.9,0.6,4.4,1.0,1.0,1.4,6.8,1.0,2.2,2.0,2.7,0.6,1.1,1.3,1.0,2.3,1.1,1.0,1.18,2.9,1.3,1.0,1.2,1.83,0.8,0.9,1.0,1.3,1.2,0.7,0.8,1.2,0.6,0.9,1.7,1.18,2.5,1.8,1.0,0.7,1.1,0.8,0.7,1.1,0.8,1.0,1.18,1.7,0.7,1.0,1.3,1.1,1.2,1.1,1.1,1.18,1.1,1.0,2.3,1.7,1.3,0.9,1.1,1.3,1.2,1.2,1.6,1.3,1.2,1.0,0.7,3.2,0.9,1.83,1.5,1.0,0.75,0.9,3.7,1.3,2.1,0.8,0.7,3.4,0.7,6.1,1.18,1.3,1.18,1.18,0.9,2.1,1.0,0.8,1.1,0.9,0.9,0.9,1.7,0.7,0.7,1.0,1.83,0.9,2.5,0.9,0.9,1.18,0.8,1.7,1.4,1.0,1.3,1.1,1.2,0.8,0.9,0.9,1.1,1.3,0.7,2.4,1.0,0.8,1.5,0.9,1.1,0.8,0.9,1.0,1.0,1.0,1.2,0.7,0.9,1.0,1.2,2.5,1.2,1.5,0.6,2.1,1.0,0.9,2.1,1.5,0.7,1.18,1.6,1.8,1.18,0.8,1.0,1.8,0.7,1.0,0.9,3.5,0.7,1.0,0.8,0.9,1.0,0.8,1.0,0.8,1.4,1.6,0.8,1.3,0.9,9.0,1.1,0.7,1.83,1.1,1.1,0.8,1.0,1.4,1.3,1.0,5.0,1.2,1.7,1.1,0.9,1.4,1.1,1.1,1.1,1.2,1.0,1.18,1.3,1.3,1.1,0.9,1.8,1.4,1.1,2.4,1.0,1.2,0.5,0.8,1.0,1.2,1.0,1.0,1.7,1.0,0.8,0.7,1.0,0.7,1.4,1.0,1.2,0.9,1.83,1.7,0.9,1.0,1.6,0.9,1.2,0.7,1.0,0.8,1.1,1.1,0.7,1.3,1.0,2.7,3.8,1.1,0.8,1.2,1.7,1.0,1.1,0.9,0.8,1.4,1.0,0.9,1.1,1.2,0.8,1.4,1.6],\"x0\":\" \",\"xaxis\":\"x\",\"y0\":\" \",\"yaxis\":\"y\",\"type\":\"box\"}],                        {\"template\":{\"data\":{\"bar\":[{\"error_x\":{\"color\":\"#2a3f5f\"},\"error_y\":{\"color\":\"#2a3f5f\"},\"marker\":{\"line\":{\"color\":\"#E5ECF6\",\"width\":0.5},\"pattern\":{\"fillmode\":\"overlay\",\"size\":10,\"solidity\":0.2}},\"type\":\"bar\"}],\"barpolar\":[{\"marker\":{\"line\":{\"color\":\"#E5ECF6\",\"width\":0.5},\"pattern\":{\"fillmode\":\"overlay\",\"size\":10,\"solidity\":0.2}},\"type\":\"barpolar\"}],\"carpet\":[{\"aaxis\":{\"endlinecolor\":\"#2a3f5f\",\"gridcolor\":\"white\",\"linecolor\":\"white\",\"minorgridcolor\":\"white\",\"startlinecolor\":\"#2a3f5f\"},\"baxis\":{\"endlinecolor\":\"#2a3f5f\",\"gridcolor\":\"white\",\"linecolor\":\"white\",\"minorgridcolor\":\"white\",\"startlinecolor\":\"#2a3f5f\"},\"type\":\"carpet\"}],\"choropleth\":[{\"colorbar\":{\"outlinewidth\":0,\"ticks\":\"\"},\"type\":\"choropleth\"}],\"contour\":[{\"colorbar\":{\"outlinewidth\":0,\"ticks\":\"\"},\"colorscale\":[[0.0,\"#0d0887\"],[0.1111111111111111,\"#46039f\"],[0.2222222222222222,\"#7201a8\"],[0.3333333333333333,\"#9c179e\"],[0.4444444444444444,\"#bd3786\"],[0.5555555555555556,\"#d8576b\"],[0.6666666666666666,\"#ed7953\"],[0.7777777777777778,\"#fb9f3a\"],[0.8888888888888888,\"#fdca26\"],[1.0,\"#f0f921\"]],\"type\":\"contour\"}],\"contourcarpet\":[{\"colorbar\":{\"outlinewidth\":0,\"ticks\":\"\"},\"type\":\"contourcarpet\"}],\"heatmap\":[{\"colorbar\":{\"outlinewidth\":0,\"ticks\":\"\"},\"colorscale\":[[0.0,\"#0d0887\"],[0.1111111111111111,\"#46039f\"],[0.2222222222222222,\"#7201a8\"],[0.3333333333333333,\"#9c179e\"],[0.4444444444444444,\"#bd3786\"],[0.5555555555555556,\"#d8576b\"],[0.6666666666666666,\"#ed7953\"],[0.7777777777777778,\"#fb9f3a\"],[0.8888888888888888,\"#fdca26\"],[1.0,\"#f0f921\"]],\"type\":\"heatmap\"}],\"heatmapgl\":[{\"colorbar\":{\"outlinewidth\":0,\"ticks\":\"\"},\"colorscale\":[[0.0,\"#0d0887\"],[0.1111111111111111,\"#46039f\"],[0.2222222222222222,\"#7201a8\"],[0.3333333333333333,\"#9c179e\"],[0.4444444444444444,\"#bd3786\"],[0.5555555555555556,\"#d8576b\"],[0.6666666666666666,\"#ed7953\"],[0.7777777777777778,\"#fb9f3a\"],[0.8888888888888888,\"#fdca26\"],[1.0,\"#f0f921\"]],\"type\":\"heatmapgl\"}],\"histogram\":[{\"marker\":{\"pattern\":{\"fillmode\":\"overlay\",\"size\":10,\"solidity\":0.2}},\"type\":\"histogram\"}],\"histogram2d\":[{\"colorbar\":{\"outlinewidth\":0,\"ticks\":\"\"},\"colorscale\":[[0.0,\"#0d0887\"],[0.1111111111111111,\"#46039f\"],[0.2222222222222222,\"#7201a8\"],[0.3333333333333333,\"#9c179e\"],[0.4444444444444444,\"#bd3786\"],[0.5555555555555556,\"#d8576b\"],[0.6666666666666666,\"#ed7953\"],[0.7777777777777778,\"#fb9f3a\"],[0.8888888888888888,\"#fdca26\"],[1.0,\"#f0f921\"]],\"type\":\"histogram2d\"}],\"histogram2dcontour\":[{\"colorbar\":{\"outlinewidth\":0,\"ticks\":\"\"},\"colorscale\":[[0.0,\"#0d0887\"],[0.1111111111111111,\"#46039f\"],[0.2222222222222222,\"#7201a8\"],[0.3333333333333333,\"#9c179e\"],[0.4444444444444444,\"#bd3786\"],[0.5555555555555556,\"#d8576b\"],[0.6666666666666666,\"#ed7953\"],[0.7777777777777778,\"#fb9f3a\"],[0.8888888888888888,\"#fdca26\"],[1.0,\"#f0f921\"]],\"type\":\"histogram2dcontour\"}],\"mesh3d\":[{\"colorbar\":{\"outlinewidth\":0,\"ticks\":\"\"},\"type\":\"mesh3d\"}],\"parcoords\":[{\"line\":{\"colorbar\":{\"outlinewidth\":0,\"ticks\":\"\"}},\"type\":\"parcoords\"}],\"pie\":[{\"automargin\":true,\"type\":\"pie\"}],\"scatter\":[{\"marker\":{\"colorbar\":{\"outlinewidth\":0,\"ticks\":\"\"}},\"type\":\"scatter\"}],\"scatter3d\":[{\"line\":{\"colorbar\":{\"outlinewidth\":0,\"ticks\":\"\"}},\"marker\":{\"colorbar\":{\"outlinewidth\":0,\"ticks\":\"\"}},\"type\":\"scatter3d\"}],\"scattercarpet\":[{\"marker\":{\"colorbar\":{\"outlinewidth\":0,\"ticks\":\"\"}},\"type\":\"scattercarpet\"}],\"scattergeo\":[{\"marker\":{\"colorbar\":{\"outlinewidth\":0,\"ticks\":\"\"}},\"type\":\"scattergeo\"}],\"scattergl\":[{\"marker\":{\"colorbar\":{\"outlinewidth\":0,\"ticks\":\"\"}},\"type\":\"scattergl\"}],\"scattermapbox\":[{\"marker\":{\"colorbar\":{\"outlinewidth\":0,\"ticks\":\"\"}},\"type\":\"scattermapbox\"}],\"scatterpolar\":[{\"marker\":{\"colorbar\":{\"outlinewidth\":0,\"ticks\":\"\"}},\"type\":\"scatterpolar\"}],\"scatterpolargl\":[{\"marker\":{\"colorbar\":{\"outlinewidth\":0,\"ticks\":\"\"}},\"type\":\"scatterpolargl\"}],\"scatterternary\":[{\"marker\":{\"colorbar\":{\"outlinewidth\":0,\"ticks\":\"\"}},\"type\":\"scatterternary\"}],\"surface\":[{\"colorbar\":{\"outlinewidth\":0,\"ticks\":\"\"},\"colorscale\":[[0.0,\"#0d0887\"],[0.1111111111111111,\"#46039f\"],[0.2222222222222222,\"#7201a8\"],[0.3333333333333333,\"#9c179e\"],[0.4444444444444444,\"#bd3786\"],[0.5555555555555556,\"#d8576b\"],[0.6666666666666666,\"#ed7953\"],[0.7777777777777778,\"#fb9f3a\"],[0.8888888888888888,\"#fdca26\"],[1.0,\"#f0f921\"]],\"type\":\"surface\"}],\"table\":[{\"cells\":{\"fill\":{\"color\":\"#EBF0F8\"},\"line\":{\"color\":\"white\"}},\"header\":{\"fill\":{\"color\":\"#C8D4E3\"},\"line\":{\"color\":\"white\"}},\"type\":\"table\"}]},\"layout\":{\"annotationdefaults\":{\"arrowcolor\":\"#2a3f5f\",\"arrowhead\":0,\"arrowwidth\":1},\"autotypenumbers\":\"strict\",\"coloraxis\":{\"colorbar\":{\"outlinewidth\":0,\"ticks\":\"\"}},\"colorscale\":{\"diverging\":[[0,\"#8e0152\"],[0.1,\"#c51b7d\"],[0.2,\"#de77ae\"],[0.3,\"#f1b6da\"],[0.4,\"#fde0ef\"],[0.5,\"#f7f7f7\"],[0.6,\"#e6f5d0\"],[0.7,\"#b8e186\"],[0.8,\"#7fbc41\"],[0.9,\"#4d9221\"],[1,\"#276419\"]],\"sequential\":[[0.0,\"#0d0887\"],[0.1111111111111111,\"#46039f\"],[0.2222222222222222,\"#7201a8\"],[0.3333333333333333,\"#9c179e\"],[0.4444444444444444,\"#bd3786\"],[0.5555555555555556,\"#d8576b\"],[0.6666666666666666,\"#ed7953\"],[0.7777777777777778,\"#fb9f3a\"],[0.8888888888888888,\"#fdca26\"],[1.0,\"#f0f921\"]],\"sequentialminus\":[[0.0,\"#0d0887\"],[0.1111111111111111,\"#46039f\"],[0.2222222222222222,\"#7201a8\"],[0.3333333333333333,\"#9c179e\"],[0.4444444444444444,\"#bd3786\"],[0.5555555555555556,\"#d8576b\"],[0.6666666666666666,\"#ed7953\"],[0.7777777777777778,\"#fb9f3a\"],[0.8888888888888888,\"#fdca26\"],[1.0,\"#f0f921\"]]},\"colorway\":[\"#636efa\",\"#EF553B\",\"#00cc96\",\"#ab63fa\",\"#FFA15A\",\"#19d3f3\",\"#FF6692\",\"#B6E880\",\"#FF97FF\",\"#FECB52\"],\"font\":{\"color\":\"#2a3f5f\"},\"geo\":{\"bgcolor\":\"white\",\"lakecolor\":\"white\",\"landcolor\":\"#E5ECF6\",\"showlakes\":true,\"showland\":true,\"subunitcolor\":\"white\"},\"hoverlabel\":{\"align\":\"left\"},\"hovermode\":\"closest\",\"mapbox\":{\"style\":\"light\"},\"paper_bgcolor\":\"white\",\"plot_bgcolor\":\"#E5ECF6\",\"polar\":{\"angularaxis\":{\"gridcolor\":\"white\",\"linecolor\":\"white\",\"ticks\":\"\"},\"bgcolor\":\"#E5ECF6\",\"radialaxis\":{\"gridcolor\":\"white\",\"linecolor\":\"white\",\"ticks\":\"\"}},\"scene\":{\"xaxis\":{\"backgroundcolor\":\"#E5ECF6\",\"gridcolor\":\"white\",\"gridwidth\":2,\"linecolor\":\"white\",\"showbackground\":true,\"ticks\":\"\",\"zerolinecolor\":\"white\"},\"yaxis\":{\"backgroundcolor\":\"#E5ECF6\",\"gridcolor\":\"white\",\"gridwidth\":2,\"linecolor\":\"white\",\"showbackground\":true,\"ticks\":\"\",\"zerolinecolor\":\"white\"},\"zaxis\":{\"backgroundcolor\":\"#E5ECF6\",\"gridcolor\":\"white\",\"gridwidth\":2,\"linecolor\":\"white\",\"showbackground\":true,\"ticks\":\"\",\"zerolinecolor\":\"white\"}},\"shapedefaults\":{\"line\":{\"color\":\"#2a3f5f\"}},\"ternary\":{\"aaxis\":{\"gridcolor\":\"white\",\"linecolor\":\"white\",\"ticks\":\"\"},\"baxis\":{\"gridcolor\":\"white\",\"linecolor\":\"white\",\"ticks\":\"\"},\"bgcolor\":\"#E5ECF6\",\"caxis\":{\"gridcolor\":\"white\",\"linecolor\":\"white\",\"ticks\":\"\"}},\"title\":{\"x\":0.05},\"xaxis\":{\"automargin\":true,\"gridcolor\":\"white\",\"linecolor\":\"white\",\"ticks\":\"\",\"title\":{\"standoff\":15},\"zerolinecolor\":\"white\",\"zerolinewidth\":2},\"yaxis\":{\"automargin\":true,\"gridcolor\":\"white\",\"linecolor\":\"white\",\"ticks\":\"\",\"title\":{\"standoff\":15},\"zerolinecolor\":\"white\",\"zerolinewidth\":2}}},\"xaxis\":{\"anchor\":\"y\",\"domain\":[0.0,1.0],\"title\":{\"text\":\"serum_creatinine\"}},\"yaxis\":{\"anchor\":\"x\",\"domain\":[0.0,1.0]},\"legend\":{\"tracegroupgap\":0},\"margin\":{\"t\":60},\"boxmode\":\"group\",\"height\":200,\"width\":1100},                        {\"responsive\": true}                    ).then(function(){\n",
              "                            \n",
              "var gd = document.getElementById('b242812c-21f1-4c47-870a-75b7919a3fbe');\n",
              "var x = new MutationObserver(function (mutations, observer) {{\n",
              "        var display = window.getComputedStyle(gd).display;\n",
              "        if (!display || display === 'none') {{\n",
              "            console.log([gd, 'removed!']);\n",
              "            Plotly.purge(gd);\n",
              "            observer.disconnect();\n",
              "        }}\n",
              "}});\n",
              "\n",
              "// Listen for the removal of the full notebook cells\n",
              "var notebookContainer = gd.closest('#notebook-container');\n",
              "if (notebookContainer) {{\n",
              "    x.observe(notebookContainer, {childList: true});\n",
              "}}\n",
              "\n",
              "// Listen for the clearing of the current output cell\n",
              "var outputEl = gd.closest('.output');\n",
              "if (outputEl) {{\n",
              "    x.observe(outputEl, {childList: true});\n",
              "}}\n",
              "\n",
              "                        })                };                            </script>        </div>\n",
              "</body>\n",
              "</html>"
            ]
          },
          "metadata": {}
        },
        {
          "output_type": "display_data",
          "data": {
            "text/html": [
              "<html>\n",
              "<head><meta charset=\"utf-8\" /></head>\n",
              "<body>\n",
              "    <div>            <script src=\"https://cdnjs.cloudflare.com/ajax/libs/mathjax/2.7.5/MathJax.js?config=TeX-AMS-MML_SVG\"></script><script type=\"text/javascript\">if (window.MathJax) {MathJax.Hub.Config({SVG: {font: \"STIX-Web\"}});}</script>                <script type=\"text/javascript\">window.PlotlyConfig = {MathJaxConfig: 'local'};</script>\n",
              "        <script src=\"https://cdn.plot.ly/plotly-2.8.3.min.js\"></script>                <div id=\"63937a99-3805-4c44-942f-cdaa72a7f9fe\" class=\"plotly-graph-div\" style=\"height:200px; width:1100px;\"></div>            <script type=\"text/javascript\">                                    window.PLOTLYENV=window.PLOTLYENV || {};                                    if (document.getElementById(\"63937a99-3805-4c44-942f-cdaa72a7f9fe\")) {                    Plotly.newPlot(                        \"63937a99-3805-4c44-942f-cdaa72a7f9fe\",                        [{\"alignmentgroup\":\"True\",\"hovertemplate\":\"serum_sodium=%{x}<extra></extra>\",\"legendgroup\":\"\",\"marker\":{\"color\":\"#636efa\"},\"name\":\"\",\"notched\":false,\"offsetgroup\":\"\",\"orientation\":\"h\",\"showlegend\":false,\"x\":[130,136,129,137,116,132,137,131,138,133,131,140,137,137,138,136,140,127,140,121,137,136,140,135,134,144,138,136,134,132,134,132,128,138,140,134,134,145,137,142,134,136,139,134,142,135,130,138,133,140,138,139,146,134,132,132,138,138,136,136,139,131,139,145,137,127,136,140,142,135,140,139,132,137,134,139,140,140,131,140,136,137,132,133,141,140,137,140,139,144,136,133,137,135,142,141,134,136,137,140,141,137,144,140,143,138,137,138,133,142,132,135,136,137,126,139,136,138,140,134,135,136,140,145,134,135,124,137,136,145,138,131,137,145,137,137,137,130,136,138,134,140,132,141,139,141,136,137,134,136,135,139,134,137,136,140,136,136,134,139,134,139,137,142,139,135,133,134,138,133,136,140,145,139,137,138,135,140,145,140,136,136,136,134,137,136,134,144,136,140,134,135,130,142,135,145,137,138,134,113,137,136,138,136,137,136,141,136,141,130,136,140,138,130,134,134,141,137,134,140,134,145,139,134,138,125,132,140,130,134,127,134,137,137,137,137,148,132,136,137,139,136,136,141,134,137,138,135,142,130,139,143,133,132,139,142,139,139,135,135,138,133,129,140,141,140,134,140,140,132,130,134,133,140,137,137,142,140,136,136,137,136,128,138,141,135,140,132,142,144,141,139,140,136,143,139,138,140,136],\"x0\":\" \",\"xaxis\":\"x\",\"y0\":\" \",\"yaxis\":\"y\",\"type\":\"box\"}],                        {\"template\":{\"data\":{\"bar\":[{\"error_x\":{\"color\":\"#2a3f5f\"},\"error_y\":{\"color\":\"#2a3f5f\"},\"marker\":{\"line\":{\"color\":\"#E5ECF6\",\"width\":0.5},\"pattern\":{\"fillmode\":\"overlay\",\"size\":10,\"solidity\":0.2}},\"type\":\"bar\"}],\"barpolar\":[{\"marker\":{\"line\":{\"color\":\"#E5ECF6\",\"width\":0.5},\"pattern\":{\"fillmode\":\"overlay\",\"size\":10,\"solidity\":0.2}},\"type\":\"barpolar\"}],\"carpet\":[{\"aaxis\":{\"endlinecolor\":\"#2a3f5f\",\"gridcolor\":\"white\",\"linecolor\":\"white\",\"minorgridcolor\":\"white\",\"startlinecolor\":\"#2a3f5f\"},\"baxis\":{\"endlinecolor\":\"#2a3f5f\",\"gridcolor\":\"white\",\"linecolor\":\"white\",\"minorgridcolor\":\"white\",\"startlinecolor\":\"#2a3f5f\"},\"type\":\"carpet\"}],\"choropleth\":[{\"colorbar\":{\"outlinewidth\":0,\"ticks\":\"\"},\"type\":\"choropleth\"}],\"contour\":[{\"colorbar\":{\"outlinewidth\":0,\"ticks\":\"\"},\"colorscale\":[[0.0,\"#0d0887\"],[0.1111111111111111,\"#46039f\"],[0.2222222222222222,\"#7201a8\"],[0.3333333333333333,\"#9c179e\"],[0.4444444444444444,\"#bd3786\"],[0.5555555555555556,\"#d8576b\"],[0.6666666666666666,\"#ed7953\"],[0.7777777777777778,\"#fb9f3a\"],[0.8888888888888888,\"#fdca26\"],[1.0,\"#f0f921\"]],\"type\":\"contour\"}],\"contourcarpet\":[{\"colorbar\":{\"outlinewidth\":0,\"ticks\":\"\"},\"type\":\"contourcarpet\"}],\"heatmap\":[{\"colorbar\":{\"outlinewidth\":0,\"ticks\":\"\"},\"colorscale\":[[0.0,\"#0d0887\"],[0.1111111111111111,\"#46039f\"],[0.2222222222222222,\"#7201a8\"],[0.3333333333333333,\"#9c179e\"],[0.4444444444444444,\"#bd3786\"],[0.5555555555555556,\"#d8576b\"],[0.6666666666666666,\"#ed7953\"],[0.7777777777777778,\"#fb9f3a\"],[0.8888888888888888,\"#fdca26\"],[1.0,\"#f0f921\"]],\"type\":\"heatmap\"}],\"heatmapgl\":[{\"colorbar\":{\"outlinewidth\":0,\"ticks\":\"\"},\"colorscale\":[[0.0,\"#0d0887\"],[0.1111111111111111,\"#46039f\"],[0.2222222222222222,\"#7201a8\"],[0.3333333333333333,\"#9c179e\"],[0.4444444444444444,\"#bd3786\"],[0.5555555555555556,\"#d8576b\"],[0.6666666666666666,\"#ed7953\"],[0.7777777777777778,\"#fb9f3a\"],[0.8888888888888888,\"#fdca26\"],[1.0,\"#f0f921\"]],\"type\":\"heatmapgl\"}],\"histogram\":[{\"marker\":{\"pattern\":{\"fillmode\":\"overlay\",\"size\":10,\"solidity\":0.2}},\"type\":\"histogram\"}],\"histogram2d\":[{\"colorbar\":{\"outlinewidth\":0,\"ticks\":\"\"},\"colorscale\":[[0.0,\"#0d0887\"],[0.1111111111111111,\"#46039f\"],[0.2222222222222222,\"#7201a8\"],[0.3333333333333333,\"#9c179e\"],[0.4444444444444444,\"#bd3786\"],[0.5555555555555556,\"#d8576b\"],[0.6666666666666666,\"#ed7953\"],[0.7777777777777778,\"#fb9f3a\"],[0.8888888888888888,\"#fdca26\"],[1.0,\"#f0f921\"]],\"type\":\"histogram2d\"}],\"histogram2dcontour\":[{\"colorbar\":{\"outlinewidth\":0,\"ticks\":\"\"},\"colorscale\":[[0.0,\"#0d0887\"],[0.1111111111111111,\"#46039f\"],[0.2222222222222222,\"#7201a8\"],[0.3333333333333333,\"#9c179e\"],[0.4444444444444444,\"#bd3786\"],[0.5555555555555556,\"#d8576b\"],[0.6666666666666666,\"#ed7953\"],[0.7777777777777778,\"#fb9f3a\"],[0.8888888888888888,\"#fdca26\"],[1.0,\"#f0f921\"]],\"type\":\"histogram2dcontour\"}],\"mesh3d\":[{\"colorbar\":{\"outlinewidth\":0,\"ticks\":\"\"},\"type\":\"mesh3d\"}],\"parcoords\":[{\"line\":{\"colorbar\":{\"outlinewidth\":0,\"ticks\":\"\"}},\"type\":\"parcoords\"}],\"pie\":[{\"automargin\":true,\"type\":\"pie\"}],\"scatter\":[{\"marker\":{\"colorbar\":{\"outlinewidth\":0,\"ticks\":\"\"}},\"type\":\"scatter\"}],\"scatter3d\":[{\"line\":{\"colorbar\":{\"outlinewidth\":0,\"ticks\":\"\"}},\"marker\":{\"colorbar\":{\"outlinewidth\":0,\"ticks\":\"\"}},\"type\":\"scatter3d\"}],\"scattercarpet\":[{\"marker\":{\"colorbar\":{\"outlinewidth\":0,\"ticks\":\"\"}},\"type\":\"scattercarpet\"}],\"scattergeo\":[{\"marker\":{\"colorbar\":{\"outlinewidth\":0,\"ticks\":\"\"}},\"type\":\"scattergeo\"}],\"scattergl\":[{\"marker\":{\"colorbar\":{\"outlinewidth\":0,\"ticks\":\"\"}},\"type\":\"scattergl\"}],\"scattermapbox\":[{\"marker\":{\"colorbar\":{\"outlinewidth\":0,\"ticks\":\"\"}},\"type\":\"scattermapbox\"}],\"scatterpolar\":[{\"marker\":{\"colorbar\":{\"outlinewidth\":0,\"ticks\":\"\"}},\"type\":\"scatterpolar\"}],\"scatterpolargl\":[{\"marker\":{\"colorbar\":{\"outlinewidth\":0,\"ticks\":\"\"}},\"type\":\"scatterpolargl\"}],\"scatterternary\":[{\"marker\":{\"colorbar\":{\"outlinewidth\":0,\"ticks\":\"\"}},\"type\":\"scatterternary\"}],\"surface\":[{\"colorbar\":{\"outlinewidth\":0,\"ticks\":\"\"},\"colorscale\":[[0.0,\"#0d0887\"],[0.1111111111111111,\"#46039f\"],[0.2222222222222222,\"#7201a8\"],[0.3333333333333333,\"#9c179e\"],[0.4444444444444444,\"#bd3786\"],[0.5555555555555556,\"#d8576b\"],[0.6666666666666666,\"#ed7953\"],[0.7777777777777778,\"#fb9f3a\"],[0.8888888888888888,\"#fdca26\"],[1.0,\"#f0f921\"]],\"type\":\"surface\"}],\"table\":[{\"cells\":{\"fill\":{\"color\":\"#EBF0F8\"},\"line\":{\"color\":\"white\"}},\"header\":{\"fill\":{\"color\":\"#C8D4E3\"},\"line\":{\"color\":\"white\"}},\"type\":\"table\"}]},\"layout\":{\"annotationdefaults\":{\"arrowcolor\":\"#2a3f5f\",\"arrowhead\":0,\"arrowwidth\":1},\"autotypenumbers\":\"strict\",\"coloraxis\":{\"colorbar\":{\"outlinewidth\":0,\"ticks\":\"\"}},\"colorscale\":{\"diverging\":[[0,\"#8e0152\"],[0.1,\"#c51b7d\"],[0.2,\"#de77ae\"],[0.3,\"#f1b6da\"],[0.4,\"#fde0ef\"],[0.5,\"#f7f7f7\"],[0.6,\"#e6f5d0\"],[0.7,\"#b8e186\"],[0.8,\"#7fbc41\"],[0.9,\"#4d9221\"],[1,\"#276419\"]],\"sequential\":[[0.0,\"#0d0887\"],[0.1111111111111111,\"#46039f\"],[0.2222222222222222,\"#7201a8\"],[0.3333333333333333,\"#9c179e\"],[0.4444444444444444,\"#bd3786\"],[0.5555555555555556,\"#d8576b\"],[0.6666666666666666,\"#ed7953\"],[0.7777777777777778,\"#fb9f3a\"],[0.8888888888888888,\"#fdca26\"],[1.0,\"#f0f921\"]],\"sequentialminus\":[[0.0,\"#0d0887\"],[0.1111111111111111,\"#46039f\"],[0.2222222222222222,\"#7201a8\"],[0.3333333333333333,\"#9c179e\"],[0.4444444444444444,\"#bd3786\"],[0.5555555555555556,\"#d8576b\"],[0.6666666666666666,\"#ed7953\"],[0.7777777777777778,\"#fb9f3a\"],[0.8888888888888888,\"#fdca26\"],[1.0,\"#f0f921\"]]},\"colorway\":[\"#636efa\",\"#EF553B\",\"#00cc96\",\"#ab63fa\",\"#FFA15A\",\"#19d3f3\",\"#FF6692\",\"#B6E880\",\"#FF97FF\",\"#FECB52\"],\"font\":{\"color\":\"#2a3f5f\"},\"geo\":{\"bgcolor\":\"white\",\"lakecolor\":\"white\",\"landcolor\":\"#E5ECF6\",\"showlakes\":true,\"showland\":true,\"subunitcolor\":\"white\"},\"hoverlabel\":{\"align\":\"left\"},\"hovermode\":\"closest\",\"mapbox\":{\"style\":\"light\"},\"paper_bgcolor\":\"white\",\"plot_bgcolor\":\"#E5ECF6\",\"polar\":{\"angularaxis\":{\"gridcolor\":\"white\",\"linecolor\":\"white\",\"ticks\":\"\"},\"bgcolor\":\"#E5ECF6\",\"radialaxis\":{\"gridcolor\":\"white\",\"linecolor\":\"white\",\"ticks\":\"\"}},\"scene\":{\"xaxis\":{\"backgroundcolor\":\"#E5ECF6\",\"gridcolor\":\"white\",\"gridwidth\":2,\"linecolor\":\"white\",\"showbackground\":true,\"ticks\":\"\",\"zerolinecolor\":\"white\"},\"yaxis\":{\"backgroundcolor\":\"#E5ECF6\",\"gridcolor\":\"white\",\"gridwidth\":2,\"linecolor\":\"white\",\"showbackground\":true,\"ticks\":\"\",\"zerolinecolor\":\"white\"},\"zaxis\":{\"backgroundcolor\":\"#E5ECF6\",\"gridcolor\":\"white\",\"gridwidth\":2,\"linecolor\":\"white\",\"showbackground\":true,\"ticks\":\"\",\"zerolinecolor\":\"white\"}},\"shapedefaults\":{\"line\":{\"color\":\"#2a3f5f\"}},\"ternary\":{\"aaxis\":{\"gridcolor\":\"white\",\"linecolor\":\"white\",\"ticks\":\"\"},\"baxis\":{\"gridcolor\":\"white\",\"linecolor\":\"white\",\"ticks\":\"\"},\"bgcolor\":\"#E5ECF6\",\"caxis\":{\"gridcolor\":\"white\",\"linecolor\":\"white\",\"ticks\":\"\"}},\"title\":{\"x\":0.05},\"xaxis\":{\"automargin\":true,\"gridcolor\":\"white\",\"linecolor\":\"white\",\"ticks\":\"\",\"title\":{\"standoff\":15},\"zerolinecolor\":\"white\",\"zerolinewidth\":2},\"yaxis\":{\"automargin\":true,\"gridcolor\":\"white\",\"linecolor\":\"white\",\"ticks\":\"\",\"title\":{\"standoff\":15},\"zerolinecolor\":\"white\",\"zerolinewidth\":2}}},\"xaxis\":{\"anchor\":\"y\",\"domain\":[0.0,1.0],\"title\":{\"text\":\"serum_sodium\"}},\"yaxis\":{\"anchor\":\"x\",\"domain\":[0.0,1.0]},\"legend\":{\"tracegroupgap\":0},\"margin\":{\"t\":60},\"boxmode\":\"group\",\"height\":200,\"width\":1100},                        {\"responsive\": true}                    ).then(function(){\n",
              "                            \n",
              "var gd = document.getElementById('63937a99-3805-4c44-942f-cdaa72a7f9fe');\n",
              "var x = new MutationObserver(function (mutations, observer) {{\n",
              "        var display = window.getComputedStyle(gd).display;\n",
              "        if (!display || display === 'none') {{\n",
              "            console.log([gd, 'removed!']);\n",
              "            Plotly.purge(gd);\n",
              "            observer.disconnect();\n",
              "        }}\n",
              "}});\n",
              "\n",
              "// Listen for the removal of the full notebook cells\n",
              "var notebookContainer = gd.closest('#notebook-container');\n",
              "if (notebookContainer) {{\n",
              "    x.observe(notebookContainer, {childList: true});\n",
              "}}\n",
              "\n",
              "// Listen for the clearing of the current output cell\n",
              "var outputEl = gd.closest('.output');\n",
              "if (outputEl) {{\n",
              "    x.observe(outputEl, {childList: true});\n",
              "}}\n",
              "\n",
              "                        })                };                            </script>        </div>\n",
              "</body>\n",
              "</html>"
            ]
          },
          "metadata": {}
        },
        {
          "output_type": "display_data",
          "data": {
            "text/html": [
              "<html>\n",
              "<head><meta charset=\"utf-8\" /></head>\n",
              "<body>\n",
              "    <div>            <script src=\"https://cdnjs.cloudflare.com/ajax/libs/mathjax/2.7.5/MathJax.js?config=TeX-AMS-MML_SVG\"></script><script type=\"text/javascript\">if (window.MathJax) {MathJax.Hub.Config({SVG: {font: \"STIX-Web\"}});}</script>                <script type=\"text/javascript\">window.PlotlyConfig = {MathJaxConfig: 'local'};</script>\n",
              "        <script src=\"https://cdn.plot.ly/plotly-2.8.3.min.js\"></script>                <div id=\"265a8dd0-2959-4a54-8889-37c2f037afcb\" class=\"plotly-graph-div\" style=\"height:200px; width:1100px;\"></div>            <script type=\"text/javascript\">                                    window.PLOTLYENV=window.PLOTLYENV || {};                                    if (document.getElementById(\"265a8dd0-2959-4a54-8889-37c2f037afcb\")) {                    Plotly.newPlot(                        \"265a8dd0-2959-4a54-8889-37c2f037afcb\",                        [{\"alignmentgroup\":\"True\",\"hovertemplate\":\"time=%{x}<extra></extra>\",\"legendgroup\":\"\",\"marker\":{\"color\":\"#636efa\"},\"name\":\"\",\"notched\":false,\"offsetgroup\":\"\",\"orientation\":\"h\",\"showlegend\":false,\"x\":[4,6,7,7,8,8,10,10,10,10,10,10,11,11,12,13,14,14,15,15,16,20,20,22,23,23,24,26,26,26,27,28,28,29,29,30,30,30,30,30,31,32,33,33,33,35,38,40,41,42,43,43,43,44,45,50,54,54,55,59,60,60,60,61,63,64,65,65,66,67,68,71,72,72,73,73,74,74,74,74,75,76,77,78,78,79,79,79,79,79,80,80,82,82,83,83,83,85,85,86,87,87,87,87,87,88,88,88,88,88,90,90,90,90,91,91,94,94,94,95,95,95,95,95,96,97,100,104,104,105,106,107,107,107,107,107,107,108,108,108,109,109,109,110,111,112,112,113,113,115,115,117,118,119,120,120,120,120,121,121,121,121,123,126,129,130,134,135,140,145,145,146,146,146,146,146,147,147,147,147,148,150,154,162,170,171,172,172,172,174,174,174,175,180,180,180,185,186,186,186,186,186,186,187,187,187,187,187,187,187,188,192,192,193,194,195,196,196,197,197,198,200,201,201,205,205,205,206,207,207,207,208,209,209,209,209,209,210,210,211,212,212,212,213,213,213,214,214,214,214,214,215,215,215,215,216,220,230,230,231,233,233,235,237,237,240,241,244,244,244,244,244,245,245,245,245,245,246,246,246,247,250,250,250,250,250,250,250,256,256,257,258,258,270,270,271,278,280,285],\"x0\":\" \",\"xaxis\":\"x\",\"y0\":\" \",\"yaxis\":\"y\",\"type\":\"box\"}],                        {\"template\":{\"data\":{\"bar\":[{\"error_x\":{\"color\":\"#2a3f5f\"},\"error_y\":{\"color\":\"#2a3f5f\"},\"marker\":{\"line\":{\"color\":\"#E5ECF6\",\"width\":0.5},\"pattern\":{\"fillmode\":\"overlay\",\"size\":10,\"solidity\":0.2}},\"type\":\"bar\"}],\"barpolar\":[{\"marker\":{\"line\":{\"color\":\"#E5ECF6\",\"width\":0.5},\"pattern\":{\"fillmode\":\"overlay\",\"size\":10,\"solidity\":0.2}},\"type\":\"barpolar\"}],\"carpet\":[{\"aaxis\":{\"endlinecolor\":\"#2a3f5f\",\"gridcolor\":\"white\",\"linecolor\":\"white\",\"minorgridcolor\":\"white\",\"startlinecolor\":\"#2a3f5f\"},\"baxis\":{\"endlinecolor\":\"#2a3f5f\",\"gridcolor\":\"white\",\"linecolor\":\"white\",\"minorgridcolor\":\"white\",\"startlinecolor\":\"#2a3f5f\"},\"type\":\"carpet\"}],\"choropleth\":[{\"colorbar\":{\"outlinewidth\":0,\"ticks\":\"\"},\"type\":\"choropleth\"}],\"contour\":[{\"colorbar\":{\"outlinewidth\":0,\"ticks\":\"\"},\"colorscale\":[[0.0,\"#0d0887\"],[0.1111111111111111,\"#46039f\"],[0.2222222222222222,\"#7201a8\"],[0.3333333333333333,\"#9c179e\"],[0.4444444444444444,\"#bd3786\"],[0.5555555555555556,\"#d8576b\"],[0.6666666666666666,\"#ed7953\"],[0.7777777777777778,\"#fb9f3a\"],[0.8888888888888888,\"#fdca26\"],[1.0,\"#f0f921\"]],\"type\":\"contour\"}],\"contourcarpet\":[{\"colorbar\":{\"outlinewidth\":0,\"ticks\":\"\"},\"type\":\"contourcarpet\"}],\"heatmap\":[{\"colorbar\":{\"outlinewidth\":0,\"ticks\":\"\"},\"colorscale\":[[0.0,\"#0d0887\"],[0.1111111111111111,\"#46039f\"],[0.2222222222222222,\"#7201a8\"],[0.3333333333333333,\"#9c179e\"],[0.4444444444444444,\"#bd3786\"],[0.5555555555555556,\"#d8576b\"],[0.6666666666666666,\"#ed7953\"],[0.7777777777777778,\"#fb9f3a\"],[0.8888888888888888,\"#fdca26\"],[1.0,\"#f0f921\"]],\"type\":\"heatmap\"}],\"heatmapgl\":[{\"colorbar\":{\"outlinewidth\":0,\"ticks\":\"\"},\"colorscale\":[[0.0,\"#0d0887\"],[0.1111111111111111,\"#46039f\"],[0.2222222222222222,\"#7201a8\"],[0.3333333333333333,\"#9c179e\"],[0.4444444444444444,\"#bd3786\"],[0.5555555555555556,\"#d8576b\"],[0.6666666666666666,\"#ed7953\"],[0.7777777777777778,\"#fb9f3a\"],[0.8888888888888888,\"#fdca26\"],[1.0,\"#f0f921\"]],\"type\":\"heatmapgl\"}],\"histogram\":[{\"marker\":{\"pattern\":{\"fillmode\":\"overlay\",\"size\":10,\"solidity\":0.2}},\"type\":\"histogram\"}],\"histogram2d\":[{\"colorbar\":{\"outlinewidth\":0,\"ticks\":\"\"},\"colorscale\":[[0.0,\"#0d0887\"],[0.1111111111111111,\"#46039f\"],[0.2222222222222222,\"#7201a8\"],[0.3333333333333333,\"#9c179e\"],[0.4444444444444444,\"#bd3786\"],[0.5555555555555556,\"#d8576b\"],[0.6666666666666666,\"#ed7953\"],[0.7777777777777778,\"#fb9f3a\"],[0.8888888888888888,\"#fdca26\"],[1.0,\"#f0f921\"]],\"type\":\"histogram2d\"}],\"histogram2dcontour\":[{\"colorbar\":{\"outlinewidth\":0,\"ticks\":\"\"},\"colorscale\":[[0.0,\"#0d0887\"],[0.1111111111111111,\"#46039f\"],[0.2222222222222222,\"#7201a8\"],[0.3333333333333333,\"#9c179e\"],[0.4444444444444444,\"#bd3786\"],[0.5555555555555556,\"#d8576b\"],[0.6666666666666666,\"#ed7953\"],[0.7777777777777778,\"#fb9f3a\"],[0.8888888888888888,\"#fdca26\"],[1.0,\"#f0f921\"]],\"type\":\"histogram2dcontour\"}],\"mesh3d\":[{\"colorbar\":{\"outlinewidth\":0,\"ticks\":\"\"},\"type\":\"mesh3d\"}],\"parcoords\":[{\"line\":{\"colorbar\":{\"outlinewidth\":0,\"ticks\":\"\"}},\"type\":\"parcoords\"}],\"pie\":[{\"automargin\":true,\"type\":\"pie\"}],\"scatter\":[{\"marker\":{\"colorbar\":{\"outlinewidth\":0,\"ticks\":\"\"}},\"type\":\"scatter\"}],\"scatter3d\":[{\"line\":{\"colorbar\":{\"outlinewidth\":0,\"ticks\":\"\"}},\"marker\":{\"colorbar\":{\"outlinewidth\":0,\"ticks\":\"\"}},\"type\":\"scatter3d\"}],\"scattercarpet\":[{\"marker\":{\"colorbar\":{\"outlinewidth\":0,\"ticks\":\"\"}},\"type\":\"scattercarpet\"}],\"scattergeo\":[{\"marker\":{\"colorbar\":{\"outlinewidth\":0,\"ticks\":\"\"}},\"type\":\"scattergeo\"}],\"scattergl\":[{\"marker\":{\"colorbar\":{\"outlinewidth\":0,\"ticks\":\"\"}},\"type\":\"scattergl\"}],\"scattermapbox\":[{\"marker\":{\"colorbar\":{\"outlinewidth\":0,\"ticks\":\"\"}},\"type\":\"scattermapbox\"}],\"scatterpolar\":[{\"marker\":{\"colorbar\":{\"outlinewidth\":0,\"ticks\":\"\"}},\"type\":\"scatterpolar\"}],\"scatterpolargl\":[{\"marker\":{\"colorbar\":{\"outlinewidth\":0,\"ticks\":\"\"}},\"type\":\"scatterpolargl\"}],\"scatterternary\":[{\"marker\":{\"colorbar\":{\"outlinewidth\":0,\"ticks\":\"\"}},\"type\":\"scatterternary\"}],\"surface\":[{\"colorbar\":{\"outlinewidth\":0,\"ticks\":\"\"},\"colorscale\":[[0.0,\"#0d0887\"],[0.1111111111111111,\"#46039f\"],[0.2222222222222222,\"#7201a8\"],[0.3333333333333333,\"#9c179e\"],[0.4444444444444444,\"#bd3786\"],[0.5555555555555556,\"#d8576b\"],[0.6666666666666666,\"#ed7953\"],[0.7777777777777778,\"#fb9f3a\"],[0.8888888888888888,\"#fdca26\"],[1.0,\"#f0f921\"]],\"type\":\"surface\"}],\"table\":[{\"cells\":{\"fill\":{\"color\":\"#EBF0F8\"},\"line\":{\"color\":\"white\"}},\"header\":{\"fill\":{\"color\":\"#C8D4E3\"},\"line\":{\"color\":\"white\"}},\"type\":\"table\"}]},\"layout\":{\"annotationdefaults\":{\"arrowcolor\":\"#2a3f5f\",\"arrowhead\":0,\"arrowwidth\":1},\"autotypenumbers\":\"strict\",\"coloraxis\":{\"colorbar\":{\"outlinewidth\":0,\"ticks\":\"\"}},\"colorscale\":{\"diverging\":[[0,\"#8e0152\"],[0.1,\"#c51b7d\"],[0.2,\"#de77ae\"],[0.3,\"#f1b6da\"],[0.4,\"#fde0ef\"],[0.5,\"#f7f7f7\"],[0.6,\"#e6f5d0\"],[0.7,\"#b8e186\"],[0.8,\"#7fbc41\"],[0.9,\"#4d9221\"],[1,\"#276419\"]],\"sequential\":[[0.0,\"#0d0887\"],[0.1111111111111111,\"#46039f\"],[0.2222222222222222,\"#7201a8\"],[0.3333333333333333,\"#9c179e\"],[0.4444444444444444,\"#bd3786\"],[0.5555555555555556,\"#d8576b\"],[0.6666666666666666,\"#ed7953\"],[0.7777777777777778,\"#fb9f3a\"],[0.8888888888888888,\"#fdca26\"],[1.0,\"#f0f921\"]],\"sequentialminus\":[[0.0,\"#0d0887\"],[0.1111111111111111,\"#46039f\"],[0.2222222222222222,\"#7201a8\"],[0.3333333333333333,\"#9c179e\"],[0.4444444444444444,\"#bd3786\"],[0.5555555555555556,\"#d8576b\"],[0.6666666666666666,\"#ed7953\"],[0.7777777777777778,\"#fb9f3a\"],[0.8888888888888888,\"#fdca26\"],[1.0,\"#f0f921\"]]},\"colorway\":[\"#636efa\",\"#EF553B\",\"#00cc96\",\"#ab63fa\",\"#FFA15A\",\"#19d3f3\",\"#FF6692\",\"#B6E880\",\"#FF97FF\",\"#FECB52\"],\"font\":{\"color\":\"#2a3f5f\"},\"geo\":{\"bgcolor\":\"white\",\"lakecolor\":\"white\",\"landcolor\":\"#E5ECF6\",\"showlakes\":true,\"showland\":true,\"subunitcolor\":\"white\"},\"hoverlabel\":{\"align\":\"left\"},\"hovermode\":\"closest\",\"mapbox\":{\"style\":\"light\"},\"paper_bgcolor\":\"white\",\"plot_bgcolor\":\"#E5ECF6\",\"polar\":{\"angularaxis\":{\"gridcolor\":\"white\",\"linecolor\":\"white\",\"ticks\":\"\"},\"bgcolor\":\"#E5ECF6\",\"radialaxis\":{\"gridcolor\":\"white\",\"linecolor\":\"white\",\"ticks\":\"\"}},\"scene\":{\"xaxis\":{\"backgroundcolor\":\"#E5ECF6\",\"gridcolor\":\"white\",\"gridwidth\":2,\"linecolor\":\"white\",\"showbackground\":true,\"ticks\":\"\",\"zerolinecolor\":\"white\"},\"yaxis\":{\"backgroundcolor\":\"#E5ECF6\",\"gridcolor\":\"white\",\"gridwidth\":2,\"linecolor\":\"white\",\"showbackground\":true,\"ticks\":\"\",\"zerolinecolor\":\"white\"},\"zaxis\":{\"backgroundcolor\":\"#E5ECF6\",\"gridcolor\":\"white\",\"gridwidth\":2,\"linecolor\":\"white\",\"showbackground\":true,\"ticks\":\"\",\"zerolinecolor\":\"white\"}},\"shapedefaults\":{\"line\":{\"color\":\"#2a3f5f\"}},\"ternary\":{\"aaxis\":{\"gridcolor\":\"white\",\"linecolor\":\"white\",\"ticks\":\"\"},\"baxis\":{\"gridcolor\":\"white\",\"linecolor\":\"white\",\"ticks\":\"\"},\"bgcolor\":\"#E5ECF6\",\"caxis\":{\"gridcolor\":\"white\",\"linecolor\":\"white\",\"ticks\":\"\"}},\"title\":{\"x\":0.05},\"xaxis\":{\"automargin\":true,\"gridcolor\":\"white\",\"linecolor\":\"white\",\"ticks\":\"\",\"title\":{\"standoff\":15},\"zerolinecolor\":\"white\",\"zerolinewidth\":2},\"yaxis\":{\"automargin\":true,\"gridcolor\":\"white\",\"linecolor\":\"white\",\"ticks\":\"\",\"title\":{\"standoff\":15},\"zerolinecolor\":\"white\",\"zerolinewidth\":2}}},\"xaxis\":{\"anchor\":\"y\",\"domain\":[0.0,1.0],\"title\":{\"text\":\"time\"}},\"yaxis\":{\"anchor\":\"x\",\"domain\":[0.0,1.0]},\"legend\":{\"tracegroupgap\":0},\"margin\":{\"t\":60},\"boxmode\":\"group\",\"height\":200,\"width\":1100},                        {\"responsive\": true}                    ).then(function(){\n",
              "                            \n",
              "var gd = document.getElementById('265a8dd0-2959-4a54-8889-37c2f037afcb');\n",
              "var x = new MutationObserver(function (mutations, observer) {{\n",
              "        var display = window.getComputedStyle(gd).display;\n",
              "        if (!display || display === 'none') {{\n",
              "            console.log([gd, 'removed!']);\n",
              "            Plotly.purge(gd);\n",
              "            observer.disconnect();\n",
              "        }}\n",
              "}});\n",
              "\n",
              "// Listen for the removal of the full notebook cells\n",
              "var notebookContainer = gd.closest('#notebook-container');\n",
              "if (notebookContainer) {{\n",
              "    x.observe(notebookContainer, {childList: true});\n",
              "}}\n",
              "\n",
              "// Listen for the clearing of the current output cell\n",
              "var outputEl = gd.closest('.output');\n",
              "if (outputEl) {{\n",
              "    x.observe(outputEl, {childList: true});\n",
              "}}\n",
              "\n",
              "                        })                };                            </script>        </div>\n",
              "</body>\n",
              "</html>"
            ]
          },
          "metadata": {}
        }
      ]
    },
    {
      "cell_type": "markdown",
      "source": [
        "From the charts above, we can see that just \"age\" and \"time\" do not have outliers, however, the other columns have several points that need to be studied. <br>\n",
        "The following columns should be deeper understood:<br>\n",
        "* creatinine_phosphokinase\n",
        "* ejection_fraction\n",
        "* platelets\n",
        "* serum_creatinine\n",
        "* serum_sodium"
      ],
      "metadata": {
        "id": "Mf_XEUADZxa2"
      }
    },
    {
      "cell_type": "markdown",
      "source": [
        "### Understanding a little bit more about the data:"
      ],
      "metadata": {
        "id": "SDL4mJm-uVXQ"
      }
    },
    {
      "cell_type": "markdown",
      "source": [
        "\n",
        "* creatinine_phosphokinase\n",
        "  * Creatine phosphokinase (a.k.a., creatine kinase, CPK, or CK) is an enzyme (a protein that helps to elicit chemical changes in your body) found in your heart. When muscle tissue is damaged, CPK leaks into your blood. Therefore, high levels of CPK usually indicate some sort of stress or injury to your heart or other muscles.\n",
        "    * lower fence: 1211\n",
        "    * normal range: 10 - 120 mcg/L\n",
        "  * **all data is acceptable**\n",
        "* ejection_fraction\n",
        "  * Ejection fraction (EF) is a measurement, expressed as a percentage, of how much blood the left ventricle pumps out with each contraction. An ejection fraction of 60 percent means that 60 percent of the total amount of blood in the left ventricle is pushed out with each heartbeat.\n",
        "    * upper fence: 65\n",
        "    * normal range: 50% - 75%\n",
        "    * below 30% is severe\n",
        "    * below 20% is very severe\n",
        "  * **all data is acceptable**\n",
        "* platelets\n",
        "  * Platelets, also known as thrombocytes, are blood cells.Platelets play a major role in blood clotting. Normally, when one of your blood vessels is injured, you start to bleed. Your platelets will clot (clump together) to plug the hole in the blood vessel and stop the bleeding.\n",
        "    * lower fence: 75k\n",
        "    * upper fence: 427k\n",
        "    * 150k - 450k\n",
        "    * having more than 450k is called thrombocytosis.\n",
        "    * having less than 150k is called thrombocytopenia.\n",
        "    * below than 50k is serious and below 10k is severe, with risk of internal bleeding.\n",
        "  * **all data is acceptable**\n",
        "* serum_creatinine\n",
        "  * Creatinine is a waste product that comes from the normal wear and tear on muscles of the body. Everyone has creatinine in their bloodstream.\n",
        "    * upper fence: 2.1\n",
        "    * normal range:\n",
        "      * male: 0.74 - 1.35\n",
        "      * female: 0.59 - 1.04\n",
        "    * high serum creatinine can mean kidney damage or dehydration.\n",
        "    * over 1.3 is high\n",
        "  * **despite some numbers are really high, all data is acceptable**\n",
        "* serum_sodium\n",
        "  * Sodium is an electrolyte, and it helps regulate the amount of water that's in and around your cells.\n",
        "    * lower fence: 125\n",
        "    * normal range: 135 - 145\n",
        "    * below 135 is low (hyponatremia)\n",
        "  * **all data is acceptable**\n",
        "<br>\n",
        "\n",
        "fonts:\n",
        "* https://www.hopkinslupus.org/lupus-tests/clinical-tests/creatine-phosphokinase-cpk/\n",
        "* https://www.mayoclinic.org/diseases-conditions/hyponatremia/symptoms-causes/syc-20373711\n",
        "* https://www.mayoclinic.org/tests-procedures/creatinine-test/about/pac-20384646"
      ],
      "metadata": {
        "id": "kcSgePVLuL7G"
      }
    },
    {
      "cell_type": "markdown",
      "source": [
        "## Analyzing the data"
      ],
      "metadata": {
        "id": "Baf0ZWSrIl_F"
      }
    },
    {
      "cell_type": "markdown",
      "source": [
        "### Correlation between variables"
      ],
      "metadata": {
        "id": "kiwmq3LuCOr8"
      }
    },
    {
      "cell_type": "markdown",
      "source": [
        "Before asking analytical questions and jump into insightful visualizations, it is crucial to understand which variables (independent ones) affect the most our dependent variable."
      ],
      "metadata": {
        "id": "rz4jnerN0FtT"
      }
    },
    {
      "cell_type": "code",
      "source": [
        "import seaborn as sns"
      ],
      "metadata": {
        "id": "9BPknIKhGKkh"
      },
      "execution_count": 52,
      "outputs": []
    },
    {
      "cell_type": "code",
      "source": [
        "plt.figure(figsize=(8, 12))\n",
        "heatmap = sns.heatmap(df.corr()[['DEATH_EVENT']].sort_values(by='DEATH_EVENT', ascending=False), vmin=-1, vmax=1, annot=True, cmap='BrBG')\n",
        "heatmap.set_title('Features Correlating with Death Event', fontdict={'fontsize':18}, pad=16);"
      ],
      "metadata": {
        "colab": {
          "base_uri": "https://localhost:8080/",
          "height": 731
        },
        "id": "RZBKubzTCNBc",
        "outputId": "49901e5e-a25e-4326-c78c-dcf39b4e04fd"
      },
      "execution_count": 53,
      "outputs": [
        {
          "output_type": "display_data",
          "data": {
            "text/plain": [
              "<Figure size 576x864 with 2 Axes>"
            ],
            "image/png": "[encoded data removed]"
          },
          "metadata": {
            "needs_background": "light"
          }
        }
      ]
    },
    {
      "cell_type": "markdown",
      "source": [
        "### Understanding critical variables and their relation to Death event"
      ],
      "metadata": {
        "id": "0IeZWQjW0SkS"
      }
    },
    {
      "cell_type": "code",
      "source": [
        "fig = px.histogram(df, x=\"age\", color=\"DEATH_EVENT\", height=400, width=1100, marginal=\"violin\", hover_data=df.columns,\n",
        "                   title =\"Distribution of age Vs DEATH_EVENT\",\n",
        "                   color_discrete_map={\"0\": \"RebeccaPurple\", \"1\": \"MediumPurple\"})\n",
        "fig.show()"
      ],
      "metadata": {
        "colab": {
          "base_uri": "https://localhost:8080/",
          "height": 417
        },
        "id": "0o0o3lCxIlZC",
        "outputId": "58a92e54-fed2-46d7-f160-2a1e53667e6c"
      },
      "execution_count": 26,
      "outputs": [
        {
          "output_type": "display_data",
          "data": {
            "text/html": [
              "<html>\n",
              "<head><meta charset=\"utf-8\" /></head>\n",
              "<body>\n",
              "    <div>            <script src=\"https://cdnjs.cloudflare.com/ajax/libs/mathjax/2.7.5/MathJax.js?config=TeX-AMS-MML_SVG\"></script><script type=\"text/javascript\">if (window.MathJax) {MathJax.Hub.Config({SVG: {font: \"STIX-Web\"}});}</script>                <script type=\"text/javascript\">window.PlotlyConfig = {MathJaxConfig: 'local'};</script>\n",
              "        <script src=\"https://cdn.plot.ly/plotly-2.8.3.min.js\"></script>                <div id=\"567e4571-2c43-4b3e-82b8-4552904f5b80\" class=\"plotly-graph-div\" style=\"height:400px; width:1100px;\"></div>            <script type=\"text/javascript\">                                    window.PLOTLYENV=window.PLOTLYENV || {};                                    if (document.getElementById(\"567e4571-2c43-4b3e-82b8-4552904f5b80\")) {                    Plotly.newPlot(                        \"567e4571-2c43-4b3e-82b8-4552904f5b80\",                        [{\"alignmentgroup\":\"True\",\"bingroup\":\"x\",\"hovertemplate\":\"DEATH_EVENT=1<br>age=%{x}<br>count=%{y}<extra></extra>\",\"legendgroup\":\"1\",\"marker\":{\"color\":\"#00cc96\",\"pattern\":{\"shape\":\"\"}},\"name\":\"1\",\"offsetgroup\":\"1\",\"orientation\":\"v\",\"showlegend\":true,\"x\":[75.0,55.0,65.0,50.0,65.0,90.0,75.0,60.0,65.0,80.0,75.0,62.0,45.0,50.0,82.0,87.0,45.0,70.0,48.0,65.0,68.0,75.0,80.0,95.0,70.0,58.0,82.0,94.0,85.0,50.0,65.0,69.0,90.0,82.0,60.0,70.0,50.0,70.0,60.0,50.0,51.0,60.0,80.0,57.0,68.0,53.0,60.0,70.0,60.0,95.0,49.0,72.0,45.0,50.0,45.0,60.0,42.0,72.0,70.0,65.0,85.0,69.0,60.0,60.0,59.0,60.0,72.0,85.0,70.0,86.0,60.0,46.0,80.0,72.0,75.0,72.0,50.0,45.0,80.0,59.0,59.0,65.0,75.0,58.0,60.667,50.0,60.0,45.0,77.0,48.0,54.0,73.0,60.0,55.0,65.0,55.0],\"xaxis\":\"x\",\"yaxis\":\"y\",\"type\":\"histogram\"},{\"alignmentgroup\":\"True\",\"customdata\":[[0,582,0,20,1,265000.0,1.9,130,\"male\",0,4,1],[0,7861,0,38,0,263358.03,1.1,136,\"male\",0,6,1],[0,146,0,20,0,162000.0,1.3,129,\"male\",1,7,1],[1,111,0,20,0,210000.0,1.9,137,\"male\",0,7,1],[1,160,1,20,0,327000.0,2.7,116,\"female\",0,8,1],[1,47,0,40,1,204000.0,2.1,132,\"male\",1,8,1],[1,246,0,15,0,127000.0,1.2,137,\"male\",0,10,1],[1,315,1,60,0,454000.0,1.1,131,\"male\",1,10,1],[0,157,0,65,0,263358.03,1.5,138,\"female\",0,10,1],[1,123,0,35,1,388000.0,9.4,133,\"male\",1,10,1],[1,81,0,38,1,368000.0,4.0,131,\"male\",1,10,1],[0,231,0,25,1,253000.0,0.9,140,\"male\",1,10,1],[1,981,0,30,0,136000.0,1.1,137,\"male\",0,11,1],[1,168,0,38,1,276000.0,1.1,137,\"male\",0,11,1],[1,379,0,50,0,47000.0,1.3,136,\"male\",0,13,1],[1,149,0,38,0,262000.0,0.9,140,\"male\",0,14,1],[0,582,0,14,0,166000.0,0.8,127,\"male\",0,14,1],[1,125,0,25,1,237000.0,1.0,140,\"female\",0,15,1],[1,582,1,55,0,87000.0,1.9,121,\"female\",0,15,1],[1,128,1,30,1,297000.0,1.6,136,\"female\",0,20,1],[1,220,0,35,1,289000.0,0.9,140,\"male\",1,20,1],[0,582,1,30,1,263358.03,1.83,134,\"female\",0,23,1],[0,148,1,38,0,149000.0,1.9,144,\"male\",1,23,1],[1,112,0,40,1,196000.0,1.0,138,\"female\",0,24,1],[0,122,1,45,1,284000.0,1.3,136,\"male\",1,26,1],[1,60,0,38,0,153000.0,5.8,134,\"male\",0,26,1],[0,70,1,30,0,200000.0,1.2,132,\"male\",1,26,1],[0,582,1,38,1,263358.03,1.83,134,\"male\",0,27,1],[0,23,0,45,0,360000.0,3.0,132,\"male\",0,28,1],[1,249,1,35,1,319000.0,1.0,128,\"female\",0,28,1],[0,94,1,50,1,188000.0,1.0,140,\"male\",0,29,1],[0,582,1,35,0,228000.0,3.5,134,\"male\",0,30,1],[1,60,1,50,0,226000.0,1.0,134,\"male\",0,30,1],[1,855,1,50,1,321000.0,1.0,145,\"female\",0,30,1],[0,235,1,38,0,329000.0,3.0,142,\"female\",0,30,1],[0,582,0,20,1,263358.03,1.83,134,\"male\",1,31,1],[0,124,1,30,1,153000.0,1.2,136,\"female\",1,32,1],[0,571,1,45,1,185000.0,1.2,139,\"male\",1,33,1],[1,588,1,60,0,194000.0,1.1,142,\"female\",0,33,1],[0,582,1,38,0,310000.0,1.9,135,\"male\",1,35,1],[0,1380,0,25,1,271000.0,0.9,130,\"male\",0,38,1],[0,582,1,38,1,451000.0,0.6,138,\"male\",1,40,1],[1,553,0,20,1,140000.0,4.4,133,\"male\",0,41,1],[1,129,0,30,0,395000.0,1.0,140,\"female\",0,42,1],[1,577,0,25,1,166000.0,1.0,138,\"male\",0,43,1],[1,91,0,20,1,418000.0,1.4,139,\"female\",0,43,1],[0,3964,1,62,0,263358.03,6.8,146,\"female\",0,43,1],[1,69,1,50,1,351000.0,1.0,134,\"female\",0,44,1],[1,260,1,38,0,255000.0,2.2,132,\"female\",1,45,1],[1,371,0,30,0,461000.0,2.0,132,\"male\",0,50,1],[0,789,0,20,1,319000.0,1.1,136,\"male\",1,55,1],[0,364,1,20,1,254000.0,1.3,136,\"male\",1,59,1],[0,7702,1,25,1,390000.0,1.0,139,\"male\",0,60,1],[0,318,0,40,1,216000.0,2.3,131,\"female\",0,60,1],[0,582,0,35,0,385000.0,1.0,145,\"male\",0,61,1],[0,68,0,20,0,119000.0,2.9,127,\"male\",1,64,1],[1,250,1,15,0,213000.0,1.3,136,\"female\",0,65,1],[1,110,0,25,0,274000.0,1.0,140,\"male\",1,65,1],[0,161,0,25,0,244000.0,1.2,142,\"female\",0,66,1],[0,113,1,25,0,497000.0,1.83,135,\"male\",0,67,1],[0,5882,0,35,0,243000.0,1.0,132,\"male\",1,72,1],[0,582,0,20,0,266000.0,1.2,134,\"male\",1,73,1],[1,47,0,20,0,204000.0,0.7,139,\"male\",1,73,1],[1,76,1,25,0,196000.0,2.5,132,\"female\",0,77,1],[1,280,1,25,1,302000.0,1.0,141,\"female\",0,78,1],[1,154,0,25,0,210000.0,1.7,135,\"male\",0,82,1],[1,328,0,30,1,621000.0,1.7,138,\"female\",1,88,1],[0,129,0,60,0,306000.0,1.2,132,\"male\",1,90,1],[1,143,0,60,0,351000.0,1.3,137,\"female\",0,90,1],[0,582,0,38,0,263358.03,1.83,134,\"female\",0,95,1],[0,582,0,40,0,217000.0,3.7,134,\"male\",0,96,1],[0,168,1,17,1,271000.0,2.1,124,\"female\",0,100,1],[0,805,0,38,0,263358.03,1.1,134,\"male\",0,109,1],[1,943,0,25,1,338000.0,1.7,139,\"male\",1,111,1],[1,582,0,30,0,225000.0,1.83,134,\"male\",0,113,1],[0,233,0,45,1,235000.0,2.5,135,\"female\",0,115,1],[1,2334,1,35,0,75000.0,0.9,142,\"female\",0,126,1],[0,2442,1,30,0,334000.0,1.1,139,\"male\",0,129,1],[0,776,1,38,1,192000.0,1.3,135,\"female\",0,130,1],[0,66,1,20,0,70000.0,2.4,134,\"male\",0,135,1],[1,176,1,25,0,221000.0,1.0,136,\"male\",1,150,1],[0,395,1,25,0,265000.0,1.2,136,\"male\",1,154,1],[0,99,0,38,1,224000.0,2.5,134,\"male\",0,162,1],[1,145,0,25,0,219000.0,1.2,137,\"male\",1,170,1],[1,104,1,30,0,389000.0,1.5,136,\"male\",0,171,1],[0,582,0,50,0,153000.0,0.6,134,\"female\",0,172,1],[0,1896,1,25,0,365000.0,2.1,144,\"female\",0,172,1],[0,582,0,20,1,126000.0,1.6,135,\"male\",0,180,1],[1,418,0,45,0,223000.0,1.8,145,\"male\",0,180,1],[1,131,1,30,1,244000.0,1.6,130,\"female\",0,193,1],[1,427,0,70,1,151000.0,9.0,137,\"female\",0,196,1],[0,582,0,20,0,263358.03,1.83,134,\"male\",0,198,1],[0,166,0,30,0,62000.0,1.7,127,\"female\",0,207,1],[0,2017,0,25,0,314000.0,1.1,138,\"male\",0,214,1],[1,258,1,25,0,198000.0,1.4,129,\"male\",0,235,1],[0,1199,0,20,0,263358.03,1.83,134,\"male\",1,241,1]],\"hovertemplate\":\"DEATH_EVENT=%{customdata[11]}<br>age=%{x}<br>anaemia=%{customdata[0]}<br>creatinine_phosphokinase=%{customdata[1]}<br>diabetes=%{customdata[2]}<br>ejection_fraction=%{customdata[3]}<br>high_blood_pressure=%{customdata[4]}<br>platelets=%{customdata[5]}<br>serum_creatinine=%{customdata[6]}<br>serum_sodium=%{customdata[7]}<br>sex=%{customdata[8]}<br>smoking=%{customdata[9]}<br>time=%{customdata[10]}<extra></extra>\",\"legendgroup\":\"1\",\"marker\":{\"color\":\"#00cc96\"},\"name\":\"1\",\"offsetgroup\":\"1\",\"scalegroup\":\"x\",\"showlegend\":false,\"x\":[75.0,55.0,65.0,50.0,65.0,90.0,75.0,60.0,65.0,80.0,75.0,62.0,45.0,50.0,82.0,87.0,45.0,70.0,48.0,65.0,68.0,75.0,80.0,95.0,70.0,58.0,82.0,94.0,85.0,50.0,65.0,69.0,90.0,82.0,60.0,70.0,50.0,70.0,60.0,50.0,51.0,60.0,80.0,57.0,68.0,53.0,60.0,70.0,60.0,95.0,49.0,72.0,45.0,50.0,45.0,60.0,42.0,72.0,70.0,65.0,85.0,69.0,60.0,60.0,59.0,60.0,72.0,85.0,70.0,86.0,60.0,46.0,80.0,72.0,75.0,72.0,50.0,45.0,80.0,59.0,59.0,65.0,75.0,58.0,60.667,50.0,60.0,45.0,77.0,48.0,54.0,73.0,60.0,55.0,65.0,55.0],\"xaxis\":\"x2\",\"yaxis\":\"y2\",\"type\":\"violin\"},{\"alignmentgroup\":\"True\",\"bingroup\":\"x\",\"hovertemplate\":\"DEATH_EVENT=0<br>age=%{x}<br>count=%{y}<extra></extra>\",\"legendgroup\":\"0\",\"marker\":{\"color\":\"#ab63fa\",\"pattern\":{\"shape\":\"\"}},\"name\":\"0\",\"offsetgroup\":\"0\",\"orientation\":\"v\",\"showlegend\":true,\"x\":[49.0,65.0,53.0,50.0,60.0,72.0,70.0,60.0,55.0,45.0,41.0,58.0,65.0,70.0,42.0,75.0,55.0,70.0,67.0,79.0,51.0,55.0,65.0,44.0,57.0,70.0,60.0,42.0,58.0,58.0,63.0,70.0,60.0,63.0,65.0,75.0,80.0,42.0,60.0,55.0,45.0,63.0,45.0,55.0,50.0,60.0,58.0,60.0,85.0,65.0,60.0,66.0,60.0,60.0,43.0,58.0,61.0,53.0,53.0,60.0,46.0,63.0,81.0,75.0,65.0,68.0,62.0,50.0,46.0,50.0,61.0,50.0,52.0,64.0,60.0,62.0,50.0,50.0,65.0,60.0,52.0,50.0,85.0,59.0,66.0,45.0,63.0,53.0,65.0,70.0,51.0,52.0,70.0,50.0,65.0,60.0,69.0,49.0,63.0,55.0,40.0,60.667,40.0,80.0,64.0,50.0,73.0,45.0,65.0,50.0,60.0,63.0,45.0,70.0,60.0,78.0,50.0,40.0,85.0,60.0,49.0,70.0,50.0,78.0,65.0,73.0,70.0,68.0,55.0,65.0,42.0,47.0,58.0,75.0,58.0,55.0,65.0,72.0,70.0,40.0,53.0,53.0,77.0,75.0,70.0,65.0,55.0,70.0,65.0,40.0,73.0,54.0,61.0,64.0,40.0,53.0,50.0,55.0,50.0,70.0,53.0,52.0,65.0,58.0,45.0,53.0,55.0,62.0,68.0,61.0,50.0,56.0,45.0,40.0,44.0,51.0,67.0,42.0,60.0,45.0,70.0,70.0,50.0,55.0,70.0,70.0,42.0,65.0,50.0,55.0,60.0,45.0,65.0,90.0,45.0,60.0,52.0,63.0,62.0,55.0,45.0,45.0,50.0],\"xaxis\":\"x\",\"yaxis\":\"y\",\"type\":\"histogram\"},{\"alignmentgroup\":\"True\",\"customdata\":[[1,80,0,30,1,427000.0,1.0,138,\"female\",0,12,0],[1,52,0,25,1,276000.0,1.3,137,\"female\",0,16,0],[0,63,1,60,0,368000.0,0.8,135,\"male\",0,22,0],[1,159,1,30,0,302000.0,1.2,138,\"female\",0,29,0],[0,2656,1,30,0,305000.0,2.3,137,\"male\",0,30,0],[0,127,1,50,1,218000.0,1.0,134,\"male\",0,33,0],[1,75,0,35,0,223000.0,2.7,138,\"male\",1,54,0],[1,607,0,40,0,216000.0,0.6,138,\"male\",1,54,0],[0,109,0,35,0,254000.0,1.1,139,\"male\",1,60,0],[0,582,0,80,0,263358.03,1.18,137,\"female\",0,63,0],[0,148,0,40,0,374000.0,0.8,140,\"male\",1,68,0],[0,582,1,35,0,122000.0,0.9,139,\"male\",1,71,0],[0,224,1,50,0,149000.0,1.3,137,\"male\",1,72,0],[0,92,0,60,1,317000.0,0.8,140,\"female\",1,74,0],[0,102,1,40,0,237000.0,1.2,140,\"male\",0,74,0],[1,203,1,38,1,283000.0,0.6,131,\"male\",1,74,0],[0,336,0,45,1,324000.0,0.9,140,\"female\",0,74,0],[0,69,0,40,0,293000.0,1.7,136,\"female\",0,75,0],[0,582,0,50,0,263358.03,1.18,137,\"male\",1,76,0],[1,55,0,50,1,172000.0,1.8,133,\"male\",0,78,0],[0,78,0,50,0,406000.0,0.7,140,\"male\",0,79,0],[0,47,0,35,1,173000.0,1.1,137,\"male\",0,79,0],[1,68,1,60,1,304000.0,0.8,140,\"male\",0,79,0],[0,84,1,40,1,235000.0,0.7,139,\"male\",0,79,0],[1,115,0,25,1,181000.0,1.1,144,\"male\",0,79,0],[0,66,1,45,0,249000.0,0.8,136,\"male\",1,80,0],[0,897,1,45,0,297000.0,1.0,133,\"male\",0,80,0],[0,582,0,60,0,263358.03,1.18,137,\"female\",0,82,0],[0,144,1,38,1,327000.0,0.7,142,\"female\",0,83,0],[1,133,0,60,1,219000.0,1.0,141,\"male\",0,83,0],[1,514,1,25,1,254000.0,1.3,134,\"male\",0,83,0],[1,59,0,60,0,255000.0,1.1,136,\"female\",0,85,0],[1,156,1,25,1,318000.0,1.2,137,\"female\",0,85,0],[1,61,1,40,0,221000.0,1.1,140,\"female\",0,86,0],[1,305,0,25,0,298000.0,1.1,141,\"male\",0,87,0],[0,582,0,45,1,263358.03,1.18,137,\"male\",0,87,0],[0,898,0,25,0,149000.0,1.1,144,\"male\",1,87,0],[0,5209,0,30,0,226000.0,1.0,140,\"male\",1,87,0],[0,53,0,50,1,286000.0,2.3,143,\"female\",0,87,0],[0,748,0,45,0,263000.0,1.3,137,\"male\",0,88,0],[1,1876,1,35,0,226000.0,0.9,138,\"male\",0,88,0],[0,936,0,38,0,304000.0,1.1,133,\"male\",1,88,0],[0,292,1,35,0,850000.0,1.3,142,\"male\",1,88,0],[0,60,0,35,0,228000.0,1.2,135,\"male\",1,90,0],[0,369,1,25,0,252000.0,1.6,136,\"male\",0,90,0],[1,754,1,40,1,328000.0,1.2,126,\"male\",0,91,0],[1,400,0,40,0,164000.0,1.0,139,\"female\",0,91,0],[1,96,1,60,1,271000.0,0.7,136,\"female\",0,94,0],[1,102,0,60,0,507000.0,3.2,138,\"female\",0,94,0],[1,113,1,60,1,203000.0,0.9,140,\"female\",0,94,0],[1,737,0,60,1,210000.0,1.5,135,\"male\",1,95,0],[1,68,1,38,1,162000.0,1.0,136,\"female\",0,95,0],[0,96,1,38,0,228000.0,0.75,140,\"female\",0,95,0],[1,582,0,30,1,127000.0,0.9,145,\"female\",0,95,0],[1,358,0,50,0,237000.0,1.3,135,\"female\",0,97,0],[1,200,1,60,0,300000.0,0.8,137,\"female\",0,104,0],[0,248,0,30,1,267000.0,0.7,136,\"male\",1,104,0],[1,270,1,35,0,227000.0,3.4,145,\"male\",0,105,0],[1,1808,0,60,1,249000.0,0.7,138,\"male\",1,106,0],[1,1082,1,45,0,250000.0,6.1,131,\"male\",0,107,0],[0,719,0,40,1,263358.03,1.18,137,\"female\",0,107,0],[0,193,0,60,1,295000.0,1.3,145,\"male\",1,107,0],[0,4540,0,35,0,231000.0,1.18,137,\"male\",1,107,0],[0,582,0,40,0,263358.03,1.18,137,\"male\",0,107,0],[1,59,1,60,0,172000.0,0.9,137,\"female\",0,107,0],[1,646,0,25,0,305000.0,2.1,130,\"male\",0,108,0],[0,281,1,35,0,221000.0,1.0,136,\"female\",0,108,0],[0,1548,0,30,1,211000.0,0.8,138,\"male\",0,108,0],[1,291,0,35,0,348000.0,0.9,140,\"female\",0,109,0],[0,482,1,30,0,329000.0,0.9,132,\"female\",0,109,0],[1,84,0,40,1,229000.0,0.9,141,\"female\",0,110,0],[0,185,0,30,0,266000.0,0.7,141,\"male\",1,112,0],[0,132,0,30,0,218000.0,0.7,136,\"male\",1,112,0],[0,1610,0,60,0,242000.0,1.0,137,\"male\",0,113,0],[0,2261,0,35,1,228000.0,0.9,136,\"male\",0,115,0],[0,30,1,60,1,244000.0,0.9,139,\"male\",0,117,0],[0,115,0,45,1,184000.0,0.9,134,\"male\",1,118,0],[0,1846,1,35,0,263358.03,1.18,137,\"male\",1,119,0],[1,335,0,35,1,235000.0,0.8,136,\"female\",0,120,0],[1,231,1,25,0,194000.0,1.7,140,\"male\",0,120,0],[1,58,0,35,0,277000.0,1.4,136,\"female\",0,120,0],[0,250,0,25,0,262000.0,1.0,136,\"male\",1,120,0],[1,910,0,50,0,235000.0,1.3,134,\"male\",0,121,0],[1,129,0,45,1,362000.0,1.1,139,\"male\",1,121,0],[1,72,0,40,1,242000.0,1.2,134,\"male\",0,121,0],[1,130,0,35,0,174000.0,0.8,139,\"male\",1,121,0],[1,582,0,40,0,448000.0,0.9,137,\"male\",1,123,0],[0,196,0,60,0,220000.0,0.7,133,\"male\",1,134,0],[0,582,1,40,0,270000.0,1.0,138,\"female\",0,140,0],[0,835,0,35,1,305000.0,0.8,133,\"female\",0,145,0],[1,582,1,35,0,263358.03,1.5,136,\"male\",1,145,0],[0,3966,0,40,0,325000.0,0.9,140,\"male\",1,146,0],[1,171,0,60,1,176000.0,1.1,145,\"male\",1,146,0],[1,115,0,20,0,189000.0,0.8,139,\"male\",0,146,0],[0,198,1,35,1,281000.0,0.9,137,\"male\",1,146,0],[1,95,0,60,0,337000.0,1.0,138,\"male\",1,146,0],[0,1419,0,40,0,105000.0,1.0,135,\"male\",1,147,0],[1,69,0,50,0,132000.0,1.0,140,\"female\",0,147,0],[1,122,1,60,0,267000.0,1.2,145,\"male\",0,147,0],[0,835,0,40,0,279000.0,0.7,140,\"male\",1,147,0],[0,478,1,30,0,303000.0,0.9,136,\"male\",0,148,0],[1,151,1,40,1,201000.0,1.0,136,\"female\",0,172,0],[0,244,0,45,1,275000.0,0.9,140,\"female\",0,174,0],[0,582,1,35,0,350000.0,2.1,134,\"male\",0,174,0],[1,62,0,60,0,309000.0,1.5,135,\"female\",0,174,0],[1,121,1,40,0,260000.0,0.7,130,\"male\",0,175,0],[1,231,1,30,0,160000.0,1.18,142,\"male\",1,180,0],[0,582,1,38,1,263358.03,1.18,137,\"female\",0,185,0],[0,167,0,30,0,259000.0,0.8,138,\"female\",0,186,0],[1,582,1,20,1,279000.0,1.0,134,\"female\",0,186,0],[0,1211,1,35,0,263358.03,1.8,113,\"male\",1,186,0],[1,1767,0,45,0,73000.0,0.7,137,\"male\",0,186,0],[0,308,1,60,1,377000.0,1.0,136,\"male\",0,186,0],[0,97,0,60,1,220000.0,0.9,138,\"male\",0,186,0],[0,59,0,25,1,212000.0,3.5,136,\"male\",1,187,0],[1,64,0,40,0,277000.0,0.7,137,\"male\",1,187,0],[1,167,1,45,0,362000.0,1.0,136,\"female\",0,187,0],[1,101,0,40,0,226000.0,0.8,141,\"female\",0,187,0],[0,212,0,38,0,186000.0,0.9,136,\"male\",0,187,0],[1,2281,1,40,0,283000.0,1.0,141,\"female\",0,187,0],[0,972,1,35,1,268000.0,0.8,130,\"female\",0,187,0],[0,212,1,17,1,389000.0,1.0,136,\"male\",1,188,0],[0,582,0,62,1,147000.0,0.8,140,\"male\",1,192,0],[0,224,0,50,0,481000.0,1.4,138,\"male\",1,192,0],[1,135,0,35,1,290000.0,0.8,134,\"male\",0,194,0],[0,582,0,35,1,203000.0,1.3,134,\"male\",0,195,0],[0,1202,0,50,1,358000.0,0.9,141,\"female\",0,196,0],[1,1021,1,35,0,271000.0,1.1,134,\"male\",0,197,0],[0,582,1,35,1,371000.0,0.7,140,\"female\",0,197,0],[0,118,0,50,0,194000.0,1.1,145,\"male\",1,200,0],[1,86,0,35,0,365000.0,1.1,139,\"male\",1,201,0],[0,582,0,25,0,130000.0,0.8,134,\"male\",0,201,0],[0,582,1,25,0,504000.0,1.0,138,\"male\",0,205,0],[0,675,1,60,0,265000.0,1.4,125,\"female\",0,205,0],[1,57,0,25,0,189000.0,1.3,132,\"male\",1,205,0],[1,2794,0,35,1,141000.0,1.0,140,\"male\",0,206,0],[0,56,0,25,0,237000.0,5.0,130,\"female\",0,207,0],[0,211,0,25,0,274000.0,1.2,134,\"female\",0,207,0],[0,93,0,35,0,185000.0,1.1,134,\"male\",1,208,0],[1,129,0,35,0,255000.0,0.9,137,\"male\",0,209,0],[1,707,0,38,0,330000.0,1.4,137,\"male\",1,209,0],[1,582,0,45,0,305000.0,1.1,137,\"male\",1,209,0],[1,109,0,50,1,406000.0,1.1,137,\"male\",0,209,0],[0,119,0,50,1,248000.0,1.1,148,\"male\",0,209,0],[0,232,0,30,0,173000.0,1.2,132,\"male\",0,210,0],[1,720,1,40,0,257000.0,1.0,136,\"female\",0,210,0],[1,180,0,45,0,263358.03,1.18,137,\"male\",1,211,0],[0,81,1,35,1,533000.0,1.3,139,\"female\",0,212,0],[0,582,1,30,0,249000.0,1.3,136,\"male\",1,212,0],[0,90,0,35,0,255000.0,1.1,136,\"male\",1,212,0],[1,1185,0,40,1,220000.0,0.9,141,\"female\",0,213,0],[0,582,1,38,0,264000.0,1.8,134,\"male\",0,213,0],[1,80,1,38,0,282000.0,1.4,137,\"male\",0,213,0],[0,143,0,25,0,246000.0,2.4,135,\"male\",0,214,0],[0,624,0,35,0,301000.0,1.0,142,\"male\",1,214,0],[0,207,1,40,0,223000.0,1.2,130,\"female\",0,214,0],[0,2522,0,30,1,404000.0,0.5,139,\"female\",0,214,0],[0,572,1,35,0,231000.0,0.8,143,\"female\",0,215,0],[0,245,0,45,1,274000.0,1.0,133,\"male\",0,215,0],[0,88,1,35,1,236000.0,1.2,132,\"female\",0,215,0],[1,446,0,60,1,263358.03,1.0,139,\"male\",0,215,0],[1,191,1,30,1,334000.0,1.0,142,\"male\",1,216,0],[0,326,0,38,0,294000.0,1.7,139,\"female\",0,220,0],[0,132,1,38,1,253000.0,1.0,139,\"male\",0,230,0],[1,66,1,25,0,233000.0,0.8,135,\"male\",0,230,0],[0,56,0,50,0,308000.0,0.7,135,\"male\",1,231,0],[0,66,0,40,0,203000.0,1.0,138,\"male\",0,233,0],[1,655,0,40,0,283000.0,0.7,133,\"female\",0,233,0],[1,157,1,60,0,208000.0,1.0,140,\"female\",0,237,0],[0,582,1,38,0,147000.0,1.2,141,\"male\",0,237,0],[1,298,0,35,0,362000.0,0.9,140,\"male\",1,240,0],[1,135,1,38,0,133000.0,1.7,140,\"male\",0,244,0],[0,582,1,38,0,302000.0,0.9,140,\"female\",0,244,0],[0,582,1,35,0,222000.0,1.0,132,\"male\",0,244,0],[0,582,1,30,1,263358.03,1.6,130,\"male\",1,244,0],[0,582,1,40,0,221000.0,0.9,134,\"female\",0,244,0],[0,213,0,38,0,215000.0,1.2,133,\"female\",0,245,0],[0,64,0,40,0,189000.0,0.7,140,\"male\",0,245,0],[1,257,1,30,0,150000.0,1.0,137,\"male\",1,245,0],[0,582,0,38,1,422000.0,0.8,137,\"female\",0,245,0],[0,618,0,35,0,327000.0,1.1,142,\"female\",0,245,0],[0,582,1,38,0,25100.0,1.1,140,\"male\",0,246,0],[1,1051,1,30,0,232000.0,0.7,136,\"female\",0,246,0],[0,84,1,38,0,451000.0,1.3,136,\"female\",0,246,0],[0,2695,1,40,0,241000.0,1.0,137,\"male\",0,247,0],[0,582,0,40,0,51000.0,2.7,136,\"male\",1,250,0],[0,64,0,30,0,215000.0,3.8,128,\"male\",1,250,0],[0,1688,0,38,0,263358.03,1.1,138,\"male\",1,250,0],[1,54,0,40,0,279000.0,0.8,141,\"male\",0,250,0],[1,170,1,40,0,336000.0,1.2,135,\"male\",0,250,0],[0,253,0,35,0,279000.0,1.7,140,\"male\",0,250,0],[0,582,1,55,0,543000.0,1.0,132,\"female\",0,250,0],[0,892,1,35,0,263358.03,1.1,142,\"female\",0,256,0],[1,337,0,38,0,390000.0,0.9,144,\"female\",0,256,0],[0,615,1,55,0,222000.0,0.8,141,\"female\",0,257,0],[0,320,0,35,0,133000.0,1.4,139,\"male\",0,258,0],[0,190,1,38,0,382000.0,1.0,140,\"male\",1,258,0],[1,103,1,35,0,179000.0,0.9,136,\"male\",1,270,0],[0,61,1,38,1,155000.0,1.1,143,\"male\",1,270,0],[0,1820,0,38,0,270000.0,1.2,139,\"female\",0,271,0],[0,2060,1,60,0,742000.0,0.8,138,\"female\",0,278,0],[0,2413,0,38,0,140000.0,1.4,140,\"male\",1,280,0],[0,196,0,45,0,395000.0,1.6,136,\"male\",1,285,0]],\"hovertemplate\":\"DEATH_EVENT=%{customdata[11]}<br>age=%{x}<br>anaemia=%{customdata[0]}<br>creatinine_phosphokinase=%{customdata[1]}<br>diabetes=%{customdata[2]}<br>ejection_fraction=%{customdata[3]}<br>high_blood_pressure=%{customdata[4]}<br>platelets=%{customdata[5]}<br>serum_creatinine=%{customdata[6]}<br>serum_sodium=%{customdata[7]}<br>sex=%{customdata[8]}<br>smoking=%{customdata[9]}<br>time=%{customdata[10]}<extra></extra>\",\"legendgroup\":\"0\",\"marker\":{\"color\":\"#ab63fa\"},\"name\":\"0\",\"offsetgroup\":\"0\",\"scalegroup\":\"x\",\"showlegend\":false,\"x\":[49.0,65.0,53.0,50.0,60.0,72.0,70.0,60.0,55.0,45.0,41.0,58.0,65.0,70.0,42.0,75.0,55.0,70.0,67.0,79.0,51.0,55.0,65.0,44.0,57.0,70.0,60.0,42.0,58.0,58.0,63.0,70.0,60.0,63.0,65.0,75.0,80.0,42.0,60.0,55.0,45.0,63.0,45.0,55.0,50.0,60.0,58.0,60.0,85.0,65.0,60.0,66.0,60.0,60.0,43.0,58.0,61.0,53.0,53.0,60.0,46.0,63.0,81.0,75.0,65.0,68.0,62.0,50.0,46.0,50.0,61.0,50.0,52.0,64.0,60.0,62.0,50.0,50.0,65.0,60.0,52.0,50.0,85.0,59.0,66.0,45.0,63.0,53.0,65.0,70.0,51.0,52.0,70.0,50.0,65.0,60.0,69.0,49.0,63.0,55.0,40.0,60.667,40.0,80.0,64.0,50.0,73.0,45.0,65.0,50.0,60.0,63.0,45.0,70.0,60.0,78.0,50.0,40.0,85.0,60.0,49.0,70.0,50.0,78.0,65.0,73.0,70.0,68.0,55.0,65.0,42.0,47.0,58.0,75.0,58.0,55.0,65.0,72.0,70.0,40.0,53.0,53.0,77.0,75.0,70.0,65.0,55.0,70.0,65.0,40.0,73.0,54.0,61.0,64.0,40.0,53.0,50.0,55.0,50.0,70.0,53.0,52.0,65.0,58.0,45.0,53.0,55.0,62.0,68.0,61.0,50.0,56.0,45.0,40.0,44.0,51.0,67.0,42.0,60.0,45.0,70.0,70.0,50.0,55.0,70.0,70.0,42.0,65.0,50.0,55.0,60.0,45.0,65.0,90.0,45.0,60.0,52.0,63.0,62.0,55.0,45.0,45.0,50.0],\"xaxis\":\"x2\",\"yaxis\":\"y2\",\"type\":\"violin\"}],                        {\"template\":{\"data\":{\"bar\":[{\"error_x\":{\"color\":\"#2a3f5f\"},\"error_y\":{\"color\":\"#2a3f5f\"},\"marker\":{\"line\":{\"color\":\"#E5ECF6\",\"width\":0.5},\"pattern\":{\"fillmode\":\"overlay\",\"size\":10,\"solidity\":0.2}},\"type\":\"bar\"}],\"barpolar\":[{\"marker\":{\"line\":{\"color\":\"#E5ECF6\",\"width\":0.5},\"pattern\":{\"fillmode\":\"overlay\",\"size\":10,\"solidity\":0.2}},\"type\":\"barpolar\"}],\"carpet\":[{\"aaxis\":{\"endlinecolor\":\"#2a3f5f\",\"gridcolor\":\"white\",\"linecolor\":\"white\",\"minorgridcolor\":\"white\",\"startlinecolor\":\"#2a3f5f\"},\"baxis\":{\"endlinecolor\":\"#2a3f5f\",\"gridcolor\":\"white\",\"linecolor\":\"white\",\"minorgridcolor\":\"white\",\"startlinecolor\":\"#2a3f5f\"},\"type\":\"carpet\"}],\"choropleth\":[{\"colorbar\":{\"outlinewidth\":0,\"ticks\":\"\"},\"type\":\"choropleth\"}],\"contour\":[{\"colorbar\":{\"outlinewidth\":0,\"ticks\":\"\"},\"colorscale\":[[0.0,\"#0d0887\"],[0.1111111111111111,\"#46039f\"],[0.2222222222222222,\"#7201a8\"],[0.3333333333333333,\"#9c179e\"],[0.4444444444444444,\"#bd3786\"],[0.5555555555555556,\"#d8576b\"],[0.6666666666666666,\"#ed7953\"],[0.7777777777777778,\"#fb9f3a\"],[0.8888888888888888,\"#fdca26\"],[1.0,\"#f0f921\"]],\"type\":\"contour\"}],\"contourcarpet\":[{\"colorbar\":{\"outlinewidth\":0,\"ticks\":\"\"},\"type\":\"contourcarpet\"}],\"heatmap\":[{\"colorbar\":{\"outlinewidth\":0,\"ticks\":\"\"},\"colorscale\":[[0.0,\"#0d0887\"],[0.1111111111111111,\"#46039f\"],[0.2222222222222222,\"#7201a8\"],[0.3333333333333333,\"#9c179e\"],[0.4444444444444444,\"#bd3786\"],[0.5555555555555556,\"#d8576b\"],[0.6666666666666666,\"#ed7953\"],[0.7777777777777778,\"#fb9f3a\"],[0.8888888888888888,\"#fdca26\"],[1.0,\"#f0f921\"]],\"type\":\"heatmap\"}],\"heatmapgl\":[{\"colorbar\":{\"outlinewidth\":0,\"ticks\":\"\"},\"colorscale\":[[0.0,\"#0d0887\"],[0.1111111111111111,\"#46039f\"],[0.2222222222222222,\"#7201a8\"],[0.3333333333333333,\"#9c179e\"],[0.4444444444444444,\"#bd3786\"],[0.5555555555555556,\"#d8576b\"],[0.6666666666666666,\"#ed7953\"],[0.7777777777777778,\"#fb9f3a\"],[0.8888888888888888,\"#fdca26\"],[1.0,\"#f0f921\"]],\"type\":\"heatmapgl\"}],\"histogram\":[{\"marker\":{\"pattern\":{\"fillmode\":\"overlay\",\"size\":10,\"solidity\":0.2}},\"type\":\"histogram\"}],\"histogram2d\":[{\"colorbar\":{\"outlinewidth\":0,\"ticks\":\"\"},\"colorscale\":[[0.0,\"#0d0887\"],[0.1111111111111111,\"#46039f\"],[0.2222222222222222,\"#7201a8\"],[0.3333333333333333,\"#9c179e\"],[0.4444444444444444,\"#bd3786\"],[0.5555555555555556,\"#d8576b\"],[0.6666666666666666,\"#ed7953\"],[0.7777777777777778,\"#fb9f3a\"],[0.8888888888888888,\"#fdca26\"],[1.0,\"#f0f921\"]],\"type\":\"histogram2d\"}],\"histogram2dcontour\":[{\"colorbar\":{\"outlinewidth\":0,\"ticks\":\"\"},\"colorscale\":[[0.0,\"#0d0887\"],[0.1111111111111111,\"#46039f\"],[0.2222222222222222,\"#7201a8\"],[0.3333333333333333,\"#9c179e\"],[0.4444444444444444,\"#bd3786\"],[0.5555555555555556,\"#d8576b\"],[0.6666666666666666,\"#ed7953\"],[0.7777777777777778,\"#fb9f3a\"],[0.8888888888888888,\"#fdca26\"],[1.0,\"#f0f921\"]],\"type\":\"histogram2dcontour\"}],\"mesh3d\":[{\"colorbar\":{\"outlinewidth\":0,\"ticks\":\"\"},\"type\":\"mesh3d\"}],\"parcoords\":[{\"line\":{\"colorbar\":{\"outlinewidth\":0,\"ticks\":\"\"}},\"type\":\"parcoords\"}],\"pie\":[{\"automargin\":true,\"type\":\"pie\"}],\"scatter\":[{\"marker\":{\"colorbar\":{\"outlinewidth\":0,\"ticks\":\"\"}},\"type\":\"scatter\"}],\"scatter3d\":[{\"line\":{\"colorbar\":{\"outlinewidth\":0,\"ticks\":\"\"}},\"marker\":{\"colorbar\":{\"outlinewidth\":0,\"ticks\":\"\"}},\"type\":\"scatter3d\"}],\"scattercarpet\":[{\"marker\":{\"colorbar\":{\"outlinewidth\":0,\"ticks\":\"\"}},\"type\":\"scattercarpet\"}],\"scattergeo\":[{\"marker\":{\"colorbar\":{\"outlinewidth\":0,\"ticks\":\"\"}},\"type\":\"scattergeo\"}],\"scattergl\":[{\"marker\":{\"colorbar\":{\"outlinewidth\":0,\"ticks\":\"\"}},\"type\":\"scattergl\"}],\"scattermapbox\":[{\"marker\":{\"colorbar\":{\"outlinewidth\":0,\"ticks\":\"\"}},\"type\":\"scattermapbox\"}],\"scatterpolar\":[{\"marker\":{\"colorbar\":{\"outlinewidth\":0,\"ticks\":\"\"}},\"type\":\"scatterpolar\"}],\"scatterpolargl\":[{\"marker\":{\"colorbar\":{\"outlinewidth\":0,\"ticks\":\"\"}},\"type\":\"scatterpolargl\"}],\"scatterternary\":[{\"marker\":{\"colorbar\":{\"outlinewidth\":0,\"ticks\":\"\"}},\"type\":\"scatterternary\"}],\"surface\":[{\"colorbar\":{\"outlinewidth\":0,\"ticks\":\"\"},\"colorscale\":[[0.0,\"#0d0887\"],[0.1111111111111111,\"#46039f\"],[0.2222222222222222,\"#7201a8\"],[0.3333333333333333,\"#9c179e\"],[0.4444444444444444,\"#bd3786\"],[0.5555555555555556,\"#d8576b\"],[0.6666666666666666,\"#ed7953\"],[0.7777777777777778,\"#fb9f3a\"],[0.8888888888888888,\"#fdca26\"],[1.0,\"#f0f921\"]],\"type\":\"surface\"}],\"table\":[{\"cells\":{\"fill\":{\"color\":\"#EBF0F8\"},\"line\":{\"color\":\"white\"}},\"header\":{\"fill\":{\"color\":\"#C8D4E3\"},\"line\":{\"color\":\"white\"}},\"type\":\"table\"}]},\"layout\":{\"annotationdefaults\":{\"arrowcolor\":\"#2a3f5f\",\"arrowhead\":0,\"arrowwidth\":1},\"autotypenumbers\":\"strict\",\"coloraxis\":{\"colorbar\":{\"outlinewidth\":0,\"ticks\":\"\"}},\"colorscale\":{\"diverging\":[[0,\"#8e0152\"],[0.1,\"#c51b7d\"],[0.2,\"#de77ae\"],[0.3,\"#f1b6da\"],[0.4,\"#fde0ef\"],[0.5,\"#f7f7f7\"],[0.6,\"#e6f5d0\"],[0.7,\"#b8e186\"],[0.8,\"#7fbc41\"],[0.9,\"#4d9221\"],[1,\"#276419\"]],\"sequential\":[[0.0,\"#0d0887\"],[0.1111111111111111,\"#46039f\"],[0.2222222222222222,\"#7201a8\"],[0.3333333333333333,\"#9c179e\"],[0.4444444444444444,\"#bd3786\"],[0.5555555555555556,\"#d8576b\"],[0.6666666666666666,\"#ed7953\"],[0.7777777777777778,\"#fb9f3a\"],[0.8888888888888888,\"#fdca26\"],[1.0,\"#f0f921\"]],\"sequentialminus\":[[0.0,\"#0d0887\"],[0.1111111111111111,\"#46039f\"],[0.2222222222222222,\"#7201a8\"],[0.3333333333333333,\"#9c179e\"],[0.4444444444444444,\"#bd3786\"],[0.5555555555555556,\"#d8576b\"],[0.6666666666666666,\"#ed7953\"],[0.7777777777777778,\"#fb9f3a\"],[0.8888888888888888,\"#fdca26\"],[1.0,\"#f0f921\"]]},\"colorway\":[\"#636efa\",\"#EF553B\",\"#00cc96\",\"#ab63fa\",\"#FFA15A\",\"#19d3f3\",\"#FF6692\",\"#B6E880\",\"#FF97FF\",\"#FECB52\"],\"font\":{\"color\":\"#2a3f5f\"},\"geo\":{\"bgcolor\":\"white\",\"lakecolor\":\"white\",\"landcolor\":\"#E5ECF6\",\"showlakes\":true,\"showland\":true,\"subunitcolor\":\"white\"},\"hoverlabel\":{\"align\":\"left\"},\"hovermode\":\"closest\",\"mapbox\":{\"style\":\"light\"},\"paper_bgcolor\":\"white\",\"plot_bgcolor\":\"#E5ECF6\",\"polar\":{\"angularaxis\":{\"gridcolor\":\"white\",\"linecolor\":\"white\",\"ticks\":\"\"},\"bgcolor\":\"#E5ECF6\",\"radialaxis\":{\"gridcolor\":\"white\",\"linecolor\":\"white\",\"ticks\":\"\"}},\"scene\":{\"xaxis\":{\"backgroundcolor\":\"#E5ECF6\",\"gridcolor\":\"white\",\"gridwidth\":2,\"linecolor\":\"white\",\"showbackground\":true,\"ticks\":\"\",\"zerolinecolor\":\"white\"},\"yaxis\":{\"backgroundcolor\":\"#E5ECF6\",\"gridcolor\":\"white\",\"gridwidth\":2,\"linecolor\":\"white\",\"showbackground\":true,\"ticks\":\"\",\"zerolinecolor\":\"white\"},\"zaxis\":{\"backgroundcolor\":\"#E5ECF6\",\"gridcolor\":\"white\",\"gridwidth\":2,\"linecolor\":\"white\",\"showbackground\":true,\"ticks\":\"\",\"zerolinecolor\":\"white\"}},\"shapedefaults\":{\"line\":{\"color\":\"#2a3f5f\"}},\"ternary\":{\"aaxis\":{\"gridcolor\":\"white\",\"linecolor\":\"white\",\"ticks\":\"\"},\"baxis\":{\"gridcolor\":\"white\",\"linecolor\":\"white\",\"ticks\":\"\"},\"bgcolor\":\"#E5ECF6\",\"caxis\":{\"gridcolor\":\"white\",\"linecolor\":\"white\",\"ticks\":\"\"}},\"title\":{\"x\":0.05},\"xaxis\":{\"automargin\":true,\"gridcolor\":\"white\",\"linecolor\":\"white\",\"ticks\":\"\",\"title\":{\"standoff\":15},\"zerolinecolor\":\"white\",\"zerolinewidth\":2},\"yaxis\":{\"automargin\":true,\"gridcolor\":\"white\",\"linecolor\":\"white\",\"ticks\":\"\",\"title\":{\"standoff\":15},\"zerolinecolor\":\"white\",\"zerolinewidth\":2}}},\"xaxis\":{\"anchor\":\"y\",\"domain\":[0.0,1.0],\"title\":{\"text\":\"age\"}},\"yaxis\":{\"anchor\":\"x\",\"domain\":[0.0,0.7326],\"title\":{\"text\":\"count\"}},\"xaxis2\":{\"anchor\":\"y2\",\"domain\":[0.0,1.0],\"matches\":\"x\",\"showticklabels\":false,\"showgrid\":true},\"yaxis2\":{\"anchor\":\"x2\",\"domain\":[0.7426,1.0],\"matches\":\"y2\",\"showticklabels\":false,\"showline\":false,\"ticks\":\"\",\"showgrid\":false},\"legend\":{\"title\":{\"text\":\"DEATH_EVENT\"},\"tracegroupgap\":0},\"title\":{\"text\":\"Distribution of age Vs DEATH_EVENT\"},\"barmode\":\"relative\",\"height\":400,\"width\":1100},                        {\"responsive\": true}                    ).then(function(){\n",
              "                            \n",
              "var gd = document.getElementById('567e4571-2c43-4b3e-82b8-4552904f5b80');\n",
              "var x = new MutationObserver(function (mutations, observer) {{\n",
              "        var display = window.getComputedStyle(gd).display;\n",
              "        if (!display || display === 'none') {{\n",
              "            console.log([gd, 'removed!']);\n",
              "            Plotly.purge(gd);\n",
              "            observer.disconnect();\n",
              "        }}\n",
              "}});\n",
              "\n",
              "// Listen for the removal of the full notebook cells\n",
              "var notebookContainer = gd.closest('#notebook-container');\n",
              "if (notebookContainer) {{\n",
              "    x.observe(notebookContainer, {childList: true});\n",
              "}}\n",
              "\n",
              "// Listen for the clearing of the current output cell\n",
              "var outputEl = gd.closest('.output');\n",
              "if (outputEl) {{\n",
              "    x.observe(outputEl, {childList: true});\n",
              "}}\n",
              "\n",
              "                        })                };                            </script>        </div>\n",
              "</body>\n",
              "</html>"
            ]
          },
          "metadata": {}
        }
      ]
    },
    {
      "cell_type": "markdown",
      "source": [
        "##Standardization of the data - PCA analysis"
      ],
      "metadata": {
        "id": "CQdRlBk4BI0N"
      }
    },
    {
      "cell_type": "markdown",
      "source": [
        "Using standardization techniques in order to tackle data variation from column to column\n",
        "<br>\n",
        "Choice for Standardization is because of the Distance - Based Algorithms we will be using"
      ],
      "metadata": {
        "id": "Tf9GdDdR76Cf"
      }
    },
    {
      "cell_type": "code",
      "source": [
        "# from sklearn.model_selection import train_test_split\n",
        "# from sklearn.neighbors import KNeighborsClassifier as knn\n",
        "# from sklearn import metrics\n",
        "# from sklearn import datasets"
      ],
      "metadata": {
        "id": "Yc61WdXr8Q3O"
      },
      "execution_count": 21,
      "outputs": []
    },
    {
      "cell_type": "code",
      "source": [
        "from sklearn.preprocessing import StandardScaler\n",
        "scaler = StandardScaler()\n",
        "heart_failure_std = scaler.fit_transform(df_numeric)\n",
        "print(heart_failure_std)"
      ],
      "metadata": {
        "colab": {
          "base_uri": "https://localhost:8080/"
        },
        "id": "3SB9I7Zk8vXD",
        "outputId": "2473c5b8-d78a-47b8-bea6-e5e2c593193f"
      },
      "execution_count": 57,
      "outputs": [
        {
          "output_type": "stream",
          "name": "stdout",
          "text": [
            "[[ 1.19294523e+00  1.65728387e-04 -1.53055953e+00 ...  4.90056987e-01\n",
            "  -1.50403612e+00 -1.62950241e+00]\n",
            " [-4.91279276e-01  7.51463953e+00 -7.07675018e-03 ... -2.84552352e-01\n",
            "  -1.41976151e-01 -1.60369074e+00]\n",
            " [ 3.50832977e-01 -4.49938761e-01 -1.53055953e+00 ... -9.09000174e-02\n",
            "  -1.73104612e+00 -1.59078490e+00]\n",
            " ...\n",
            " [-1.33339153e+00  1.52597865e+00  1.85495776e+00 ... -5.75030855e-01\n",
            "   3.12043840e-01  1.90669738e+00]\n",
            " [-1.33339153e+00  1.89039811e+00 -7.07675018e-03 ...  5.92615005e-03\n",
            "   7.66063830e-01  1.93250906e+00]\n",
            " [-9.12335403e-01 -3.98321274e-01  5.85388775e-01 ...  1.99578485e-01\n",
            "  -1.41976151e-01  1.99703825e+00]]\n"
          ]
        }
      ]
    },
    {
      "cell_type": "code",
      "source": [
        "import matplotlib.pyplot as plt\n",
        "from scipy.cluster.hierarchy import dendrogram, linkage"
      ],
      "metadata": {
        "id": "AuPHH97iYx7n"
      },
      "execution_count": 58,
      "outputs": []
    },
    {
      "cell_type": "code",
      "source": [
        "# hierarchical clustering\n",
        "# When an Hierarchical Clustering is performed, the results will be a linkage matrix\n",
        "hier_clust = linkage(heart_failure_std, method = 'ward')\n",
        "\n",
        "# plotting the results from the Hierarchical Clustering using a Dendrogram\n",
        "plt.figure(figsize = (12,9))\n",
        "plt.title('Hierarchical Clustering Dendrogram')\n",
        "plt.xlabel('Observations')\n",
        "plt.ylabel('Distance')\n",
        "dendrogram(hier_clust,\n",
        "           truncate_mode = 'level', \n",
        "           p = 5, \n",
        "           show_leaf_counts = False, \n",
        "           no_labels = True)\n",
        "plt.show()"
      ],
      "metadata": {
        "colab": {
          "base_uri": "https://localhost:8080/",
          "height": 550
        },
        "id": "KsEPdZyC8vUR",
        "outputId": "dac49680-84b1-4838-fd68-22e4bcd6767d"
      },
      "execution_count": 59,
      "outputs": [
        {
          "output_type": "display_data",
          "data": {
            "text/plain": [
              "<Figure size 864x648 with 1 Axes>"
            ],
            "image/png": "[encoded data removed]"
          },
          "metadata": {
            "needs_background": "light"
          }
        }
      ]
    },
    {
      "cell_type": "code",
      "source": [
        "from sklearn.cluster import KMeans\n",
        "from sklearn.decomposition import PCA"
      ],
      "metadata": {
        "id": "7Ebx5fcxbTWL"
      },
      "execution_count": 60,
      "outputs": []
    },
    {
      "cell_type": "code",
      "source": [
        "# Perform K-means clustering. We consider 1 to 10 clusters, so our for loop runs 10 iterations.\n",
        "wcss = []\n",
        "for i in range(1,10):\n",
        "    kmeans = KMeans(n_clusters = i, init = 'k-means++', random_state = 42)\n",
        "    kmeans.fit(heart_failure_std)\n",
        "    wcss.append(kmeans.inertia_)\n",
        "    \n",
        "# Plot the Within Cluster Sum of Squares for the different number of clusters.\n",
        "# From this plot we choose the number of clusters. \n",
        "plt.figure(figsize = (10,8))\n",
        "plt.plot(range(1, 10), wcss, marker = 'o', linestyle = '--')\n",
        "plt.xlabel('Number of Clusters')\n",
        "plt.ylabel('WCSS')\n",
        "plt.title('K-means Clustering')\n",
        "plt.show()"
      ],
      "metadata": {
        "colab": {
          "base_uri": "https://localhost:8080/",
          "height": 513
        },
        "id": "1ywXnkFS8vR4",
        "outputId": "f3d26e0b-1837-4bde-a8ef-33fa985eb11f"
      },
      "execution_count": 61,
      "outputs": [
        {
          "output_type": "display_data",
          "data": {
            "text/plain": [
              "<Figure size 720x576 with 1 Axes>"
            ],
            "image/png": "[encoded data removed]"
          },
          "metadata": {
            "needs_background": "light"
          }
        }
      ]
    },
    {
      "cell_type": "code",
      "source": [
        "#reducing the dimensionality \n",
        "# Using PCA to find a subset of components.\n",
        "pca = PCA()\n",
        "# Fitting PCA with our standardized data.\n",
        "pca.fit(heart_failure_std)\n",
        "# These attributes shows how much variance is explained by each of the seven individual components.\n",
        "pca.explained_variance_ratio_\n",
        "# We can choose three components. \n",
        "pca = PCA(n_components = 2)\n",
        "#Fitting the model of the data with the selected number of components previously selected in the cell above.\n",
        "pca.fit(heart_failure_std)\n",
        "# we can discucss the results from the PCA here.\n",
        "pca.components_\n",
        "df_Pca_Comp = pd.DataFrame(data = pca.components_,\n",
        "                           columns = df.columns.values,\n",
        "                           index = ['Component 1', 'Component 2'])\n",
        "df_Pca_Comp\n",
        "# Heat Map for Principal Components against existing features. \n",
        "# Here the viridis color scheme will be used and set borders to -1 and 1.\n",
        "sns.heatmap(df_Pca_Comp,\n",
        "            vmin = -1, \n",
        "            vmax = 1,\n",
        "            cmap = 'viridis',\n",
        "            annot = True)\n",
        "plt.yticks([0, 1], \n",
        "           ['Component 1', 'Component 2'],\n",
        "           rotation = 45,\n",
        "           fontsize = 9)\n"
      ],
      "metadata": {
        "colab": {
          "base_uri": "https://localhost:8080/",
          "height": 380
        },
        "id": "7pZpeOn68vPa",
        "outputId": "37dc30db-cf6b-44fa-afe8-0bf3441b38f1"
      },
      "execution_count": 62,
      "outputs": [
        {
          "output_type": "error",
          "ename": "ValueError",
          "evalue": "ignored",
          "traceback": [
            "\u001b[0;31m---------------------------------------------------------------------------\u001b[0m",
            "\u001b[0;31mValueError\u001b[0m                                Traceback (most recent call last)",
            "\u001b[0;32m<ipython-input-62-7b9ac92e8b3a>\u001b[0m in \u001b[0;36m<module>\u001b[0;34m()\u001b[0m\n\u001b[1;32m     14\u001b[0m df_Pca_Comp = pd.DataFrame(data = pca.components_,\n\u001b[1;32m     15\u001b[0m                            \u001b[0mcolumns\u001b[0m \u001b[0;34m=\u001b[0m \u001b[0mdf\u001b[0m\u001b[0;34m.\u001b[0m\u001b[0mcolumns\u001b[0m\u001b[0;34m.\u001b[0m\u001b[0mvalues\u001b[0m\u001b[0;34m,\u001b[0m\u001b[0;34m\u001b[0m\u001b[0;34m\u001b[0m\u001b[0m\n\u001b[0;32m---> 16\u001b[0;31m                            index = ['Component 1', 'Component 2'])\n\u001b[0m\u001b[1;32m     17\u001b[0m \u001b[0mdf_Pca_Comp\u001b[0m\u001b[0;34m\u001b[0m\u001b[0;34m\u001b[0m\u001b[0m\n\u001b[1;32m     18\u001b[0m \u001b[0;31m# Heat Map for Principal Components against existing features.\u001b[0m\u001b[0;34m\u001b[0m\u001b[0;34m\u001b[0m\u001b[0;34m\u001b[0m\u001b[0m\n",
            "\u001b[0;32m/usr/local/lib/python3.7/dist-packages/pandas/core/frame.py\u001b[0m in \u001b[0;36m__init__\u001b[0;34m(self, data, index, columns, dtype, copy)\u001b[0m\n\u001b[1;32m    676\u001b[0m                     \u001b[0mdtype\u001b[0m\u001b[0;34m=\u001b[0m\u001b[0mdtype\u001b[0m\u001b[0;34m,\u001b[0m\u001b[0;34m\u001b[0m\u001b[0;34m\u001b[0m\u001b[0m\n\u001b[1;32m    677\u001b[0m                     \u001b[0mcopy\u001b[0m\u001b[0;34m=\u001b[0m\u001b[0mcopy\u001b[0m\u001b[0;34m,\u001b[0m\u001b[0;34m\u001b[0m\u001b[0;34m\u001b[0m\u001b[0m\n\u001b[0;32m--> 678\u001b[0;31m                     \u001b[0mtyp\u001b[0m\u001b[0;34m=\u001b[0m\u001b[0mmanager\u001b[0m\u001b[0;34m,\u001b[0m\u001b[0;34m\u001b[0m\u001b[0;34m\u001b[0m\u001b[0m\n\u001b[0m\u001b[1;32m    679\u001b[0m                 )\n\u001b[1;32m    680\u001b[0m \u001b[0;34m\u001b[0m\u001b[0m\n",
            "\u001b[0;32m/usr/local/lib/python3.7/dist-packages/pandas/core/internals/construction.py\u001b[0m in \u001b[0;36mndarray_to_mgr\u001b[0;34m(values, index, columns, dtype, copy, typ)\u001b[0m\n\u001b[1;32m    322\u001b[0m     )\n\u001b[1;32m    323\u001b[0m \u001b[0;34m\u001b[0m\u001b[0m\n\u001b[0;32m--> 324\u001b[0;31m     \u001b[0m_check_values_indices_shape_match\u001b[0m\u001b[0;34m(\u001b[0m\u001b[0mvalues\u001b[0m\u001b[0;34m,\u001b[0m \u001b[0mindex\u001b[0m\u001b[0;34m,\u001b[0m \u001b[0mcolumns\u001b[0m\u001b[0;34m)\u001b[0m\u001b[0;34m\u001b[0m\u001b[0;34m\u001b[0m\u001b[0m\n\u001b[0m\u001b[1;32m    325\u001b[0m \u001b[0;34m\u001b[0m\u001b[0m\n\u001b[1;32m    326\u001b[0m     \u001b[0;32mif\u001b[0m \u001b[0mtyp\u001b[0m \u001b[0;34m==\u001b[0m \u001b[0;34m\"array\"\u001b[0m\u001b[0;34m:\u001b[0m\u001b[0;34m\u001b[0m\u001b[0;34m\u001b[0m\u001b[0m\n",
            "\u001b[0;32m/usr/local/lib/python3.7/dist-packages/pandas/core/internals/construction.py\u001b[0m in \u001b[0;36m_check_values_indices_shape_match\u001b[0;34m(values, index, columns)\u001b[0m\n\u001b[1;32m    391\u001b[0m         \u001b[0mpassed\u001b[0m \u001b[0;34m=\u001b[0m \u001b[0mvalues\u001b[0m\u001b[0;34m.\u001b[0m\u001b[0mshape\u001b[0m\u001b[0;34m\u001b[0m\u001b[0;34m\u001b[0m\u001b[0m\n\u001b[1;32m    392\u001b[0m         \u001b[0mimplied\u001b[0m \u001b[0;34m=\u001b[0m \u001b[0;34m(\u001b[0m\u001b[0mlen\u001b[0m\u001b[0;34m(\u001b[0m\u001b[0mindex\u001b[0m\u001b[0;34m)\u001b[0m\u001b[0;34m,\u001b[0m \u001b[0mlen\u001b[0m\u001b[0;34m(\u001b[0m\u001b[0mcolumns\u001b[0m\u001b[0;34m)\u001b[0m\u001b[0;34m)\u001b[0m\u001b[0;34m\u001b[0m\u001b[0;34m\u001b[0m\u001b[0m\n\u001b[0;32m--> 393\u001b[0;31m         \u001b[0;32mraise\u001b[0m \u001b[0mValueError\u001b[0m\u001b[0;34m(\u001b[0m\u001b[0;34mf\"Shape of passed values is {passed}, indices imply {implied}\"\u001b[0m\u001b[0;34m)\u001b[0m\u001b[0;34m\u001b[0m\u001b[0;34m\u001b[0m\u001b[0m\n\u001b[0m\u001b[1;32m    394\u001b[0m \u001b[0;34m\u001b[0m\u001b[0m\n\u001b[1;32m    395\u001b[0m \u001b[0;34m\u001b[0m\u001b[0m\n",
            "\u001b[0;31mValueError\u001b[0m: Shape of passed values is (2, 7), indices imply (2, 13)"
          ]
        }
      ]
    },
    {
      "cell_type": "markdown",
      "source": [
        "##Data analysis and charts"
      ],
      "metadata": {
        "id": "QEbj_tivBORJ"
      }
    },
    {
      "cell_type": "code",
      "source": [
        "df.columns"
      ],
      "metadata": {
        "colab": {
          "base_uri": "https://localhost:8080/"
        },
        "id": "J1_yqCaI8vMp",
        "outputId": "dd7edddb-0de0-4fe5-929b-275a3056e868"
      },
      "execution_count": null,
      "outputs": [
        {
          "output_type": "execute_result",
          "data": {
            "text/plain": [
              "Index(['age', 'anaemia', 'creatinine_phosphokinase', 'diabetes',\n",
              "       'ejection_fraction', 'high_blood_pressure', 'platelets',\n",
              "       'serum_creatinine', 'serum_sodium', 'sex', 'smoking', 'DEATH_EVENT'],\n",
              "      dtype='object')"
            ]
          },
          "metadata": {},
          "execution_count": 11
        }
      ]
    },
    {
      "cell_type": "code",
      "source": [
        "corr = pd.DataFrame(df).corr()\n",
        "heatmap = sns.heatmap(corr)\n",
        "plt.show()"
      ],
      "metadata": {
        "colab": {
          "base_uri": "https://localhost:8080/",
          "height": 389
        },
        "id": "lpQJLaVV8vKD",
        "outputId": "438aada1-c6bc-4bb5-bb25-c282fc11cadd"
      },
      "execution_count": null,
      "outputs": [
        {
          "output_type": "display_data",
          "data": {
            "text/plain": [
              "<Figure size 432x288 with 2 Axes>"
            ],
            "image/png": "[encoded data removed]"
          },
          "metadata": {
            "needs_background": "light"
          }
        }
      ]
    },
    {
      "cell_type": "code",
      "source": [
        "import plotly.graph_objects as go\n",
        "%matplotlib inline"
      ],
      "metadata": {
        "id": "WSdifK4qDshL"
      },
      "execution_count": null,
      "outputs": []
    },
    {
      "cell_type": "code",
      "source": [
        "high_blood = [1,0]\n",
        "high_blood_occurences = df['high_blood_pressure'].value_counts(1)"
      ],
      "metadata": {
        "id": "3r-hsCWeVYZI"
      },
      "execution_count": null,
      "outputs": []
    },
    {
      "cell_type": "code",
      "source": [
        ""
      ],
      "metadata": {
        "id": "CpH6jZzvakLg"
      },
      "execution_count": null,
      "outputs": []
    },
    {
      "cell_type": "code",
      "source": [
        ""
      ],
      "metadata": {
        "id": "Gt7qiGmhYqGp"
      },
      "execution_count": null,
      "outputs": []
    },
    {
      "cell_type": "code",
      "source": [
        "df.shape"
      ],
      "metadata": {
        "colab": {
          "base_uri": "https://localhost:8080/"
        },
        "id": "addm3LTgdzCO",
        "outputId": "adc902ec-952d-4c5c-eaf3-9f6fee3802e4"
      },
      "execution_count": null,
      "outputs": [
        {
          "output_type": "execute_result",
          "data": {
            "text/plain": [
              "(299, 12)"
            ]
          },
          "metadata": {},
          "execution_count": 73
        }
      ]
    },
    {
      "cell_type": "code",
      "source": [
        "df_cluster = df.iloc[:,299:12].values"
      ],
      "metadata": {
        "id": "dSIQCyktYqDJ"
      },
      "execution_count": null,
      "outputs": []
    },
    {
      "cell_type": "code",
      "source": [
        "from sklearn.cluster import KMeans\n",
        "modelokm = KMeans(n_clusters = 2)\n",
        "modelokm = modelokm.fit(df)\n",
        "modelokm.cluster_centers_"
      ],
      "metadata": {
        "colab": {
          "base_uri": "https://localhost:8080/"
        },
        "id": "lq7EjYckYqAO",
        "outputId": "c0ade8ae-c73d-4726-dc81-66e9e3a332ac"
      },
      "execution_count": null,
      "outputs": [
        {
          "output_type": "execute_result",
          "data": {
            "text/plain": [
              "array([[6.10883205e+01, 4.23076923e-01, 5.69085470e+02, 4.01709402e-01,\n",
              "        3.79401709e+01, 3.33333333e-01, 2.26025858e+05, 1.39205128e+00,\n",
              "        1.36444444e+02, 6.75213675e-01, 3.16239316e-01, 3.07692308e-01],\n",
              "       [5.99179538e+01, 4.61538462e-01, 6.27753846e+02, 4.76923077e-01,\n",
              "        3.86000000e+01, 4.15384615e-01, 3.97753846e+05, 1.40046154e+00,\n",
              "        1.37276923e+02, 5.53846154e-01, 3.38461538e-01, 3.69230769e-01]])"
            ]
          },
          "metadata": {},
          "execution_count": 98
        }
      ]
    },
    {
      "cell_type": "code",
      "source": [
        "# Mostra a quantidade de clusters\n",
        "modelokm.n_clusters"
      ],
      "metadata": {
        "colab": {
          "base_uri": "https://localhost:8080/"
        },
        "id": "bfzKuQXWYp9m",
        "outputId": "806fe1fc-5607-4e66-8c8f-fb25a2c65c12"
      },
      "execution_count": null,
      "outputs": [
        {
          "output_type": "execute_result",
          "data": {
            "text/plain": [
              "2"
            ]
          },
          "metadata": {},
          "execution_count": 99
        }
      ]
    },
    {
      "cell_type": "code",
      "source": [
        "# Mostra as labels\n",
        "labels = modelokm.labels_\n",
        "labels "
      ],
      "metadata": {
        "colab": {
          "base_uri": "https://localhost:8080/"
        },
        "id": "_qfaGQBSYp7C",
        "outputId": "decab350-4ca8-4e19-f295-61215d83f245"
      },
      "execution_count": null,
      "outputs": [
        {
          "output_type": "execute_result",
          "data": {
            "text/plain": [
              "array([0, 0, 0, 0, 1, 0, 0, 1, 0, 1, 1, 0, 0, 0, 1, 0, 0, 0, 0, 0, 0, 0,\n",
              "       0, 1, 0, 0, 0, 0, 0, 0, 0, 1, 1, 0, 0, 0, 0, 1, 0, 1, 0, 0, 0, 0,\n",
              "       0, 0, 0, 1, 0, 1, 0, 1, 0, 1, 0, 1, 0, 0, 1, 0, 1, 0, 0, 1, 0, 0,\n",
              "       0, 0, 0, 1, 1, 0, 0, 0, 0, 0, 1, 0, 0, 1, 0, 0, 0, 0, 0, 1, 0, 0,\n",
              "       0, 0, 0, 0, 0, 0, 1, 0, 0, 0, 1, 0, 0, 0, 0, 0, 0, 1, 0, 0, 0, 1,\n",
              "       0, 0, 0, 1, 1, 0, 0, 1, 0, 0, 0, 0, 0, 0, 0, 0, 0, 0, 0, 0, 0, 0,\n",
              "       0, 0, 0, 0, 0, 0, 0, 0, 0, 1, 1, 0, 1, 0, 0, 0, 0, 0, 0, 0, 0, 0,\n",
              "       0, 0, 0, 0, 0, 1, 0, 0, 1, 0, 1, 0, 0, 0, 0, 0, 0, 1, 0, 0, 0, 1,\n",
              "       0, 0, 0, 0, 0, 0, 0, 0, 0, 1, 0, 1, 0, 0, 1, 0, 0, 0, 0, 0, 0, 0,\n",
              "       0, 0, 0, 1, 0, 0, 0, 1, 0, 0, 0, 0, 1, 0, 1, 0, 0, 0, 1, 0, 0, 1,\n",
              "       0, 0, 1, 0, 1, 0, 0, 0, 0, 0, 0, 0, 0, 1, 0, 1, 0, 0, 0, 0, 1, 0,\n",
              "       0, 0, 0, 0, 1, 0, 0, 0, 1, 0, 0, 0, 0, 1, 0, 0, 0, 0, 0, 0, 0, 0,\n",
              "       0, 1, 0, 0, 0, 0, 0, 0, 0, 0, 0, 1, 1, 0, 0, 1, 0, 0, 0, 0, 0, 1,\n",
              "       0, 1, 0, 1, 0, 0, 1, 0, 0, 0, 1, 0, 1], dtype=int32)"
            ]
          },
          "metadata": {},
          "execution_count": 100
        }
      ]
    },
    {
      "cell_type": "code",
      "source": [
        "# Faz a clusterização dos dados usando o modelo criado\n",
        "grupos = modelokm.predict(df)"
      ],
      "metadata": {
        "id": "QVGbBO0oYp4b"
      },
      "execution_count": null,
      "outputs": []
    },
    {
      "cell_type": "code",
      "source": [
        "# Mostra o Gráfico de Clusters\n",
        "sns.scatterplot(x=df[:,0], y=df[:,1], hue=labels)\n",
        "plt.show()"
      ],
      "metadata": {
        "colab": {
          "base_uri": "https://localhost:8080/",
          "height": 265
        },
        "id": "F18ElAtAYp1-",
        "outputId": "fdebf4be-72bc-4005-d1cb-2aa3265f3e8c"
      },
      "execution_count": null,
      "outputs": [
        {
          "output_type": "display_data",
          "data": {
            "image/png": "[encoded data removed]",
            "text/plain": [
              "<Figure size 432x288 with 1 Axes>"
            ]
          },
          "metadata": {
            "needs_background": "light"
          }
        }
      ]
    },
    {
      "cell_type": "code",
      "source": [
        ""
      ],
      "metadata": {
        "id": "d8AsJAKmcuys"
      },
      "execution_count": null,
      "outputs": []
    },
    {
      "cell_type": "code",
      "source": [
        ""
      ],
      "metadata": {
        "id": "fj-W67XifziN"
      },
      "execution_count": null,
      "outputs": []
    },
    {
      "cell_type": "code",
      "source": [
        ""
      ],
      "metadata": {
        "id": "H2rsGySmfzfT"
      },
      "execution_count": null,
      "outputs": []
    },
    {
      "cell_type": "code",
      "source": [
        ""
      ],
      "metadata": {
        "id": "D2cu60J5fzcm"
      },
      "execution_count": null,
      "outputs": []
    },
    {
      "cell_type": "code",
      "source": [
        "# synthetic classification dataset\n",
        "from numpy import where\n",
        "from sklearn.datasets import make_classification\n",
        "from matplotlib import pyplot\n",
        "# define dataset\n",
        "X, y = make_classification(n_samples=1000, n_features=2, n_informative=2, n_redundant=0, n_clusters_per_class=1, random_state=4)\n",
        "# create scatter plot for samples from each class\n",
        "for class_value in range(2):\n",
        "\t# get row indexes for samples with this class\n",
        "\trow_ix = where(y == class_value)\n",
        "\t# create scatter of these samples\n",
        "\tpyplot.scatter(X[row_ix, 0], X[row_ix, 1])\n",
        "# show the plot\n",
        "pyplot.show()"
      ],
      "metadata": {
        "colab": {
          "base_uri": "https://localhost:8080/",
          "height": 265
        },
        "id": "yGKq-j0dfzZr",
        "outputId": "afd1686f-d310-4a80-ca95-1ff97e5f916e"
      },
      "execution_count": null,
      "outputs": [
        {
          "output_type": "display_data",
          "data": {
            "image/png": "[encoded data removed]",
            "text/plain": [
              "<Figure size 432x288 with 1 Axes>"
            ]
          },
          "metadata": {
            "needs_background": "light"
          }
        }
      ]
    },
    {
      "cell_type": "code",
      "source": [
        ""
      ],
      "metadata": {
        "id": "XG1TERgifzW6"
      },
      "execution_count": null,
      "outputs": []
    },
    {
      "cell_type": "code",
      "source": [
        ""
      ],
      "metadata": {
        "id": "WqSmxdb6fzUm"
      },
      "execution_count": null,
      "outputs": []
    },
    {
      "cell_type": "code",
      "source": [
        ""
      ],
      "metadata": {
        "id": "28N4H_qqfzSD"
      },
      "execution_count": null,
      "outputs": []
    }
  ]
}